{
 "cells": [
  {
   "cell_type": "markdown",
   "id": "572a1bb7-d6d7-4d83-ae27-5531c3934593",
   "metadata": {},
   "source": [
    "# Measuring Voter Turnout among NYCHA Residents\n",
    "#### Last edited Monday, February 13, 2023 by Kyle Slugg"
   ]
  },
  {
   "cell_type": "markdown",
   "id": "ff916ae8-88fb-4439-91e2-3c73f7f52300",
   "metadata": {
    "tags": []
   },
   "source": [
    "### Mission and Purpose\n",
    "\n",
    "Following the passage and enactment on June 16, 2022 of The New York City Housing Authority (NYCHA) Public Housing Preservation Trust Act (NY State Bill A7805D/S9409A, referred to here as the \"Trust Act\"), NYCHA is working quickly to bring the Trust -- an entirely new legal entity -- into being. In order to ensure that current public housing residents are comfortable with the tenancy protections they will recieve after their developments of residents are transferred to the Trust (protections which are identical to those enjoyed under current NYCHA leases), residents must authorize such a transfer (or a transfer to any other program, including PACT, NYCHA's implementation of Rental Assistance Demonstration (RAD)) through a voting process.\n",
    "\n",
    "NYCHA is directed to finalize and distribute the rules by which such a vote will be held and processed within 120 days of passage. At present, the largest outstanding issue is that of representativeness: in order for a vote to be valid, how many residents at a given development must participate?\n",
    "\n",
    "Arriving at an appropriate threshold requires balancing multiple, often competing considerations. Among them:\n",
    "- **Statistical representativeness** (i.e., securing a subset of voters large enough that their preferences can be assumed to represent those of the development as a whole)\n",
    "- **Apparent fairness** (i.e., securing a large-enough group that most residents of a development view the vote outcome as legitimacy)\n",
    "- **Achievability** (i.e., ensuring that any turnout requirement can reasonably be met in the context of NYCHA developments)\n",
    "\n",
    "This analysis is intended to determine what thresholds conform to the third factor: based on voter turnout in other scenarios, what share of residents can we reasonably expect to participate in a vote on whether to enter the Trust?\n",
    "\n",
    "### Representative Output\n",
    "The deck below represents a typical deployment of this analysis, in the context of a working group devoted to elements of the Trust voting process. Slides and content, including GIS maps of NYCHA developments, are my own.\n",
    "\n",
    "\n",
    "\n",
    "### Data Sources\n",
    "\n",
    "Determining voter turnout rates at NYCHA developments in particular (as opposed to city-wide) for federal, state, and New York City municipal elections requires linking several data sources, as follows:\n",
    "\n",
    "- **Voter records**\n",
    "    - Provided by New York State Board of Elections in August 2022 under the Freedom of Information Law\n",
    "    - Contains one line per voter record, uniquely identified by the SBOEID field, with other key fields including name and address components and a list of elections for which votes have been recorded\n",
    "   \n",
    "\n",
    "- **Address records**\n",
    "    - *Base dataset* -- a list of addresses associated with NYCHA stairhalls (i.e., residential building entrances) obtained from NYCHA's Data Warehouse. Used to produce a unique list of \"BBL\" values (Borough-Block-Lot, referring to NYC's system of unique parcel identifiers).\n",
    "    - *Citywide address guide* -- a system of tables identifying unique street addresses, street address ranges, and alternative address identifiers associated with each BBL value citywide. Used to enrich NYCHA's standard list of residential addresses with alternative identifiers that may be present in voter records (which rely on self-reported addresses).\n",
    "   \n",
    "\n",
    "- **NYCHA official resident counts**\n",
    "    - Official counts of authorized NYCHA residents at each development, alongside a count of authorized residents at or over 18 years of age and therefore eligible to vote. Counts current as of August 2022.\n",
    "    \n",
    "\n",
    "Several other datasources, although not strictly necessary, are also used to either accelerate or enrich analysis of these primary sources.\n",
    "\n",
    "- **Geodata**\n",
    "    - *NYCHA building and development footprints* -- Esri ShapeFiles containing footprints of NYCHA buildings, as well as the NYCHA developments that comprise them.\n",
    "    - *New York City electoral districts* -- geographic divisions containing several blocks that form the basis for all political districts (state, local, and federal) contained within New York City.\n",
    "    - *State, Federal, and Local political districts* -- district boundaries associated with the New York City Council, State Assembly, and U.S. House of Representatives.\n",
    "\n",
    "\n",
    "### Overview of Methods\n",
    "At the highest level, computing voter turnout (for any geography) follows a simple process:\n",
    "1) Working from a basic list of addresses and, optionally, geographic information, isolate addresses contained within the area of interest.\n",
    "2) Enrich the above address list with any and all alternative addresses corresponding to the same physical location, including those using alternative address numbers (when a location is represented by an address range) as well as those using alternative street identifiers.\n",
    "3) Using any scheme of choice, standardize addresses in the enriched address set and the relevant voter records to facilitate address matching.\n",
    "4) Match voter addresses to the list of enriched addresses representing the selected geographic area (in this analysis, matching on address components is used). Verify match quality as appropriate.\n",
    "5) Remove or merge duplicate voter records as appropriate\n",
    "6) Generate indicators for voters' presence or absence in each election of interest\n",
    "7) Using vote counts for each relevant election and a denominator of choice, compute turnout percentages.\n",
    "\n",
    "The following workflow implements this process for the above data sources, ultimately producing turnout as a percentage of registered voters for each election in BOE records and at each NYCHA development.\n"
   ]
  },
  {
   "cell_type": "markdown",
   "id": "5d43b59b-b20b-429c-8044-6a777d846a18",
   "metadata": {
    "tags": []
   },
   "source": [
    "### Annotated Analytical Workflow"
   ]
  },
  {
   "cell_type": "code",
   "execution_count": null,
   "id": "35b73632-8e7d-456b-bd66-48b36cd55353",
   "metadata": {
    "tags": []
   },
   "outputs": [],
   "source": [
    "#If needed, can be installed using conda\n",
    "import numpy as np\n",
    "import pandas as pd\n",
    "import csv\n",
    "from io import TextIOWrapper, BytesIO\n",
    "import regex as re\n",
    "from tqdm import tqdm\n",
    "import glob\n",
    "import seaborn as sns\n",
    "import gc\n",
    "\n",
    "#Install using pip if not present\n",
    "import zipfile_deflate64 as zipfile\n",
    "import recordlinkage\n",
    "\n",
    "pd.set_option('display.max_columns',None)\n",
    "pd.set_option('display.max_rows',30)\n",
    "tqdm.pandas()"
   ]
  },
  {
   "cell_type": "markdown",
   "id": "18469823-15bb-4dfe-b0dd-64a72994bd63",
   "metadata": {
    "tags": []
   },
   "source": [
    "#### Load and process voter records"
   ]
  },
  {
   "cell_type": "code",
   "execution_count": null,
   "id": "a249b785-2ce5-4bcf-bd48-cf4b8499cd1e",
   "metadata": {
    "tags": []
   },
   "outputs": [],
   "source": [
    "voters = zipfile.ZipFile('DATA/AllNYSVoters_20220711.zip')\n",
    "test_df = pd.DataFrame()\n",
    "\n",
    "def read_in_chunks(file_object, chunk_size=1024):\n",
    "    \"\"\"Lazy function (generator) to read a file piece by piece.\n",
    "    Default chunk size: 1k.\"\"\"\n",
    "    while True:\n",
    "        data = file_object.readlines(chunk_size)\n",
    "        if not data:\n",
    "            break\n",
    "        yield data\n",
    "        \n",
    "\n",
    "def process_csv_chunk(chunk, column_names, filter_col = None, filter_list = None):\n",
    "    chunk_data = [row.decode('latin') for row in chunk]\n",
    "    chunk_reader = csv.reader(chunk_data)\n",
    "    \n",
    "    interim_df = pd.DataFrame(data=[line for line in chunk_reader], columns=column_names)\n",
    "    \n",
    "    #Create NYC Electoral District number by appending Assembly Dist. and Electoral Dist. fields\n",
    "    interim_df['FULL_ED'] = interim_df['AD']+interim_df['ED'].apply(lambda x: str(x).zfill(3))\n",
    "    \n",
    "    if filter_col is not None:\n",
    "        interim_df = interim_df[interim_df[filter_col].apply(lambda x: str(x).replace('\"','') in filter_list)]\n",
    "    \n",
    "    return interim_df"
   ]
  },
  {
   "cell_type": "markdown",
   "id": "bf1ab35d-21c9-40ef-aa33-2c2781796375",
   "metadata": {},
   "source": [
    "##### For ease of additional processing, discard all voter records that do not correspond to electoral districts that contain, in part or whole, NYCHA developments"
   ]
  },
  {
   "cell_type": "code",
   "execution_count": null,
   "id": "ee56bfd0-52df-4ab1-af11-15f925da446b",
   "metadata": {
    "tags": []
   },
   "outputs": [],
   "source": [
    "#Columns entered manually from data dictionary packaged with voter file\n",
    "cols = ['LASTNAME','FIRSTNAME','MIDDLENAME','NAMESUFFIX',\n",
    "        'RADDNUMBER','RHALFCODE','RPREDIRECTION','RSTREETNAME',\n",
    "        'RPOSTDIRECTION', 'RAPARTMENTTYPE', 'RAPARTMENT', 'RADDRNONSTD','RCITY','RZIP5','RZIP4',\n",
    "        'MAILADD1','MAILADD2','MAILADD3','MAILADD4',\n",
    "        'DOB','GENDER','ENROLLMENT','OTHERPARTY',\n",
    "        'COUNTYCODE','ED','LD','TOWNCITY','WARD','CD','SD','AD',\n",
    "        'LASTVOTEDDATE','PREVYEARVOTED','PREVCOUNTY','PREVADDRESS','PREVNAME',\n",
    "        'COUNTYVRNUMBER','REGDATE','VRSOURCE','IDREQUIRED','IDMET',\n",
    "        'STATUS','REASONCODE','INACT_DATE','PURGE_DATE','SBOEID','VoterHistory']\n",
    "\n",
    "#List of NYCHA electoral districts obtained using QGIS, by intersection of NYCHA developments layer\n",
    "#with ED layer, and converted to string for use in filtering. Read in NYCHA election districts from various \n",
    "#versions of the district shapefile (21D through 22A2) to account for shifting district lines \n",
    "#post-redistricting and lag in SBOE data updates\n",
    "\n",
    "#In dataset, field 'FULL_ED' is obtained by concatenating assembly district and local ED (zero-padded \n",
    "#to three characters)\n",
    "\n",
    "    \n",
    "filelist = glob.glob('Data/2022_EDs/*.xlsx')\n",
    "\n",
    "distlist = pd.DataFrame()\n",
    "\n",
    "for file in filelist:\n",
    "    newlist = pd.read_excel(file)\n",
    "    distlist = pd.concat([distlist, newlist])\n",
    "    \n",
    "nycha_distlist_2022 = set(distlist['ElectDist'].astype(str).unique())\n",
    "\n",
    "#If isolating all NYC registered voters for purposes of comparison, the appropriate filter column\n",
    "#is COUNTYCODE, and the appropriate filter set is:\n",
    "nyc_counties = set(['31', '24', '41', '03', '43'])"
   ]
  },
  {
   "cell_type": "code",
   "execution_count": null,
   "id": "23734b8c-2fe4-43fd-b4bd-fb789917f33c",
   "metadata": {
    "tags": []
   },
   "outputs": [],
   "source": [
    "with voters.open('AllNYSVoters_20220711.txt','r') as file_handle:\n",
    "    #cols_line = file_handle.readline().decode('utf-8')\n",
    "    #cols = [re.sub(r'[\\s\\'\\\"]+','',col).strip() for col in cols_line.split(',')]\n",
    "    #print(cols)\n",
    "    base_df = pd.DataFrame(columns=cols)\n",
    "    n=0\n",
    "    \n",
    "    for chunk in tqdm(read_in_chunks(file_handle, chunk_size=10000000)):\n",
    "        n+=1\n",
    "        if n%20 == 0:\n",
    "            if base_df.shape[0] > 0:\n",
    "                base_df.reset_index().drop(columns='index').to_json(f'Data/Intermediaries/clean_segments/iter_{str(n).zfill(3)}.json')\n",
    "                base_df = pd.DataFrame(columns=cols)\n",
    "                \n",
    "        base_df = pd.concat([base_df, process_csv_chunk(chunk, cols, filter_col='FULL_ED', filter_list = nycha_distlist_2022)], axis=0)\n",
    "    \n",
    "    #To account for remaining rows after last output\n",
    "    base_df.reset_index().drop(columns='index').to_json(f'Data/Intermediaries/clean_segments/iter_FINAL.json')\n",
    "    "
   ]
  },
  {
   "cell_type": "code",
   "execution_count": null,
   "id": "0c1f38c4-d334-4b6d-a10c-0e3c24fb9e71",
   "metadata": {
    "tags": []
   },
   "outputs": [],
   "source": [
    "caches = glob.iglob('Data/Intermediaries/clean_segments/*')\n",
    "\n",
    "full_df = pd.DataFrame(columns=cols)\n",
    "\n",
    "for file in tqdm(caches):\n",
    "    segment_df = pd.read_json(file)\n",
    "    full_df = pd.concat([full_df, segment_df], axis=0)"
   ]
  },
  {
   "cell_type": "markdown",
   "id": "63b0dde4-af47-4c29-8924-e049faa3b801",
   "metadata": {},
   "source": [
    "##### Clean and convert various fields:\n",
    "- BOROUGH: convert COUNTYCODE contained in voter file to NYC borough\n",
    "- RADDNUMBER, RSTREETNAME, BOROUGH: convert to string and remove whitespace\n",
    "- MOD_ADDRESS: combine address number, street prefixes, street names, and boroughs into a unique address identifier"
   ]
  },
  {
   "cell_type": "code",
   "execution_count": null,
   "id": "ba773aba-fc58-4ff8-9cea-72b62d4de39a",
   "metadata": {
    "tags": []
   },
   "outputs": [],
   "source": [
    "county_to_borough_dict = {31: 'MANHATTAN',\n",
    "                          24: 'BROOKLYN',\n",
    "                          41: 'QUEENS',\n",
    "                          3:  'BRONX',\n",
    "                          43: 'STATEN ISLAND'}\n",
    "full_df['BOROUGH'] = full_df['COUNTYCODE'].apply(lambda x: county_to_borough_dict[x])\n",
    "\n",
    "for col in ['RADDNUMBER','RSTREETNAME','BOROUGH']:\n",
    "    full_df[col] = full_df[col].apply(lambda x: str(x).strip())\n",
    "\n",
    "def get_mod_address_from_row(row):\n",
    "    address_string = ''\n",
    "    for col in ['RADDNUMBER','RPREDIRECTION','RSTREETNAME','BOROUGH']:\n",
    "        if row[col] is not None:\n",
    "            if col == 'RPREDIRECTION':\n",
    "                if str(row[col]).strip() != 'nan':\n",
    "                    address_string = address_string+str(row[col]).strip()\n",
    "                else:\n",
    "                    pass\n",
    "                \n",
    "            else:\n",
    "                address_string = address_string+str(row[col]).strip()\n",
    "                \n",
    "            if col in ['RSTREETNAME']:\n",
    "                address_string = address_string+', '\n",
    "            else:\n",
    "                address_string = address_string+' '\n",
    "    \n",
    "    return(address_string.strip()+', NY')\n",
    "            \n",
    "full_df['MOD_ADDRESS'] = full_df.progress_apply(lambda row: get_mod_address_from_row(row), axis=1)"
   ]
  },
  {
   "cell_type": "markdown",
   "id": "9c32044c-fafd-41f3-9cf7-97f254159d30",
   "metadata": {},
   "source": [
    "##### Write out to CSV for flexible workflow"
   ]
  },
  {
   "cell_type": "code",
   "execution_count": null,
   "id": "4a919a99-d163-403b-a5af-40bc79c380b7",
   "metadata": {
    "tags": []
   },
   "outputs": [],
   "source": [
    "full_df.reset_index().drop(columns='index').to_csv('Data/Intermediaries/NYCHA_DISTRICT_RECORDS_2022.csv')"
   ]
  },
  {
   "cell_type": "code",
   "execution_count": null,
   "id": "31429dc9-efef-4350-909d-580b00713aaa",
   "metadata": {
    "tags": []
   },
   "outputs": [],
   "source": [
    "gc.collect()"
   ]
  },
  {
   "cell_type": "markdown",
   "id": "e8e2c062-c03c-49a0-84f9-52c313c3bb59",
   "metadata": {
    "tags": []
   },
   "source": [
    "#### Locate full NYCHA address range from BBL"
   ]
  },
  {
   "cell_type": "code",
   "execution_count": null,
   "id": "908106e6-a075-4121-8f4b-42439a14e7f3",
   "metadata": {
    "tags": []
   },
   "outputs": [],
   "source": [
    "#The following files and associated documentation are found at:\n",
    "#https://www1.nyc.gov/site/planning/data-maps/open-data.page#pad\n",
    "#If direct link fails, search \"Property Address Directory\" on linked page\n",
    "\n",
    "bbl = pd.read_csv('Data/pad22a/bobabbl.txt')\n",
    "addr = pd.read_csv('Data/pad22a/bobaadr.txt')\n",
    "snd = pd.read_fwf('Data/pad22a/snd22Acow.txt', widths=[1,1,32,1,1,1,5,2,3,2,1,1,2,32,2,20,1,92])\n",
    "snd.columns = ['rectype','boro','stname','primary_flag','principal_flag','boro1','sc5','lgc','spv','filler','numeric_ind','GFT','len_full_name','full_stname','min_SNL','stn20','ht_name_type_code','filler']\n"
   ]
  },
  {
   "cell_type": "code",
   "execution_count": null,
   "id": "68a9d1c0-e1f6-4c25-bdfd-3b69025339bf",
   "metadata": {
    "tags": []
   },
   "outputs": [],
   "source": [
    "#bl_guide: contains official NYCHA stairhall addresses and associated BBL values\n",
    "bl_guide = pd.read_csv('Data/stairhalls.csv')\n",
    "bl_guide.columns = [col.upper() for col in bl_guide.columns]"
   ]
  },
  {
   "cell_type": "code",
   "execution_count": null,
   "id": "5fe44eac-44c7-40f3-88be-33ffbb12a9da",
   "metadata": {
    "tags": []
   },
   "outputs": [],
   "source": [
    "boro_num_dict = {'MANHATTAN': 1, 'BRONX': 2, 'BROOKLYN': 3, 'QUEENS': 4, 'STATEN ISLAND': 5}\n",
    "bl_guide['BORO'] = bl_guide['BOROUGH'].apply(lambda x: boro_num_dict[x])\n",
    "bl_guide['TDS_NUM'] = bl_guide['LOCATION'].apply(lambda x: int(x[:3]))"
   ]
  },
  {
   "cell_type": "code",
   "execution_count": null,
   "id": "286cfd3b-4104-4ed4-9c3f-6d2ad585b400",
   "metadata": {
    "tags": []
   },
   "outputs": [],
   "source": [
    "#Match building BBLs to Property Address Directory BBL table\n",
    "nycha_bbl = bbl.merge(bl_guide, how='outer', left_on=['boro','block','lot'], right_on=['BORO','BLOCK','LOT'], indicator=True)\n",
    "nycha_bbl = nycha_bbl[nycha_bbl['_merge'] == 'both']\n",
    "nycha_bbl = nycha_bbl[['TDS_NUM','boro','block','lot','numaddr', 'numbf']].drop_duplicates()"
   ]
  },
  {
   "cell_type": "code",
   "execution_count": null,
   "id": "16514009-fa33-456a-a267-41875763cdff",
   "metadata": {
    "tags": []
   },
   "outputs": [],
   "source": [
    "#Merge NYCHA BBLs one-to-many to PAD address table\n",
    "nycha_addr = nycha_bbl.merge(addr, how='outer', on=['boro','block','lot'])\n",
    "nycha_addr = nycha_addr[nycha_addr['TDS_NUM'].apply(lambda x: not pd.isna(x))]\n",
    "nycha_addr = nycha_addr.merge(snd, on=['boro','sc5'], how='inner')"
   ]
  },
  {
   "cell_type": "code",
   "execution_count": null,
   "id": "1b942abd-0751-40cd-b3cc-452a93be163c",
   "metadata": {
    "tags": []
   },
   "outputs": [],
   "source": [
    "#Screen out invalid address numbers/address ranges (those with GARAGE, etc.)\n",
    "\n",
    "def is_valid_address_number(value):\n",
    "    test_value = None\n",
    "    try:\n",
    "        test_value = int(str(value))\n",
    "    except:\n",
    "        return False\n",
    "    \n",
    "    if isinstance(test_value, int):\n",
    "        return True\n",
    "\n",
    "nycha_addr_ranges = nycha_addr[nycha_addr['lhnd'].apply(lambda x: is_valid_address_number(x))]\n",
    "nycha_addr_ranges = nycha_addr_ranges[['TDS_NUM','boro','block','lot',\n",
    "                                       'lhnd','lsos','hhnd','hsos','parity', 'stname_x', 'stname_y','addrtype','GFT']]"
   ]
  },
  {
   "cell_type": "code",
   "execution_count": null,
   "id": "8f16dad5-b080-4c39-bde7-0962c529fd96",
   "metadata": {
    "tags": []
   },
   "outputs": [],
   "source": [
    "#Create unique row for each address number in matching address ranges\n",
    "\n",
    "def expand_address_range(row):\n",
    "    start = int(row['lhnd'])\n",
    "    end = int(row['hhnd'])+1\n",
    "    parity = row['parity']\n",
    "    \n",
    "    if parity == 0:\n",
    "        return row\n",
    "    else:\n",
    "        address_range = list(range(start, end, 2))\n",
    "    \n",
    "    expanded_df = pd.DataFrame([row]*len(address_range), index=pd.RangeIndex(len(address_range)))\n",
    "    expanded_df['HOUSE_NUM'] = None\n",
    "    \n",
    "    for i in range(len(address_range)):\n",
    "        expanded_df.at[i,'HOUSE_NUM'] = address_range[i]\n",
    "        \n",
    "    return(expanded_df)\n"
   ]
  },
  {
   "cell_type": "code",
   "execution_count": null,
   "id": "a0bdc36a-7a24-4cd2-a80a-9f238122a994",
   "metadata": {
    "tags": []
   },
   "outputs": [],
   "source": [
    "nycha_addresses_expanded = pd.DataFrame()\n",
    "\n",
    "for row in tqdm(nycha_addr_ranges.drop_duplicates().iterrows()):\n",
    "    nycha_addresses_expanded = pd.concat([nycha_addresses_expanded, expand_address_range(row[1])])"
   ]
  },
  {
   "cell_type": "code",
   "execution_count": null,
   "id": "274cd02d-9df6-44d4-bc81-c700e4e81f5b",
   "metadata": {
    "tags": []
   },
   "outputs": [],
   "source": [
    "#Add borough names and standardize addresses\n",
    "boro_num_to_name_dict = {1: 'MANHATTAN',\n",
    "                         2: 'BRONX',\n",
    "                         3: 'BROOKLYN',\n",
    "                         4: 'QUEENS',\n",
    "                         5: 'STATEN ISLAND'}\n",
    "\n",
    "nycha_addresses_expanded['BOROUGH'] = nycha_addresses_expanded['boro'].apply(lambda x: boro_num_to_name_dict[x])\n",
    "nycha_addresses_expanded['STREET_NAME_STD'] = nycha_addresses_expanded['stname_y'].apply(lambda x: re.sub(r'(?<=[\\d]+)((TH)|(RD)|(ST)|(ND))', '', x.strip())).apply(lambda x: re.sub(r'[\\s]+', ' ', x))\n",
    "nycha_addresses_expanded['FULL_ADD'] = nycha_addresses_expanded['HOUSE_NUM'].apply(lambda x: str(x).strip())+' '+nycha_addresses_expanded['STREET_NAME_STD']+', '+nycha_addresses_expanded['BOROUGH']+', NY'"
   ]
  },
  {
   "cell_type": "code",
   "execution_count": null,
   "id": "6da05b1b-0a7d-4724-8296-279e4625e983",
   "metadata": {
    "tags": []
   },
   "outputs": [],
   "source": [
    "nycha_addr_full = nycha_addresses_expanded[['TDS_NUM', 'HOUSE_NUM', 'STREET_NAME_STD', 'BOROUGH', 'FULL_ADD']]"
   ]
  },
  {
   "cell_type": "markdown",
   "id": "71de1808-b5d6-409e-b665-fdf9b12bf928",
   "metadata": {},
   "source": [
    "##### Adding official NYCHA addresses to list, if not already contained"
   ]
  },
  {
   "cell_type": "code",
   "execution_count": null,
   "id": "420f8644-9e4b-4e93-9a93-4d5b2bef08e3",
   "metadata": {
    "tags": []
   },
   "outputs": [],
   "source": [
    "#Supplement with NYCHA addresses from PTAD shapefile (which lacks many intermediate address nums)\n",
    "nycha_addr_official = pd.read_csv('Data/STD_NYCHA/NYCHA_Address_Points.csv')\n",
    "nycha_addr_official['STREET_NAME_STD'] = nycha_addr_official['STREET'].apply(lambda x: re.sub(r'(?<=[\\d]+)((TH)|(RD)|(ST)|(ND))', '', x))\n",
    "nycha_addr_official['FULL_ADD'] = nycha_addr_official['HOUSE_NUM']+' '+nycha_addr_official['STREET_NAME_STD']+', '+nycha_addr_official['BOROUGH']+', NY'"
   ]
  },
  {
   "cell_type": "code",
   "execution_count": null,
   "id": "ef51bc8e-bfca-4d09-9c5c-50cf4f25f3f9",
   "metadata": {
    "tags": []
   },
   "outputs": [],
   "source": [
    "nycha_addr_full = pd.concat([nycha_addr_full, nycha_addr_official[['TDS_NUM', 'HOUSE_NUM', 'STREET_NAME_STD', 'BOROUGH', 'FULL_ADD']]])\n",
    "\n",
    "nycha_addr_full = nycha_addr_full.drop_duplicates(['HOUSE_NUM', 'STREET_NAME_STD', 'BOROUGH'])\n",
    "nycha_addr_full = nycha_addr_full.reset_index().drop(columns='index')\n",
    "                             "
   ]
  },
  {
   "cell_type": "markdown",
   "id": "392987bc-151c-4873-af62-3860017ead37",
   "metadata": {},
   "source": [
    "##### Manually adjusting select addresses"
   ]
  },
  {
   "cell_type": "code",
   "execution_count": null,
   "id": "7e86ec5b-4efc-40ca-b411-d596c06da471",
   "metadata": {
    "tags": []
   },
   "outputs": [],
   "source": [
    "#Add St. Nicholas Ave addresses\n",
    "stn_ave_addr = nycha_addr_full[nycha_addr_full['STREET_NAME_STD'].apply(lambda x: 'SAINT NICHOLAS' in x)].copy()\n",
    "stn_ave_addr['STREET_NAME_STD'] = 'ST NICHOLAS AVENUE'\n",
    "\n",
    "#Add 7th Ave addresses\n",
    "seventh_ave_addr = nycha_addr_full[nycha_addr_full['STREET_NAME_STD'].apply(lambda x: 'POWELL BOULEVARD' in x)].copy()\n",
    "acp_addr = seventh_ave_addr.copy()\n",
    "\n",
    "seventh_ave_addr['STREET_NAME_STD'] = '7 AVENUE'\n",
    "acp_addr['STREET_NAME_STD'] = 'ADAM CLAYTON POWELL BOULEVARD'\n",
    "\n",
    "#Add 8th Ave addresses\n",
    "eighth_ave_addr = nycha_addr_full[nycha_addr_full['STREET_NAME_STD'].apply(lambda x: 'FREDERICK DOUGLASS' in x)].copy()\n",
    "eighth_ave_addr['STREET_NAME_STD'] = '8 AVENUE'\n",
    "\n",
    "#Misc...\n",
    "w27 = nycha_addr_full[nycha_addr_full['STREET_NAME_STD'].apply(lambda x: 'WEST 27 DRIVE' in x)].copy()\n",
    "w27['STREET_NAME_STD'] = 'WEST 27 STREET DRIVE'\n",
    "\n",
    "ua1 = nycha_addr_full[nycha_addr_full['STREET_NAME_STD'].apply(lambda x: 'UNIVERSITY AVENUE' in x)].copy()\n",
    "ua2 = ua1.copy()\n",
    "ua1['STREET_NAME_STD'] = 'DR MARTIN L KING JR BOULEVARD'\n",
    "ua2['STREET_NAME_STD'] ='DR M L KING JR BOULEVARD'\n",
    "\n",
    "gb = nycha_addr_full[nycha_addr_full['STREET_NAME_STD'].apply(lambda x: 'GUY BREWER' in x)].copy()\n",
    "gb['STREET_NAME_STD'] = 'GUY R BREWER BOULEVARD'\n",
    "\n",
    "ftw = nycha_addr_full[nycha_addr_full['STREET_NAME_STD'].apply(lambda x: 'FORT WASHINGTON' in x)].copy()\n",
    "ftw['STREET_NAME_STD'] = 'FT WASHINGTON AVENUE'\n"
   ]
  },
  {
   "cell_type": "code",
   "execution_count": null,
   "id": "e7d6acc1-d700-4d04-bdba-3d1a51a7003e",
   "metadata": {
    "tags": []
   },
   "outputs": [],
   "source": [
    "#Put it all together...\n",
    "new_addr = pd.DataFrame()\n",
    "\n",
    "for df in [stn_ave_addr, seventh_ave_addr, acp_addr, eighth_ave_addr, w27, ua1, ua2, gb, ftw]:\n",
    "    new_addr = pd.concat([new_addr, df])\n",
    "    \n",
    "nycha_addr_full = pd.concat([nycha_addr_full, new_addr]).reset_index().drop(columns='index')"
   ]
  },
  {
   "cell_type": "code",
   "execution_count": null,
   "id": "d68552bc-41d5-48e8-a29a-c430d5c54a28",
   "metadata": {
    "tags": []
   },
   "outputs": [],
   "source": [
    "nycha_addr_full.to_csv('Data/Intermediaries/NYCHA_addr_full_OFFICIAL_PLUS_BBL.csv')"
   ]
  },
  {
   "cell_type": "markdown",
   "id": "c2bf16a7-b924-4988-8185-51635d5a0ad8",
   "metadata": {
    "tags": []
   },
   "source": [
    "#### Match voter file addresses and NYCHA addresses to isolate NYCHA voters"
   ]
  },
  {
   "cell_type": "markdown",
   "id": "8bd82452-7130-4d54-acfe-ac149f4abdeb",
   "metadata": {},
   "source": [
    "##### Reload datasets produced above"
   ]
  },
  {
   "cell_type": "code",
   "execution_count": null,
   "id": "1cd4cfeb-952d-4ec0-a668-198e5afbc815",
   "metadata": {
    "tags": []
   },
   "outputs": [],
   "source": [
    "#Load voter records from NYCHA electoral districts isolated above, alongside addresses\n",
    "nycha_addr_full = pd.read_csv('Data/Intermediaries/NYCHA_addr_full_OFFICIAL_PLUS_BBL.csv', index_col=0)\n",
    "for col in nycha_addr_full.columns:\n",
    "    nycha_addr_full[col] = nycha_addr_full[col].apply(lambda x: re.sub(r'[\\s]+', ' ', str(x)).strip())\n",
    "\n",
    "nycha_addr_full['TDS_NUM'] = nycha_addr_full['TDS_NUM'].astype(float).astype(int)\n",
    "\n",
    "full_df = pd.read_csv('Data/Intermediaries/NYCHA_DISTRICT_RECORDS_2022.csv', index_col = 0)\n",
    "for col in ['RADDNUMBER', 'RSTREETNAME', 'BOROUGH']:\n",
    "    full_df[col] = full_df[col].apply(lambda x: re.sub(r'[\\s]+', ' ', str(x)).strip())\n"
   ]
  },
  {
   "cell_type": "markdown",
   "id": "668446a8-1bd4-4695-be1b-d2d55610bacc",
   "metadata": {},
   "source": [
    "##### Set up index using Record Linkage Toolkit\n",
    "\n",
    "Here, match exactly on Borough and Address number, while allowing minor variations in street spellings"
   ]
  },
  {
   "cell_type": "code",
   "execution_count": null,
   "id": "99ab6cd0-17a4-4a58-9d79-a34797a144ca",
   "metadata": {
    "tags": []
   },
   "outputs": [],
   "source": [
    "indexer = recordlinkage.Index()\n",
    "indexer.block(left_on=['BOROUGH','RADDNUMBER'], right_on=['BOROUGH','HOUSE_NUM'])\n",
    "\n",
    "candidates = indexer.index(full_df, nycha_addr_full)"
   ]
  },
  {
   "cell_type": "code",
   "execution_count": null,
   "id": "539828c1-020c-4b49-96ce-320939092cca",
   "metadata": {
    "tags": []
   },
   "outputs": [],
   "source": [
    "compare = recordlinkage.Compare()\n",
    "\n",
    "compare.string('RSTREETNAME','STREET_NAME_STD', threshold=1, label = 'STREET_NAME')"
   ]
  },
  {
   "cell_type": "markdown",
   "id": "42838e1a-6310-4e75-8e3d-06a729f3f951",
   "metadata": {},
   "source": [
    "##### Obtain matching records"
   ]
  },
  {
   "cell_type": "code",
   "execution_count": null,
   "id": "14a9cc1a-4711-42b9-b1a3-b429545be37a",
   "metadata": {
    "tags": []
   },
   "outputs": [],
   "source": [
    "#Obtain matching index pairs\n",
    "features = compare.compute(candidates, full_df, nycha_addr_full)\n",
    "print(features.shape)"
   ]
  },
  {
   "cell_type": "code",
   "execution_count": null,
   "id": "7b1fe454-d377-4e4b-9663-445c1d0f06ef",
   "metadata": {
    "tags": []
   },
   "outputs": [],
   "source": [
    "#Fetch information on matches for validation\n",
    "match_candidates = {'FULL_DF_MOD_ADDRESS':[], 'NYCHA_ADDRESSES_FULL_ADD':[], 'FULL_DF_IND':[], 'NYCHA_ADDRESS_IND':[]}\n",
    "\n",
    "for row in tqdm(features[features['STREET_NAME']>0].reset_index().iterrows()):\n",
    "    row_values = row[1]\n",
    "    full_add_ind = int(row_values['level_0'])\n",
    "    nycha_add_ind = int(row_values['level_1'])\n",
    "    \n",
    "    match_candidates['FULL_DF_MOD_ADDRESS'].append(full_df.iloc[full_add_ind]['MOD_ADDRESS'])\n",
    "    match_candidates['FULL_DF_IND'].append(full_add_ind)\n",
    "    match_candidates['NYCHA_ADDRESSES_FULL_ADD'].append(nycha_addr_full.iloc[nycha_add_ind]['FULL_ADD'])\n",
    "    match_candidates['NYCHA_ADDRESS_IND'].append(nycha_add_ind)"
   ]
  },
  {
   "cell_type": "code",
   "execution_count": null,
   "id": "a9e4dc97-cc12-4e63-bd91-17c588943889",
   "metadata": {
    "tags": []
   },
   "outputs": [],
   "source": [
    "match_df = pd.DataFrame(match_candidates)\n",
    "match_df.to_csv('Data/Intermediaries/_match_candidates_2022.csv')"
   ]
  },
  {
   "cell_type": "code",
   "execution_count": null,
   "id": "3f446e1b-0e7a-4991-a072-043beae332ac",
   "metadata": {},
   "outputs": [],
   "source": [
    "match_df = pd.read_csv('Data/Intermediaries/_match_candidates_2022.csv')"
   ]
  },
  {
   "cell_type": "code",
   "execution_count": null,
   "id": "1b496425-627b-4a03-81bf-819461873248",
   "metadata": {
    "tags": []
   },
   "outputs": [],
   "source": [
    "#Identify matched rows in voter file\n",
    "matched_voter_indices = set(match_df['FULL_DF_IND'])\n",
    "\n",
    "full_df_ind = full_df.copy()\n",
    "full_df_ind['_match'] = full_df.reset_index()['index'].progress_apply(lambda x: x in matched_voter_indices)"
   ]
  },
  {
   "cell_type": "code",
   "execution_count": null,
   "id": "e2dbc89f-a487-41ef-8238-dd956958a9a3",
   "metadata": {
    "tags": []
   },
   "outputs": [],
   "source": [
    "match_mapper = {}\n",
    "\n",
    "for row in tqdm(match_df.iterrows()):\n",
    "    row_data = row[1]\n",
    "    match_mapper[row_data['FULL_DF_IND']] = row_data['NYCHA_ADDRESS_IND']\n",
    "    "
   ]
  },
  {
   "cell_type": "markdown",
   "id": "f9b27a8f-6ce6-45f7-aa1a-2b2fb01c5dcc",
   "metadata": {},
   "source": [
    "##### Add NYCHA development information to matched addresses"
   ]
  },
  {
   "cell_type": "code",
   "execution_count": null,
   "id": "120401d8-10d2-48a2-861e-9c1f0d93d621",
   "metadata": {
    "tags": []
   },
   "outputs": [],
   "source": [
    "def get_matched_dev_info(base_df, mapper, supp_df):                 \n",
    "    supp_dict = {'VOTER_IND':[], 'NYCHA_IND':[], 'TDS':[], 'NYCHA_ADD':[]}\n",
    "    \n",
    "    matched_df = base_df.reset_index()\n",
    "    matched_df = matched_df[matched_df['_match']]\n",
    "    \n",
    "    matched_set = set(matched_df['index'])\n",
    "    unmatched_set = set(base_df.reset_index()['index'])-matched_set\n",
    "    \n",
    "    for row in tqdm(matched_df.iterrows()):\n",
    "        try:\n",
    "            index = row[1]['index']\n",
    "            supp_ind = mapper[index]\n",
    "            matching_row = supp_df.iloc[supp_ind]\n",
    "\n",
    "            supp_dict['VOTER_IND'].append(index)\n",
    "            supp_dict['NYCHA_IND'].append(supp_ind)\n",
    "            supp_dict['TDS'].append(matching_row['TDS_NUM'])\n",
    "            supp_dict['NYCHA_ADD'].append(matching_row['FULL_ADD'])\n",
    "        except:\n",
    "            pass\n",
    "\n",
    "    for index in unmatched_set:\n",
    "        supp_dict['VOTER_IND'].append(index)\n",
    "        for col in ['NYCHA_IND','TDS','NYCHA_ADD']:\n",
    "            supp_dict[col].append(None)\n",
    "            \n",
    "    return supp_dict\n",
    "\n",
    "supp_nycha_info = get_matched_dev_info(full_df_ind, match_mapper, nycha_addr_full)\n",
    "supp_nycha_df = pd.DataFrame(supp_nycha_info)"
   ]
  },
  {
   "cell_type": "code",
   "execution_count": null,
   "id": "85ec5d91-ac97-4f1b-b042-e7b5b3852f44",
   "metadata": {
    "tags": []
   },
   "outputs": [],
   "source": [
    "full_df_supp = full_df_ind.merge(supp_nycha_df, left_index=True, right_on = 'VOTER_IND')"
   ]
  },
  {
   "cell_type": "code",
   "execution_count": null,
   "id": "3cacf3ca-af57-4294-b2c6-3955317fcc20",
   "metadata": {
    "tags": []
   },
   "outputs": [],
   "source": [
    "nycha_voter_set = full_df_supp[full_df_supp['_match']]\n",
    "nycha_voter_set = nycha_voter_set.drop(columns=[col for col in nycha_voter_set.columns if 'Unnamed' in col])\n",
    "nycha_voter_set.to_csv('Data/Intermediaries/NYCHA_voter_set_strict.csv')"
   ]
  },
  {
   "cell_type": "markdown",
   "id": "a84439f0-e52b-4b93-a608-abfb6c12cc64",
   "metadata": {
    "tags": []
   },
   "source": [
    "#### Expand elections field to arrive at turnout rates by election"
   ]
  },
  {
   "cell_type": "code",
   "execution_count": null,
   "id": "a4e9d051-8b4c-49ec-b793-731c3f631a2f",
   "metadata": {
    "tags": []
   },
   "outputs": [],
   "source": [
    "nycha_voter_set = pd.read_csv('Data/Intermediaries/NYCHA_voter_set_strict.csv', index_col=0)\n",
    "\n",
    "#Remove purged voter records\n",
    "nycha_voter_set = nycha_voter_set[nycha_voter_set['STATUS'] != 'P']"
   ]
  },
  {
   "cell_type": "code",
   "execution_count": null,
   "id": "6fef9e7e-ace6-4733-9883-d69bad7af52e",
   "metadata": {
    "tags": []
   },
   "outputs": [],
   "source": [
    "nycha_voter_set['ElecList'] = nycha_voter_set['VoterHistory'].progress_apply(lambda x: set([re.sub(r'\\(\\w+\\)', '', name).strip() for name in str(x).split(';')]))\n",
    "#nycha_voter_set['ElecList'] = nycha_voter_set['VoterHistory'].apply(lambda x: set(name.strip() for name in str(x).split(';')))\n",
    "\n",
    "nycha_voter_set = nycha_voter_set[['LASTNAME','FIRSTNAME','FULL_ED','LD','CD','SD','AD','BOROUGH','TDS','ElecList']]\n",
    "nycha_voter_set['_counter'] = 1"
   ]
  },
  {
   "cell_type": "code",
   "execution_count": null,
   "id": "ff223851-e855-4099-87ea-5f78fc6a2e89",
   "metadata": {
    "tags": []
   },
   "outputs": [],
   "source": [
    "#Add city council district info by ED\n",
    "ed_to_council = pd.read_csv('Data/ED22A1_to_Council_District.csv').set_index('ElectDist')\n",
    "error_eds = []\n",
    "\n",
    "#@njit\n",
    "def get_cd(ed_num, df):\n",
    "    try:\n",
    "        cd_num = df.loc[ed_num]['coun_dist']\n",
    "        return cd_num\n",
    "    \n",
    "    except:\n",
    "        error_eds.append(ed_num)\n",
    "        \n",
    "    \n",
    "nycha_voter_set['Council_Dist'] = nycha_voter_set['FULL_ED'].progress_apply(lambda x: get_cd(int(x), ed_to_council))"
   ]
  },
  {
   "cell_type": "code",
   "execution_count": null,
   "id": "575df710-8092-47e1-84f2-d15d33b2f513",
   "metadata": {
    "tags": []
   },
   "outputs": [],
   "source": [
    "#Group election identifiers and define election types\n",
    "ID_dict = {'2007GE':set(['20071106 GE', '20071105 GE', '20071106 ??', 'GENERAL 2007', 'GENERAL ELECTION 2007', '2007 GENERAL  ELECTION', '2007 General Election', '2007 GENERAL ELECTION', 'General Election, 2007', '07 GENERAL ELECTION', '20071006 GE', 'General Election 2007', '2007 GENERAL']),\n",
    "           '2007PR':set(['20070918 PR','PRIMARY ELECTION 2007', '2007 Primary Election']),\n",
    "           '2007SP':['Special Election 2007'],\n",
    "           '2008GE':set(['20081104 GE', '2008 GENERAL ELECTION', 'GENERAL 2008', '2008 General Election', 'GENERAL ELECTION 2008','General Election, 2008', '20081104 PR', '20081114 PR','20081111 GE', '2008 General', 'General Election 2008', '20081028 GE','20080909 GE', '20081110 GE', '20081104', '20081120']),\n",
    "           '2008PP':set(['200802`0 PP','08 PRESIDENTIAL PRIMARY','20080205 PP', '20080205 PR', 'PRESIDENTIAL PRIMARY 2008', '2008 PRESIDENTIAL PRIMARY', '20080205 ??', 'Presidential Primary, 2008', '2008 Presidential Primary', 'Presidential Primary 2008', '2008 Presidential Primary Election', '20080205 SP']),\n",
    "           '2008PR':set(['20080909 PR', '20080909 PP', '20080911 PR','20080903 PR', '20080902 PR', '20080916 PR', '20080914 PR', '20080913 PR', '20080914', '20080909 SP', '20080912 PR']),\n",
    "           '2009GE':set(['20091103 GE', 'GE 20091103', '2009 GENERAL ELECTION', 'General Election, 2009', 'GENERAL ELECTION 2009', '2009 General Election', 'GENERAL 2009', '20091103 RO', '20091103 SP']) ,\n",
    "           '2009RO':set(['20090929 RO', '20090930 RO', '20090929 SP', '20090929 PR', '20090929 GE', '20090929 Run Off', '20090930 PR', '20090922 RO', '20090928 SP']),\n",
    "           '2009PR':set(['2009 PRIMARY ELECTION','09 PRIMARY ELECTION', '20090915 PR', 'Primary Election, 2009', 'PRIMARY 2009', '20090915 GE', '20091015 PR','20090915 RO', '20090908 PR']),\n",
    "           '2009SP_0915':set(['20090915 SP']),\n",
    "           '2009SP_0606':set(['20090602 SP']),\n",
    "           '2009SP_0421':set(['20090421 SP']),\n",
    "           '2009SP_0224':set(['20090224 SP']),\n",
    "           '2010GE':set(['20101103 GE', '10 GENERAL ELECTION', '20101102 GE', 'GE 20101102', '2010 GENERAL ELECTION', 'General Election, 2010', '2010 General Election', 'GENERAL ELECTION 2010', 'GENERAL 2010', 'General Election 2010']),\n",
    "           '2010PR':set(['Primary Election, 2010', '10 PRIMARY ELECTION', '20100914 PR', '2010 Primary Election', '2010 PRIMARY ELECTION', 'PRIMARY 2010']),\n",
    "           '2010SP_0323':['20100323 SP'],\n",
    "           '2010SP_0316':['20100316 SP'],\n",
    "           '2010SP_0209':['20100209 SP'],\n",
    "           '2011GE':set(['20111105 GE', '20111108 GE', '2011 General Election', '2011 GENERAL ELECTION', 'GENERAL 2011', 'General Election, 2011', 'GENERAL ELECTION 2011', '20111106 GE', '11 GENERAL  ELECTION']),\n",
    "           '2011PR':set(['PR 20110913', '2011 PRIMARY ELECTION', 'PRIMARY ELECTION 2011', '20110913 PR', 'PRIMARY 2011', '2011 Primary Election', '11 PRIMARY ELECTION']),\n",
    "           '2011SP_0913':['20110913 SP', '2011 Special Election 26CD'],\n",
    "           '2012GE':set(['20121106 GE','2012 General Election', 'GENERAL 2012', '2012 GENERAL ELECTION', 'GENERAL ELECTION 2012', 'General Election, 2012', '12 GENERAL  ELECTION', 'General Election 2012', 'GE 20121106']),\n",
    "           '2012PR_0913':set(['20120913 PR']),\n",
    "           '2012PR_0620':set(['20120626 PR', '2012 PRIMARY ELECTION FEDERAL']), \n",
    "           '2012PP':set(['20120424 PP','2012 Presidential Primary']),\n",
    "           '2012SP_0320':['20120320 SP'],\n",
    "           '2013GE':set(['GE 20131105', '2013 GENERAL ELECTION', 'GENERAL 2013', '2013 General Election', 'GENERAL ELECTION 2013', 'General Election, 2013', '13 GENERAL  ELECTION', 'General Election 2013', '20131105 GE']),\n",
    "           '2013PR':set(['13 PRIMARY ELECTION', 'PR 20130910', '20131001 PR', 'PRIMARY 2013', '2013 PRIMARY ELECTION', 'Primary Election, 2013', '2013 Primary Election', 'PRIMARY ELECTION 2013', '20130910 PR', '20130910 RO','20130901 PR']),\n",
    "           '2013RO':set(['20131001 RO', 'RO 20131001', '20131001 PP','20130110']),\n",
    "           '2013SP_0219':set(['20130219 SP', '20130219 GE']),\n",
    "           '2014GE':set(['2014 GENERAL ELECTION', 'General Election, 2014', '20141104 GE', 'GE 20141104', '2014  GENERAL ELECTION', '2014 General Election', 'GENERAL ELECTION 2014', 'GENERAL 2014', '14 GENERAL  ELECTION', 'General Election 2014']), \n",
    "           '2014PR_0909':set(['20140909 PR', 'PR 20140909', '2014 PRIMARY STATE and LOCAL', '2014 Primary Election (State & Local)']),\n",
    "           '2014PR_0624':set(['20140624 PR', 'PR 20140624', '2014CONGRESSIONAL PRIMARY']),\n",
    "           '2015GE':set(['GE 20151103', '2015 General Election', '2015  GENERAL ELECTION', 'GENERAL 2015', '20151108 GE', '2015 GENERAL ELECTION', 'General Election, 2015', '15 GENERAL ELECTION', '20151103 GE']),\n",
    "           '2015PR':set(['2015 Primary Election', '20150910 PR', 'PRIMARY 2015']),\n",
    "           '2015SP_0505':set(['20150505 SP', 'SP 20150505']),\n",
    "           '2016GE':set(['20161108 GE', '20161108 PR', '20161108 SP', 'GE 20161108', 'GENERAL ELECTION 2016', 'GENERAL 2016', '2016 General Election', 'General Election, 2016', '2016 GENERAL ELECTION', 'General Election 2016', '16 GENERAL ELECTION', '2008 General', 'General Election 2008', '20161107 GE', '20081104', '20161103 GE']),\n",
    "           '2016PR_0913':set(['PR 20160913', '20160913 PR', 'PR 20160913', ]),\n",
    "           '2016PR_0628':set(['20160628 PP', '20160628 PR', 'PR 20160628', '20160628 SP', 'Federal Primary, 2016']), \n",
    "           '2016PP':set(['Presidential Primary 2016', 'Presidential Primary Election 2016', '16 PRESIDENTIAL PRIMARY', '20160419 PP', 'PP 20160419', '2016 Presidential Primary', 'PRESIDENTIAL PRIMARY ELECTION 2016',  '20160412 PR', '20160419 PR', 'PRESIDENTIAL PRIMARY 2016', 'Presidential Primary, 2016', '2016 PRESIDENTIAL PRIMARY', '2016 Presidential Primary Election', ]), \n",
    "           '2016SP_0419':set(['20160419 SP', 'SP 20160419', '2016 SD 9 SPECIAL']),\n",
    "           '2016SP_0213':set(['20160223 SP']),\n",
    "           '2017GE':set(['20171107 GE', 'GE 20171107','2017 General Election', 'GENERAL ELECTION 2017', 'General Election, 2017', 'GE 20171107', '17 GENERAL ELECTION', 'GENERAL 2017', '2017 GENERAL ELECTION', '20171107 GE']),\n",
    "           '2017PR':set(['PR 20170912','20170912 RO', 'PR 20170912', '20170926 PR', 'PRIMARY ELECTION 2017', 'PRIMARY 2017', '17 PRIMARY ELECTION', '20170912 SP', '20170912 PR']),\n",
    "           '2017SP_0524':['20170523 SP'],\n",
    "           '2017SP_0214':['20170214 SP'],\n",
    "           '2018GE':set(['2018 General Election', 'General Election, 2018', 'GE 20181204', 'GENERAL 2018', 'GENERAL ELECTION 2018', '18 GENERAL ELECTION', 'General Election 2018', '2018 GENERAL ELECTION', '20181106 GE', 'GE 20181106']),\n",
    "           '2018PR_0913':set(['20180913 PR','PR 20180913','Primary Election, 2018', '18 PRIMARY ELECTION', 'PRIMARY 2018', 'PRIMARY ELECTION 2018', '2018 Primary Election']),\n",
    "           '2018PR_0626':set(['20180626 PR','PR 20180626']),\n",
    "           '2018SP_0424':set(['20180424 SP', 'SP 20180424']),\n",
    "           '2019GE':set(['GENERAL 2019','GE 20191105','2019 General Election', '20191105 GE', '2019 GENERAL ELECTION', 'GENERAL ELECTION 2019']),\n",
    "           '2019PR':set(['PR 20190625', '20190625 PR']),\n",
    "           '2019SP_0514':set(['20190514 SP', 'SP 2019-05-']),\n",
    "           '2019SP_0226':set(['20190226 SP', 'SP 20190226', '20190226 GE']),\n",
    "           '2020GE':set(['GE 20201103','General Election, 2020', '2020 GENERAL ELECTION', '20201103 GE', 'GENERAL ELECTION 2020', 'GENERAL 2020', 'GENERAL ELECTION 2020', 'General Election 2020', '2020 General Election']),\n",
    "           '2020PR':set(['PRIMARY ELECTION 2020', '2020 JUNE PRIMARY', '2020 Presidential Primary Election','20200623 PR', 'PP 20200623', '20200623 PP']),\n",
    "           '2020SP_1222':set(['SP 20201222', 'SP 20200202', '20201222 SP']),\n",
    "           '2021GE':set(['GE 20211102','20211102 GE', ]),\n",
    "           '2021PR':set(['PR 20210622', 'PRIMARY 2021', '20210622 PR']),\n",
    "           '2021SP_1102':set(['SP 20211102','20211102 GE']),\n",
    "           '2021SP_0323':set(['20210323 SP','SP 20210323']),\n",
    "           '2021SP_0223':set(['20210223 SP','SP 20210223']),\n",
    "           '2021SP_0202':set(['SP 20210202','20210202 SP']),\n",
    "           '2022PR':set(['20220628 PR','PR 20220628']),\n",
    "           '2022SP_0524':set(['20220524 SP','SP 20220524']),\n",
    "           '2022SP_0322':set(['20220322 SP']),\n",
    "           '2022SP_0215':set(['20220215 SP','SP 20220215']),\n",
    "           '2022SP_0118':set(['GE 20220118','20220118 SP']),\n",
    "            '_AMBIG':set(['08 PRIMARY ELECTION', '14 PRIMARY ELECTION', 'PRIMARY 2014', '12 PRIMARY ELECTION', 'Primary Election, 2012', '2012 PRIMARY ELECTION', '2012 Primary Election','Primary Election, 2008', '2008 PRIMARY ELECTION', 'Special Election, 2009', 'SPECIAL ELECTION 2009', '20110502 GE'])}\n"
   ]
  },
  {
   "cell_type": "code",
   "execution_count": null,
   "id": "d40008cd-8f41-4e11-aece-68666984d705",
   "metadata": {
    "tags": []
   },
   "outputs": [],
   "source": [
    "#Standardize election identifiers\n",
    "def get_common_id(x, id_dict):\n",
    "    for key, value in id_dict.items():\n",
    "        if x in value:\n",
    "            return key\n",
    "    \n",
    "    return None\n",
    "\n",
    "nycha_voter_set['Clean_Elec_List'] = nycha_voter_set['ElecList'].progress_apply(lambda lst: set([get_common_id(item, ID_dict) for item in lst]))\n",
    "\n",
    "\n",
    "#Create dummy columns where 1 = Voted\n",
    "for col in tqdm(ID_dict.keys()):\n",
    "    nycha_voter_set[col] = nycha_voter_set['Clean_Elec_List'].apply(lambda x: 1 if col in x else 0)"
   ]
  },
  {
   "cell_type": "code",
   "execution_count": null,
   "id": "f4f930c9-0577-4123-b76e-bbd44a3c1198",
   "metadata": {
    "tags": []
   },
   "outputs": [],
   "source": [
    "#Write cleaned set\n",
    "nycha_voter_set.reset_index().drop(columns=['index']).to_csv('Data/Intermediaries/Prepared_NYCHA_Voter_Set_2022.csv')"
   ]
  },
  {
   "cell_type": "markdown",
   "id": "e918dabf-bdcb-48b0-87c4-589dbe8a78c6",
   "metadata": {
    "tags": []
   },
   "source": [
    "### Computing Outputs\n",
    "For the following products (and in the actual analysis of NYCHA voter turnout), the implied denominator is the total number of registered voters within the relevant subset. The alternative -- eligible voters at NYCHA developments in the relevant subset -- was not used, due to the fact that a substantial number of unofficial / unauthorized residents are included in the registered voter set. Using NYCHA population figures of any type as the denomninator, therefore, would artifically inflate turnout percentages in most cases, as the number of registered voters frequenty exceeds the official total of residents over 18."
   ]
  },
  {
   "cell_type": "code",
   "execution_count": null,
   "id": "bc9cd6ff-b810-4585-9a21-49968979b040",
   "metadata": {
    "tags": []
   },
   "outputs": [],
   "source": [
    "#Reload fully filtered and prepared voter dataset\n",
    "nycha_voter_set = pd.read_csv('Data/Intermediaries/Prepared_NYCHA_Voter_Set_2022.csv', index_col=0)"
   ]
  },
  {
   "cell_type": "code",
   "execution_count": null,
   "id": "7349a2c7-874b-4158-a74e-066d7229e748",
   "metadata": {
    "tags": []
   },
   "outputs": [],
   "source": [
    "#Produce average turnout at NYCHA developments by election, by borough\n",
    "boro = nycha_voter_set.groupby('BOROUGH').mean()[nycha_voter_set.columns[13:]]\n",
    "\n",
    "#...by assembly district:\n",
    "ad = nycha_voter_set.groupby('AD').mean()[nycha_voter_set.columns[13:]]\n",
    "\n",
    "#...by state senate district:\n",
    "sd = nycha_voter_set.groupby('SD').mean()[nycha_voter_set.columns[13:]]\n",
    "\n",
    "#...by congressional district:\n",
    "cd = nycha_voter_set.groupby('CD').mean()[nycha_voter_set.columns[13:]]\n",
    "\n",
    "#...by city council district:\n",
    "council = nycha_voter_set.groupby('Council_Dist').mean()[nycha_voter_set.columns[13:]]\n",
    "\n",
    "#...by development, categorized by borough:\n",
    "dev = nycha_voter_set.groupby(['BOROUGH','TDS']).mean()[nycha_voter_set.columns[13:]]"
   ]
  },
  {
   "cell_type": "code",
   "execution_count": null,
   "id": "6f05039f-8d06-4f20-9ef4-d5ccb9ea34d5",
   "metadata": {
    "tags": []
   },
   "outputs": [],
   "source": [
    "#Import development info for filtering and display\n",
    "dev_info = pd.read_csv('Data/overview_table_data.csv')\n",
    "dev_info = dev_info[['TDS','DEV_NAME','CONS_TDS','CONS_NAME','GEO_BORO']]\n",
    "\n",
    "#Pull in population data\n",
    "def get_latest_records(df, group_col, date_col):\n",
    "    new_df = pd.DataFrame(columns=df.columns)\n",
    "    \n",
    "    for group in df.groupby(group_col):\n",
    "        new_df = pd.concat([new_df, pd.DataFrame(group[1].sort_values(date_col, ascending=False).iloc[0]).transpose()], axis=0)\n",
    "        \n",
    "    return new_df\n",
    "\n",
    "pop_facts = pd.read_excel('Data/Dev_Population_Facts.xlsx')\n",
    "recent_pop = get_latest_records(pop_facts, 'TDS_NUMBER', 'MONTH_ID')\n",
    "recent_pop['18_PLUS'] = recent_pop['POPULATION']-recent_pop['MINORS_UNDER_18']\n",
    "\n",
    "dev_info = dev_info.merge(recent_pop[['TDS_NUMBER','18_PLUS','MONTH_ID']], left_on='TDS', right_on='TDS_NUMBER', how='left')"
   ]
  },
  {
   "cell_type": "code",
   "execution_count": null,
   "id": "4a214858-8e41-4d3f-8ebe-66800d0f6f4d",
   "metadata": {
    "tags": []
   },
   "outputs": [],
   "source": [
    "#Merge dev data with voter records\n",
    "rates_by_dev_enriched = dev_info.merge(dev.reset_index(), how='right', left_on='TDS', right_on='TDS').reset_index(drop=True)\n",
    "rates_by_dev_enriched = rates_by_dev_enriched.sort_values(['GEO_BORO','CONS_TDS','TDS']).set_index(['GEO_BORO','CONS_TDS','TDS'])"
   ]
  },
  {
   "cell_type": "code",
   "execution_count": null,
   "id": "3380fd26-07c8-49f4-97d1-e5ee1ca2f4e6",
   "metadata": {
    "tags": []
   },
   "outputs": [],
   "source": [
    "elec_type_dict = {'GENERAL': {'2007GE',\n",
    "                              '2008GE',\n",
    "                              '2009GE',\n",
    "                              '2010GE',\n",
    "                              '2011GE',\n",
    "                              '2012GE',\n",
    "                              '2013GE',\n",
    "                              '2014GE',\n",
    "                              '2015GE',\n",
    "                              '2016GE',\n",
    "                              '2017GE',\n",
    "                              '2018GE',\n",
    "                              '2019GE',\n",
    "                              '2020GE',\n",
    "                              '2021GE'},\n",
    "                 'PRIMARY': {'2007PR',\n",
    "                              '2008PP',\n",
    "                              '2008PR',\n",
    "                              '2009PR',\n",
    "                              '2010PR',\n",
    "                              '2011PR',\n",
    "                              '2012PP',\n",
    "                              '2012PR_0620',\n",
    "                              '2012PR_0913',\n",
    "                              '2013PR',\n",
    "                              '2014PR_0624',\n",
    "                              '2014PR_0909',\n",
    "                              '2015PR',\n",
    "                              '2016PP',\n",
    "                              '2016PR_0628',\n",
    "                              '2016PR_0913',\n",
    "                              '2017PR',\n",
    "                              '2018PR_0626',\n",
    "                              '2018PR_0913',\n",
    "                              '2019PR',\n",
    "                              '2020PR',\n",
    "                              '2021PR',\n",
    "                              '2022PR'},\n",
    "                 'RUNOFF': {'2009RO', '2013RO'},\n",
    "                 'SPECIAL': {'2007SP',\n",
    "                              '2009SP_0224',\n",
    "                              '2009SP_0421',\n",
    "                              '2009SP_0606',\n",
    "                              '2009SP_0915',\n",
    "                              '2010SP_0209',\n",
    "                              '2010SP_0316',\n",
    "                              '2010SP_0323',\n",
    "                              '2011SP_0913',\n",
    "                              '2012SP_0320',\n",
    "                              '2013SP_0219',\n",
    "                              '2015SP_0505',\n",
    "                              '2016SP_0213',\n",
    "                              '2016SP_0419',\n",
    "                              '2017SP_0214',\n",
    "                              '2017SP_0524',\n",
    "                              '2018SP_0424',\n",
    "                              '2019SP_0514',\n",
    "                              '2019SP_0226',\n",
    "                              '2020SP_1222',\n",
    "                              '2021SP_1102',\n",
    "                              '2021SP_0323',\n",
    "                              '2021SP_0223',\n",
    "                              '2021SP_0202',\n",
    "                              '2022SP_0524',\n",
    "                              '2022SP_0322',\n",
    "                              '2022SP_0215',\n",
    "                              '2022SP_0118'},\n",
    "                 None: {'_AMBIG'}}\n"
   ]
  },
  {
   "cell_type": "code",
   "execution_count": null,
   "id": "2de299dc-978a-493c-905f-8ec18fe2d656",
   "metadata": {
    "tags": []
   },
   "outputs": [],
   "source": [
    "summ_table = rates_by_dev_enriched[['2016GE','2016PP','2017GE','2017PR','2018GE','2018PR_0913','2020GE','2020PR','2021GE','2021PR']].describe().loc['mean'].reset_index()\n",
    "summ_table['YEAR'] = summ_table['index'].apply(lambda x: str(x)[:4])\n",
    "\n",
    "def get_type(value, dict_name):\n",
    "    for k, v in dict_name.items():\n",
    "        if value in v:\n",
    "            return k\n",
    "        \n",
    "summ_table['TYPE'] = summ_table['index'].apply(lambda x: get_type(x, elec_type_dict))\n",
    "summ_table = summ_table.drop(columns='index')\n",
    "summ_table.pivot_table(values='mean', index='YEAR', columns='TYPE').reset_index().sort_values('YEAR', ascending=False)"
   ]
  },
  {
   "cell_type": "code",
   "execution_count": null,
   "id": "2dd38a09-7194-4123-ae1c-fe2e6e13eb41",
   "metadata": {
    "tags": []
   },
   "outputs": [],
   "source": [
    "summ_table = rates_by_dev_enriched[['2016GE','2016PP','2017GE','2017PR','2018GE','2018PR_0913','2020GE','2020PR','2021GE','2021PR']].describe()#.loc['mean'].reset_index()\n",
    "summ_table"
   ]
  },
  {
   "cell_type": "code",
   "execution_count": null,
   "id": "43a567c7-2a12-4cab-9e3e-37de9d29a1a8",
   "metadata": {
    "tags": []
   },
   "outputs": [],
   "source": [
    "#Summarize turnout by election type\n",
    "rates_by_dev_summary = rates_by_dev_enriched.copy().drop(columns=rates_by_dev_enriched.columns[6:])\n",
    "\n",
    "for col, values in elec_type_dict.items():\n",
    "    rates_by_dev_summary[f'{col}_MEDIAN'] = rates_by_dev_enriched[values].median(axis=1)"
   ]
  },
  {
   "cell_type": "code",
   "execution_count": null,
   "id": "cb04ef2b-d67d-4acb-be01-55d6d9c9c79c",
   "metadata": {
    "tags": []
   },
   "outputs": [],
   "source": [
    "rates_by_dev_enriched[rates_by_dev_enriched['DEV_NAME'].apply(lambda x: x is not np.nan)].to_excel('Products/Rates_by_Development_2022.xlsx')\n",
    "rates_by_dev_summary[rates_by_dev_summary['DEV_NAME'].apply(lambda x: x is not np.nan)].drop(columns='None_MEDIAN').to_excel('Products/Rates_by_Development_Summary_2022.xlsx')"
   ]
  },
  {
   "cell_type": "markdown",
   "id": "f5fd0704-c100-4017-a484-67508d59035a",
   "metadata": {
    "tags": []
   },
   "source": [
    "### Developments of Voting Rule WG Members"
   ]
  },
  {
   "cell_type": "code",
   "execution_count": null,
   "id": "96a3a73f-0cde-4c20-9ef7-dee498e41b41",
   "metadata": {
    "tags": []
   },
   "outputs": [],
   "source": [
    "#Jackson [120, cons 267], Red Hook West [79], Polo Grounds [149], Soundview [71], Howard [72], Bland [54, cons 186], Nostrand [43, cons 36], Riis[18/19], Queensbridge [5/505], \n",
    "#Staten Island TBD\n",
    "\n",
    "member_dev_list = [120, 79, 149, 71, 72, 54, 43, 18, 19, 5, 505, 114, 38]\n",
    "member_data = rates_by_dev_enriched.reset_index()[rates_by_dev_enriched.reset_index()['TDS'].apply(lambda x: x in member_dev_list)]"
   ]
  },
  {
   "cell_type": "code",
   "execution_count": null,
   "id": "6cff50ed-6a18-4796-801f-adef54d4ffbb",
   "metadata": {
    "tags": []
   },
   "outputs": [],
   "source": [
    "member_data_summary = member_data.copy().drop(columns = member_data.columns[9:])\n",
    "sum_col_list = []\n",
    "for col, values in elec_type_dict.items():\n",
    "    member_data_summary[f'{col}_MEDIAN'] = member_data[values].median(axis=1)\n",
    "    member_data_summary[f'{col}_MAX'] = member_data[values].max(axis=1)\n",
    "    member_data_summary[f'{col}_MIN'] = member_data[values].min(axis=1)\n",
    "    \n",
    "    sum_col_list = sum_col_list + [f'{col}_MEDIAN', f'{col}_MAX', f'{col}_MIN']"
   ]
  },
  {
   "cell_type": "code",
   "execution_count": null,
   "id": "63347168-c5cd-4b3a-bfff-c7f3911aa3a1",
   "metadata": {
    "tags": []
   },
   "outputs": [],
   "source": [
    "riis = member_data_summary.iloc[[5,6]]\n",
    "riis = riis.append(pd.DataFrame(data = {key:None for key in riis.columns}, columns=riis.columns, index=[3]))\n",
    "\n",
    "qns = member_data_summary.iloc[[8,10]]\n",
    "qns = qns.append(pd.DataFrame(data = {key:None for key in qns.columns}, columns=qns.columns, index=[3]))\n",
    "\n",
    "\n",
    "riis_full = member_data.iloc[[5,6]]\n",
    "riis_full = riis_full.append(pd.DataFrame(data = {key:None for key in riis_full.columns}, columns=riis_full.columns, index=[3]))\n",
    "\n",
    "qns_full = member_data.iloc[[8,10]]\n",
    "qns_full = qns_full.append(pd.DataFrame(data = {key:None for key in qns_full.columns}, columns=qns_full.columns, index=[3]))\n",
    "\n"
   ]
  },
  {
   "cell_type": "code",
   "execution_count": null,
   "id": "6cd06a13-f84e-4862-8682-35a85a0d3793",
   "metadata": {
    "tags": []
   },
   "outputs": [],
   "source": [
    "riis.columns"
   ]
  },
  {
   "cell_type": "code",
   "execution_count": null,
   "id": "36827441-b899-4731-8a3f-6c668aa5e990",
   "metadata": {
    "tags": []
   },
   "outputs": [],
   "source": [
    "def combine_proportions(df, column):\n",
    "    votes_list = []\n",
    "    for row in df.iterrows():\n",
    "        votes_list.append(row[1][column]*row[1]['_counter'])\n",
    "        \n",
    "    return sum(votes_list)/sum(df['_counter'])\n",
    "                               \n",
    "        \n",
    "for col in sum_col_list:\n",
    "    riis.loc[3, col] = combine_proportions(riis[:2], col)\n",
    "    qns.loc[3, col] = combine_proportions(qns[:2], col)\n",
    "    \n",
    "riis.loc[3, 'DEV_NAME'] = 'RIIS_COMBINED'\n",
    "qns.loc[3, 'DEV_NAME'] = 'QUEENSBRIDGE_COMBINED'\n",
    "\n",
    "#Same for full data\n",
    "\n",
    "for col in member_data.columns[9:]:\n",
    "    riis_full.loc[3, col] = combine_proportions(riis_full[:2], col)\n",
    "    qns_full.loc[3, col] = combine_proportions(qns_full[:2], col)\n",
    "    \n",
    "riis_full.loc[3, 'DEV_NAME'] = 'RIIS_COMBINED'\n",
    "qns_full.loc[3, 'DEV_NAME'] = 'QUEENSBRIDGE_COMBINED'\n",
    "    \n",
    "\n",
    "\n"
   ]
  },
  {
   "cell_type": "code",
   "execution_count": null,
   "id": "da7455ca-0267-4f58-9328-034bebd03edc",
   "metadata": {
    "tags": []
   },
   "outputs": [],
   "source": [
    "member_data_summary = member_data_summary.append(riis.loc[3]).append(qns.loc[3])\n",
    "member_data = member_data.append(riis_full.loc[3]).append(qns_full.loc[3])"
   ]
  },
  {
   "cell_type": "code",
   "execution_count": null,
   "id": "0e2db693-8035-40ee-a11f-80b80a440b84",
   "metadata": {},
   "outputs": [],
   "source": [
    "member_data_tables = member_data_summary[['DEV_NAME']+sum_col_list]"
   ]
  },
  {
   "cell_type": "code",
   "execution_count": null,
   "id": "09266e19-eae2-4c3c-933d-4ed981ed1887",
   "metadata": {},
   "outputs": [],
   "source": [
    "t = member_data_tables.set_index('DEV_NAME').stack().reset_index()\n",
    "t['TYPE'] = t['level_1'].apply(lambda x: x.split('_')[0])\n",
    "t['MEASURE'] = t['level_1'].apply(lambda x: x.split('_')[1])\n",
    "t.columns = ['DEV_NAME','_del','TURNOUT','TYPE', 'MEASURE']\n",
    "t = t.pivot_table(index=['DEV_NAME','TYPE'], values='TURNOUT', columns='MEASURE')"
   ]
  },
  {
   "cell_type": "code",
   "execution_count": null,
   "id": "3136a3bc-f310-43dd-a6ed-dbf798680062",
   "metadata": {},
   "outputs": [],
   "source": [
    "writer = pd.ExcelWriter('Products/_tables_for_members/TABLES.xlsx')\n",
    "\n",
    "for name in t.index.levels[0]:\n",
    "    t_sub = t.loc[name].transpose()\n",
    "    t_sub['OTHER'] = t_sub[['None','RUNOFF','SPECIAL']].mean(axis=1)\n",
    "    t_sub.drop(columns=['None','RUNOFF','SPECIAL']).to_excel(writer, sheet_name = f'{name}')\n",
    "\n",
    "writer.save()"
   ]
  },
  {
   "cell_type": "code",
   "execution_count": null,
   "id": "f292a20b-a370-456f-82db-b386797f0c6a",
   "metadata": {},
   "outputs": [],
   "source": [
    "elec_by_development = member_data[['DEV_NAME']+list(member_data.columns[9:])].set_index('DEV_NAME').transpose()"
   ]
  },
  {
   "cell_type": "code",
   "execution_count": null,
   "id": "d7de0778-d3e4-4ffe-82ac-3c9a83fa6532",
   "metadata": {},
   "outputs": [],
   "source": [
    "elec_by_development.to_excel('Products/_TEMP_wg_elections.xlsx')"
   ]
  }
 ],
 "metadata": {
  "kernelspec": {
   "display_name": "Python 3 (ipykernel)",
   "language": "python",
   "name": "python3"
  },
  "language_info": {
   "codemirror_mode": {
    "name": "ipython",
    "version": 3
   },
   "file_extension": ".py",
   "mimetype": "text/x-python",
   "name": "python",
   "nbconvert_exporter": "python",
   "pygments_lexer": "ipython3",
   "version": "3.9.13"
  }
 },
 "nbformat": 4,
 "nbformat_minor": 5
}
