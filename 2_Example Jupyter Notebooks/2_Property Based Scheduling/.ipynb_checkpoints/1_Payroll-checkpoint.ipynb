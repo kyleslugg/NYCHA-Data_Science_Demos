{
 "cells": [
  {
   "cell_type": "markdown",
   "metadata": {},
   "source": [
    "# Working with NYCHA Payroll Extracts\n",
    "### Evaluating changes in overtime usage accompanying Property-Based Scheduling\n",
    "\n",
    "This analysis was conducted in order to determine the degree to which the abolishment of Alternate Work Schedules (AWS) for Caretakers affected expenditures on scheduled and unscheduled overtime among Caretakers and their supervisors. Data were obtained from Financial Planning & Analysis' homepage on NYCHA Connect (at http://budget/), using the Bi-Weekly Payroll Extraction tool.\n",
    "\n",
    "Note that data for pay periods 10 through 16 are added to the largest extraction (pay periods 1 through 9 of 2022) in pieces. This is necessary to address shortcomings in the data extraction tool itself: after approximately 9 pay periods, the Excel files exported by the tool become corrupt. If replicating this analysis, please ensure that data extracts are relatively small to prevent such errors."
   ]
  },
  {
   "cell_type": "code",
   "execution_count": null,
   "metadata": {},
   "outputs": [],
   "source": [
    "import pandas as pd\n",
    "import numpy as np\n",
    "import matplotlib.pyplot as plt\n",
    "import seaborn as sns\n",
    "import os\n",
    "\n",
    "pd.set_option('display.max_columns', None)"
   ]
  },
  {
   "cell_type": "code",
   "execution_count": null,
   "metadata": {},
   "outputs": [],
   "source": [
    "payroll = pd.read_excel('Data/Payroll_Data/PBS_Payroll_PP092022.xls')\n",
    "supplements = ['Payroll_PP10_Supplement.xls','Payroll_PP11_Supplement.xls','Payroll_PP12_Supplement.xls',\n",
    "               'Payroll_PP13_supplement.xls', 'Payroll_PP14_supplement.xls', 'Payroll_PP15-16_supplement.xls']\n",
    "\n",
    "supplements = ['Data/Payroll_Data/'+item for item in supplements]\n",
    "\n",
    "for file in supplements:\n",
    "    payroll = pd.concat([payroll, pd.read_excel(file)])"
   ]
  },
  {
   "cell_type": "code",
   "execution_count": null,
   "metadata": {
    "scrolled": true
   },
   "outputs": [],
   "source": [
    "#Subset columns needed for this analysis\n",
    "payroll = payroll[['Month', 'Year', 'PP', 'Dept', 'Last_Name',\n",
    "       'First_Name', 'Leave_Code', 'Leave_Desc', 'Emp_No', 'Permanent',\n",
    "       'Seasonal', 'CST_No', 'CST_Level',\n",
    "       'CST_Suffix', 'CST_Name', 'WU', 'WL', 'RC_Name', 'AC', 'RC_No',\n",
    "       'Regular_Pay', 'Rec_Shift_Diff', 'Non_Rec_Shift_Diff',\n",
    "       'Rec_Assig_Diff', 'Retro', 'Rec_Long_Diff', 'Other', 'Scheduled_OT_Amt',\n",
    "       'Unscheduled_OT_Amt', 'Total_OT_Amt', 'Sch_OT_Hrs', 'Unsch_OT_Hrs',\n",
    "       'Total_OT_Hrs', 'Holiday_Pay', 'Allowance_Pay', 'Term_Leave_Pay',\n",
    "       'Recurring_Increments_Pay', 'Other_Pay_Diff']]\n",
    "\n",
    "#Filter out staff in irrelevant titles\n",
    "payroll = payroll[payroll['CST_Name'].apply(lambda x: x in ['Caretaker (HA) J', 'City Seasonal Aide (Grounds)',\n",
    "       'City Seasonal Aide Summer Training Program',\n",
    "       'Caretaker (HA) G',\n",
    "       'Caretaker (HA) X', \n",
    "       'Supervisor of Housing Caretakers', 'Housing Manager',\n",
    "       'City Seasonal Aide (Management-Grounds)',\n",
    "       'Resident Buildings Superintendent', 'Caretaker (HA) I',\n",
    "       'Supervising Housing Groundskeeper',\n",
    "       'Administrative Manager (Non-Managerial)',\n",
    "       'Assistant Resident Buildings Superintendent',\n",
    "       'City Seasonal Aide Summer Youth Program (S&CS)', 'Chief Caretaker',\n",
    "       'City Attendant', 'Caretaker (HA) S',\n",
    "       'Administrative Real Property Manager'])]\n",
    "\n",
    "#Group titles by class for later analysis (CTKR, SUPV, ADMIN)\n",
    "title_class_dict = {'Caretaker (HA) J': 'CTKR', 'City Seasonal Aide (Grounds)': 'CTKR',\n",
    "       'City Seasonal Aide Summer Training Program': 'CTKR',\n",
    "       'Caretaker (HA) G': 'CTKR',\n",
    "       'Caretaker (HA) X': 'CTKR', \n",
    "       'Supervisor of Housing Caretakers': 'SUPV', 'Housing Manager': 'ADMIN',\n",
    "       'City Seasonal Aide (Management-Grounds)':'CTKR',\n",
    "       'Resident Buildings Superintendent':'SUPV', 'Caretaker (HA) I':'CTKR',\n",
    "       'Supervising Housing Groundskeeper':'SUPV',\n",
    "       'Administrative Manager (Non-Managerial)':'ADMIN',\n",
    "       'Assistant Resident Buildings Superintendent':'SUPV',\n",
    "       'City Seasonal Aide Summer Youth Program (S&CS)':'CTKR', 'Chief Caretaker':'CTKR',\n",
    "       'City Attendant':'CTKR', 'Caretaker (HA) S':'CTKR',\n",
    "       'Administrative Real Property Manager':'ADMIN'}\n",
    "\n",
    "#Add title class as a new column\n",
    "payroll['TITLE_CLASS'] = payroll['CST_Name'].apply(lambda x: title_class_dict[x])"
   ]
  },
  {
   "cell_type": "code",
   "execution_count": null,
   "metadata": {},
   "outputs": [],
   "source": [
    "payroll"
   ]
  },
  {
   "cell_type": "markdown",
   "metadata": {},
   "source": [
    "The following cell groups entries by department (i.e., borough, in the case of Operations); budget responsibility center (i.e., consolidation); pay period; and title code. For each of the resulting groups, various pay types are summed using a custom aggregation function supplied via `<groupby_obj>.agg()`.\n",
    "\n",
    "After this operation is complete, three columns representing overtime and differential pay are summed for later comparison."
   ]
  },
  {
   "cell_type": "code",
   "execution_count": null,
   "metadata": {},
   "outputs": [],
   "source": [
    "staff_by_pp = payroll[['Dept','PP','Emp_No', 'TITLE_CLASS', 'CST_Name', 'RC_Name', 'Regular_Pay', 'Rec_Shift_Diff', 'Non_Rec_Shift_Diff',\n",
    "       'Rec_Assig_Diff', 'Retro', 'Rec_Long_Diff', 'Other', 'Scheduled_OT_Amt',\n",
    "       'Unscheduled_OT_Amt', 'Total_OT_Amt', 'Sch_OT_Hrs', 'Unsch_OT_Hrs',\n",
    "       'Total_OT_Hrs', 'Holiday_Pay', 'Allowance_Pay', 'Term_Leave_Pay',\n",
    "       'Recurring_Increments_Pay', 'Other_Pay_Diff']].groupby(['Dept','RC_Name','PP','CST_Name']).agg({'TITLE_CLASS':'first', 'Emp_No':'count', 'Regular_Pay':sum, 'Rec_Shift_Diff':sum, 'Non_Rec_Shift_Diff':sum,\n",
    "       'Rec_Assig_Diff':sum, 'Retro':sum, 'Rec_Long_Diff':sum, 'Other':sum, 'Scheduled_OT_Amt':sum,\n",
    "       'Unscheduled_OT_Amt':sum, 'Total_OT_Amt':sum, 'Sch_OT_Hrs':sum, 'Unsch_OT_Hrs':sum,\n",
    "       'Total_OT_Hrs':sum, 'Holiday_Pay':sum, 'Allowance_Pay':sum, 'Term_Leave_Pay':sum,\n",
    "       'Recurring_Increments_Pay':sum, 'Other_Pay_Diff':sum})\n",
    "\n",
    "staff_by_pp['OT_PLUS_DIFF'] = staff_by_pp[['Total_OT_Amt','Rec_Assig_Diff','Rec_Long_Diff']].sum(axis=1)"
   ]
  },
  {
   "cell_type": "markdown",
   "metadata": {},
   "source": [
    "### Automating Visualization\n",
    "\n",
    "The following cell defines a function for plotting pay amounts (contained in the column specified by ot_col) by department (with the option not to subdivide by department). While the exact functionality here relies on column names specific to our `staff_by_pp` dataset, this logic is suited to adaptation for other datasets."
   ]
  },
  {
   "cell_type": "code",
   "execution_count": null,
   "metadata": {},
   "outputs": [],
   "source": [
    "def plot_ot_by_dept(ot_col, title_col, pay_df, dept=None, output_fig=True, return_sums=False):\n",
    "    try:\n",
    "        plt.close('all')\n",
    "    except:\n",
    "        pass\n",
    "    \n",
    "    staff_by_pp = pay_df\n",
    "    \n",
    "    if dept == None:\n",
    "        OT_breakdown = staff_by_pp.reset_index()[['RC_Name', 'PP', 'CST_Name','TITLE_CLASS','Emp_No', 'Scheduled_OT_Amt',\n",
    "           'Unscheduled_OT_Amt', 'Total_OT_Amt', 'Sch_OT_Hrs', 'Unsch_OT_Hrs',\n",
    "           'Total_OT_Hrs','OT_PLUS_DIFF']]\n",
    "        \n",
    "    else:\n",
    "        OT_breakdown = staff_by_pp.loc[dept].reset_index()[['RC_Name', 'PP', 'CST_Name','TITLE_CLASS','Emp_No', 'Scheduled_OT_Amt',\n",
    "           'Unscheduled_OT_Amt', 'Total_OT_Amt', 'Sch_OT_Hrs', 'Unsch_OT_Hrs',\n",
    "           'Total_OT_Hrs','OT_PLUS_DIFF']]\n",
    "   \n",
    "\n",
    "    OT_sum = OT_breakdown.groupby(['PP',title_col]).agg({'Emp_No': sum, 'Scheduled_OT_Amt': sum, 'Unscheduled_OT_Amt': sum, 'Total_OT_Amt':sum, 'OT_PLUS_DIFF':sum})\n",
    "    OT_sum['OT_Amt_per_Emp'] = OT_sum['Total_OT_Amt']/OT_sum['Emp_No']\n",
    "    \n",
    "    #Set up plot\n",
    "    fig = plt.subplot()\n",
    "    \n",
    "    sns.lineplot(data=OT_sum.reset_index(), x='PP', y=ot_col, hue='TITLE_CLASS')\n",
    "    \n",
    "    if ot_col == 'OT_Amt_per_Emp':  \n",
    "        fig.set_ylabel('Overtime Pay per Employee')\n",
    "    elif ot_col == 'Total_OT_Amt':\n",
    "        fig.set_ylabel('Total Overtime Pay')\n",
    "    elif ot_col == 'Unscheduled_OT_Amt':\n",
    "        fig.set_ylabel('Unscheduled Overtime Pay')\n",
    "    else:\n",
    "        fig.set_ylabel(ot_col)\n",
    "        \n",
    "    fig.set_xlabel('Pay Period (2022)')\n",
    "    \n",
    "    if 'Pay' in fig.get_ylabel():\n",
    "        old_labels = fig.get_yticks()\n",
    "        fig.set_yticklabels(['$'+'{:,.0f}'.format(x) for x in old_labels])\n",
    "    else:\n",
    "        old_labels = fig.get_yticks()\n",
    "        fig.set_yticklabels(['{:,.0f}'.format(x) for x in old_labels])\n",
    "    \n",
    "    if output_fig:\n",
    "        if dept == None: \n",
    "            plt.savefig(f\"Plots/OT/ALL_{ot_col}.pdf\", bbox_inches='tight')\n",
    "        else:\n",
    "            plt.savefig(f\"Plots/OT/{dept}_{ot_col}.pdf\", bbox_inches='tight')\n",
    "    if return_sums == True:\n",
    "        return OT_sum\n",
    "    else:\n",
    "        pass\n"
   ]
  },
  {
   "cell_type": "code",
   "execution_count": null,
   "metadata": {},
   "outputs": [],
   "source": [
    "if not os.path.exists('Plots/OT'):\n",
    "    os.makedirs('Plots/OT')"
   ]
  },
  {
   "cell_type": "code",
   "execution_count": null,
   "metadata": {},
   "outputs": [],
   "source": [
    "for dept in ['Manhattan Property Management', 'Queens\\Staten Island Property Management', \n",
    "             'Bronx Property Management', 'Brooklyn Property Management']:\n",
    "    for ot_col in ['Total_OT_Amt', 'OT_Amt_per_Emp', 'Unscheduled_OT_Amt']:\n",
    "        plot_ot_by_dept(pay_df = staff_by_pp, dept = dept, title_col = 'TITLE_CLASS', ot_col = ot_col)"
   ]
  },
  {
   "cell_type": "code",
   "execution_count": null,
   "metadata": {},
   "outputs": [],
   "source": [
    "sums = plot_ot_by_dept(output_fig = True, pay_df = staff_by_pp, dept = None, title_col = 'TITLE_CLASS', ot_col = 'OT_PLUS_DIFF', return_sums=True).reset_index()\n"
   ]
  },
  {
   "cell_type": "code",
   "execution_count": null,
   "metadata": {},
   "outputs": [],
   "source": [
    "def get_sums_prepost(pp):\n",
    "    if pp <=8:\n",
    "        return 'PRE'\n",
    "    elif pp >= 13:\n",
    "        return 'POST'\n",
    "    else:\n",
    "        pass\n",
    "    \n",
    "sums['PREPOST'] = sums['PP'].apply(lambda x: get_sums_prepost(x))"
   ]
  },
  {
   "cell_type": "code",
   "execution_count": null,
   "metadata": {},
   "outputs": [],
   "source": [
    "sums"
   ]
  },
  {
   "cell_type": "code",
   "execution_count": null,
   "metadata": {},
   "outputs": [],
   "source": [
    "sums.groupby(['TITLE_CLASS','PREPOST']).mean().reset_index()[['OT_PLUS_DIFF', 'PREPOST']].groupby('PREPOST')"
   ]
  },
  {
   "cell_type": "code",
   "execution_count": null,
   "metadata": {},
   "outputs": [],
   "source": [
    "def plot_ot_by_dev(dev, ot_col, title_col, pay_df):\n",
    "    try:\n",
    "        plt.close('all')\n",
    "    except:\n",
    "        pass\n",
    "    \n",
    "    staff_by_pp = pay_df.reset_index()\n",
    "    OT_breakdown = staff_by_pp[staff_by_pp['RC_Name']==dev][['RC_Name', 'PP', 'CST_Name','TITLE_CLASS','Emp_No', 'Scheduled_OT_Amt',\n",
    "           'Unscheduled_OT_Amt', 'Total_OT_Amt', 'Sch_OT_Hrs', 'Unsch_OT_Hrs',\n",
    "           'Total_OT_Hrs']]\n",
    "\n",
    "    OT_sum = OT_breakdown.groupby(['PP',title_col]).agg({'Emp_No': sum, 'Scheduled_OT_Amt': sum, 'Unscheduled_OT_Amt': sum, 'Total_OT_Amt':sum})\n",
    "    OT_sum['OT_Amt_per_Emp'] = OT_sum['Total_OT_Amt']/OT_sum['Emp_No']\n",
    "    \n",
    "    sns.lineplot(data=OT_sum.reset_index(), x='PP', y=ot_col, hue='TITLE_CLASS')\n",
    "    \n",
    "    plt.savefig(f\"Plots/OT/{str(dev).replace('/','-')}_{ot_col}.pdf\", bbox_inches='tight')\n",
    "    \n",
    "    pass\n",
    "\n",
    "\n",
    "pay_df_flat = staff_by_pp.reset_index()\n",
    "relevant_devs = list(pay_df_flat[pay_df_flat['Dept'].apply(lambda x: x in ('Manhattan Property Management', 'Queens\\Staten Island Property Management'))]['RC_Name'].unique())\n",
    "\n",
    "for dev in relevant_devs:\n",
    "    plot_ot_by_dev(pay_df = staff_by_pp, dev = dev, title_col = 'TITLE_CLASS', ot_col = 'Total_OT_Amt')\n"
   ]
  },
  {
   "cell_type": "code",
   "execution_count": null,
   "metadata": {},
   "outputs": [],
   "source": [
    "alt_data = pd.read_csv('OT_20220826.csv')"
   ]
  },
  {
   "cell_type": "code",
   "execution_count": null,
   "metadata": {},
   "outputs": [],
   "source": [
    "def get_title_class(title):\n",
    "    if title[:3] == 'Crt':\n",
    "        return 'CTKR'\n",
    "    elif 'Chief' in title:\n",
    "        return 'CTKR'\n",
    "    else:\n",
    "        return 'SUPV'"
   ]
  },
  {
   "cell_type": "code",
   "execution_count": null,
   "metadata": {},
   "outputs": [],
   "source": [
    "alt_data"
   ]
  },
  {
   "cell_type": "code",
   "execution_count": null,
   "metadata": {},
   "outputs": [],
   "source": [
    "alt_data['TITLE_CLASS'] = alt_data['FULL_CIVIL_SERVICE_NAME'].apply(lambda x: get_title_class(x))\n",
    "alt_data['PAYROLL_TOTAL'] = "
   ]
  },
  {
   "cell_type": "code",
   "execution_count": null,
   "metadata": {},
   "outputs": [],
   "source": [
    "t = alt_data.groupby(['PAY_PERIOD','DEPARTMENT','TITLE_CLASS']).sum().reset_index()#.loc['Bronx Property Management Department']\n",
    "\n",
    "sns.lineplot(data=t[t['DEPARTMENT']=='Bronx Property Management Department'], x='PP', y=ot_col, hue='TITLE_CLASS')"
   ]
  },
  {
   "cell_type": "code",
   "execution_count": null,
   "metadata": {},
   "outputs": [],
   "source": []
  }
 ],
 "metadata": {
  "kernelspec": {
   "display_name": "Python 3 (ipykernel)",
   "language": "python",
   "name": "python3"
  },
  "language_info": {
   "codemirror_mode": {
    "name": "ipython",
    "version": 3
   },
   "file_extension": ".py",
   "mimetype": "text/x-python",
   "name": "python",
   "nbconvert_exporter": "python",
   "pygments_lexer": "ipython3",
   "version": "3.9.13"
  }
 },
 "nbformat": 4,
 "nbformat_minor": 4
}
