{
 "cells": [
  {
   "cell_type": "code",
   "execution_count": 11,
   "id": "783177ea",
   "metadata": {},
   "outputs": [],
   "source": [
    "import pandas as pd\n",
    "import numpy as np\n",
    "import xlrd\n",
    "import csv\n",
    "import os\n",
    "import regex as re\n",
    "import glob\n",
    "import datetime as dt\n",
    "import seaborn as sns\n",
    "import matplotlib.pyplot as plt\n",
    "import matplotlib.lines as mlines\n",
    "import matplotlib.patches as mpatches\n",
    "import PyPDF2\n",
    "\n",
    "\n",
    "import statsmodels.api as sm\n",
    "import bambi as bmb\n",
    "from linearmodels import PanelOLS\n",
    "from linearmodels import RandomEffects"
   ]
  },
  {
   "cell_type": "code",
   "execution_count": 12,
   "id": "c6c03dbd",
   "metadata": {},
   "outputs": [],
   "source": [
    "#Define utility function to convert files as needed\n",
    "def xls_to_csv(file_path):\n",
    "    wkbk = xlrd.open_workbook(file_path).sheet_by_index(0)\n",
    "    new_file_path = file_path.split('.')[0]\n",
    "    col = csv.writer(open(f\"{new_file_path}.csv\", 'w', newline=\"\"))  \n",
    "    # writing the data into csv file\n",
    "    for row in range(wkbk.nrows):\n",
    "        col.writerow(wkbk.row_values(row))\n",
    "\n",
    "    return new_file_path+'.csv'"
   ]
  },
  {
   "cell_type": "markdown",
   "id": "018eff63",
   "metadata": {},
   "source": [
    "### Open, read, and process lateness data"
   ]
  },
  {
   "cell_type": "code",
   "execution_count": null,
   "id": "19b92998",
   "metadata": {},
   "outputs": [],
   "source": [
    "#Note that standard Kronos outputs need to be converted to CSV -- for whatever reason, no encoding works to decode the initial excel file"
   ]
  },
  {
   "cell_type": "code",
   "execution_count": 13,
   "id": "f6a4bbf4",
   "metadata": {},
   "outputs": [],
   "source": [
    "id_list = pd.read_csv('Data/ID_to_Location.csv')"
   ]
  },
  {
   "cell_type": "code",
   "execution_count": 14,
   "id": "14ad07f0",
   "metadata": {},
   "outputs": [],
   "source": [
    "def get_lateness_records(file_path):\n",
    "    \n",
    "    with open(file_path,'r') as file_handle:\n",
    "        raw_file = file_handle.readlines()\n",
    "        \n",
    "    ID_lines = []\n",
    "    record_lines = []\n",
    "    \n",
    "    i=5\n",
    "    while i in range(5, len(raw_file)):\n",
    "        if 'ID:' in raw_file[i]:\n",
    "            ID_lines += raw_file[i]\n",
    "            name = re.search(r'([\\w\\s-\\'\\.]+,\\s\\w+)', raw_file[i])[0]\n",
    "            ID = re.search(r'\\d+', raw_file[i])[0]\n",
    "            \n",
    "            i += 2\n",
    "\n",
    "            while re.search(r'\\d{1,2}\\/\\d{1,2}\\/\\d{4}', raw_file[i]) is not None:\n",
    "                date = re.search(r'\\d{1,2}\\/\\d{1,2}\\/\\d{4}', raw_file[i])[0]\n",
    "                minutes_late = re.search(r'(?<=\\,)\\d+(?=\\,)', raw_file[i])[0]\n",
    "                record_lines.append(tuple([ID, name, date, minutes_late]))\n",
    "                i += 1\n",
    "        else:\n",
    "            i += 1\n",
    "    \n",
    "    data = pd.DataFrame(data=record_lines, \n",
    "                        columns=['ID','NAME','DAY','MINUTES'])\n",
    "    \n",
    "    data['MINUTES'] = data['MINUTES'].astype(int, errors='ignore')\n",
    "    data['DAY'] = data['DAY'].apply(lambda x: pd.to_datetime(x).date())\n",
    "    data['ID'] = data['ID'].astype(int)\n",
    "    \n",
    "    return(data)\n",
    " "
   ]
  },
  {
   "cell_type": "code",
   "execution_count": 15,
   "id": "ef65c98e",
   "metadata": {},
   "outputs": [
    {
     "name": "stdout",
     "output_type": "stream",
     "text": [
      "Lateness_Records/1658430768852_1139208097.csv appended\n",
      "Lateness_Records/1658429880632_626770473.csv appended\n",
      "Lateness_Records/1658430371357_1769323626.csv appended\n",
      "Lateness_Records/1658424980205_1139208097.csv appended\n",
      "Lateness_Records/1658505517590_889966173.csv appended\n"
     ]
    }
   ],
   "source": [
    "#lateness_records_breuk = get_lateness_records('DATA/Lateness/07012021_11042021_BREUK.csv')\n",
    "#lateness_records_wyckoff = get_lateness_records('DATA/Lateness/07012021_11042021_WYCKOFF.csv')\n",
    "#lateness_records = lateness_records_breuk.append(lateness_records_wyckoff)\n",
    "\n",
    "lateness_records = pd.DataFrame()\n",
    "lateness_files_csv = glob.glob('Data/Lateness_Records/*.csv')\n",
    "\n",
    "#lateness_files_csv = []\n",
    "\n",
    "#for file in lateness_files_xls:\n",
    " #   newfile = xls_to_csv(file)\n",
    "  #  lateness_files_csv.append(newfile)\n",
    "    \n",
    "for file in lateness_files_csv:\n",
    "    try:\n",
    "        lateness_records = lateness_records.append(get_lateness_records(file))\n",
    "        print(file,'appended')\n",
    "    except:\n",
    "        lateness_records = get_lateness_records(file)\n",
    "        print(file, 'created/replaced')\n",
    "        \n",
    "    \n",
    "lateness_records = lateness_records.reset_index()\n"
   ]
  },
  {
   "cell_type": "code",
   "execution_count": 16,
   "id": "d4450796-b35a-4afb-9d69-0c16565677ec",
   "metadata": {},
   "outputs": [],
   "source": [
    "records_supp = lateness_records.merge(id_list, left_on='ID', right_on = 'KRONOS_BADGE_NUMBER', indicator=True)"
   ]
  },
  {
   "cell_type": "code",
   "execution_count": 9,
   "id": "6bf97479-1d75-40ef-9ff0-25399a5338b8",
   "metadata": {},
   "outputs": [
    {
     "data": {
      "text/plain": [
       "MANHATTAN        21361\n",
       "BROOKLYN         15872\n",
       "BRONX            14199\n",
       "QUEENS            4813\n",
       "STATEN ISLAND      813\n",
       "Name: BOROUGH_NAME, dtype: int64"
      ]
     },
     "execution_count": 9,
     "metadata": {},
     "output_type": "execute_result"
    }
   ],
   "source": [
    "records_supp['BOROUGH_NAME'].value_counts(dropna=False)"
   ]
  },
  {
   "cell_type": "code",
   "execution_count": null,
   "id": "c9b06725",
   "metadata": {},
   "outputs": [],
   "source": [
    "def remove_not_at_dev(id_list, eval_data):\n",
    "    data = eval_data.copy()\n",
    "    valid_data = pd.DataFrame()\n",
    "\n",
    "    def get_valid_rows_by_person(df, person_id, end_date, start_date):\n",
    "        df = df.drop(df[df['ID'].apply(lambda x: int(x) != int(person_id))].index)\n",
    "        orig_length = df.shape[0]\n",
    "        df = df.drop(df[df['DAY']<start_date].index)\n",
    "        df = df.drop(df[df['DAY']>end_date].index)\n",
    "        \n",
    "        rows_dropped = orig_length - df.shape[0]\n",
    "          \n",
    "        return (df, rows_dropped)\n",
    "        \n",
    "    for index, row in id_list.iterrows():\n",
    "        valid_rows, rows_dropped = get_valid_rows_by_person(data, row['ID'], row['End'], row['Start'])\n",
    "        #print(rows_dropped)\n",
    "        valid_data = valid_data.append(valid_rows)\n",
    "    \n",
    "    return valid_data\n",
    "\n",
    "lateness_records = remove_not_at_dev(id_list, lateness_records)  "
   ]
  },
  {
   "cell_type": "code",
   "execution_count": 17,
   "id": "515fc6d3",
   "metadata": {},
   "outputs": [],
   "source": [
    "def days_post_implementation(df, date_column, cons_column, start_date_dict = {'MANHATTAN': dt.date(2022,4,3), 'QUEENS': dt.date(2022,4,4), 'STATEN ISLAND':dt.date(2022,4,4), 'BRONX': dt.date(2022,4,17), 'BROOKLYN': dt.date(2022,5,16)}):\n",
    "        def get_day_difference(row, datecol, conscol, start_date_dict):\n",
    "            input_date = row[datecol]\n",
    "            #try:\n",
    "            reference_date = start_date_dict[row[conscol]]\n",
    "            #except:\n",
    "             #   reference_date = start_date_dict[row[conscol].tolist()[0]]\n",
    "                \n",
    "            for item in [input_date, reference_date]:\n",
    "                if isinstance(item, dt.date):\n",
    "                    pass\n",
    "                elif isinstance(item, 'str'):\n",
    "                    item = dt.datetime.strptime(item, '%Y%m%d')\n",
    "                else:\n",
    "                    try:\n",
    "                        item = dt.datetime.strptime(str(int(item)), '%Y%m%d')\n",
    "                    except:\n",
    "                        print(f'{item} not properly formatted as date. Type {type(item)}')\n",
    "                        return None\n",
    "            \n",
    "            datediff = input_date - reference_date\n",
    "            return datediff\n",
    "            \n",
    "        if start_date_dict is not None:\n",
    "            df['DAYS_AFTER_IMPLEMENTATION'] = df.apply(lambda row: get_day_difference(row, date_column, cons_column, start_date_dict), axis=1)\n",
    "        else:\n",
    "            try:\n",
    "                df['DAYS_AFTER_IMPLEMENTATION'] = df.apply(lambda row: row[date_column]-dt.date(2021,8,5), axis=1)\n",
    "            except:\n",
    "                df[date_column] = df[date_column].apply(lambda x: dt.datetime.strptime(str(int(x)), '%Y%m%d'))\n",
    "                df['DAYS_AFTER_IMPLEMENTATION'] = df.apply(lambda row: row[date_column].date()-dt.date(2021,8,5), axis=1)\n",
    "                \n",
    "                \n",
    "        df['DAYS_AFTER_IMPLEMENTATION'] = df['DAYS_AFTER_IMPLEMENTATION'].apply(lambda x: x.days)\n",
    "        \n",
    "        return df\n",
    "    \n",
    "lateness_records = days_post_implementation(records_supp, 'DAY', 'BOROUGH_NAME')\n",
    "\n",
    "#lateness_records['DAY_GROUP'] = pd.cut(lateness_records['DAYS_AFTER_IMPLEMENTATION'], bins=[i for i in range(-105, 182, 7)], include_lowest=True, retbins=True)[0]\n"
   ]
  },
  {
   "cell_type": "code",
   "execution_count": 18,
   "id": "b463ab53",
   "metadata": {},
   "outputs": [],
   "source": [
    "def get_daily_breakdown(lateness_records, timecol):\n",
    "    daily_data = lateness_records[[timecol,'MINUTES']].groupby(timecol).sum().reset_index()\n",
    "    counts_df = lateness_records[[timecol,'ID']].groupby(timecol).count().reset_index()\n",
    "    counts_df.columns = [timecol,'LATE_COUNT']\n",
    "    daily_data = daily_data.merge(counts_df, on= timecol)\n",
    "    \n",
    "    return daily_data\n",
    "\n",
    "\n"
   ]
  },
  {
   "cell_type": "code",
   "execution_count": 20,
   "id": "e8328501-2304-4a51-9a40-70d6aaa60094",
   "metadata": {},
   "outputs": [
    {
     "data": {
      "image/png": "[encoded data removed]",
      "text/plain": [
       "<Figure size 432x288 with 1 Axes>"
      ]
     },
     "metadata": {
      "needs_background": "light"
     },
     "output_type": "display_data"
    }
   ],
   "source": [
    "def plot_lateness(df, ycol, timecol = 'DAYS_AFTER_IMPLEMENTATION', breakpoint = None, geo_col = None, xlims=(None, None)):\n",
    "    try:\n",
    "        plt.close('all')\n",
    "    except:\n",
    "        pass\n",
    "    \n",
    "    fig = plt.subplot()\n",
    "    \n",
    "    if xlims != (None, None):\n",
    "        df = df[(df[timecol] >= xlims[0]) & (df[timecol] <= xlims[1])]\n",
    "        \n",
    "    if breakpoint is not None:\n",
    "        df1 = df[df[timecol] < breakpoint]\n",
    "        df2 = df[df[timecol] >= breakpoint]\n",
    "        \n",
    "        \n",
    "        sns.regplot(x=timecol, y=ycol, data=df1, color='steelblue', scatter_kws={'alpha':.3}, label='Pre-Implementation')\n",
    "        sns.regplot(x=timecol, y=ycol, data=df2, color='orange', scatter_kws={'alpha':.3}, label='Post-Implementation')\n",
    "           \n",
    "    else:\n",
    "        sns.scatterplot(x=timecol, y=ycol, data=df)\n",
    "    \n",
    "    for label in fig.get_xticklabels():\n",
    "        label.set_rotation(30)\n",
    "        label.set_ha('right')\n",
    "\n",
    "    fig.set_ylabel('Minutes')\n",
    "    fig.set_xlabel('Days since implementation')\n",
    "    fig.set_title('Total Minutes of Lateness (Caretakers)')\n",
    "    \n",
    "    pre_imp_current = mlines.Line2D([], [], color=\"steelblue\", label='Pre-Implementation')\n",
    "    post_imp_current = mlines.Line2D([], [], color=\"orange\", label='Post-Implementation')\n",
    "    fig.legend(handles=[pre_imp_current, post_imp_current])\n",
    "\n",
    "\n",
    "    plt.savefig(f\"Plots/Lateness/Minutes_of_Lateness.png\", bbox_inches='tight', dpi=300)\n",
    "    \n",
    "\n",
    "plot_lateness(df=get_daily_breakdown(lateness_records, 'DAYS_AFTER_IMPLEMENTATION'), \n",
    "              ycol='MINUTES', timecol = 'DAYS_AFTER_IMPLEMENTATION', xlims=(-150, 75), breakpoint=0)"
   ]
  },
  {
   "cell_type": "markdown",
   "id": "02c9fc2f",
   "metadata": {},
   "source": [
    "### Open, read, and process accrual data (containing absences)\n",
    "\n",
    "This section **was never used for analysis of Property-Based Scheduling**, due in large part to difficulty extracting the relevant data from Kronos. I am leaving it in as reference, but note that the data files referenced below do not exist, and attempting to run this code will produce errors."
   ]
  },
  {
   "cell_type": "code",
   "execution_count": 3,
   "id": "35098b7a",
   "metadata": {},
   "outputs": [],
   "source": [
    "def get_leave_records(file_path, fmt='csv'):\n",
    "    \n",
    "    with open(file_path,'r', errors='ignore') as file_handle:\n",
    "        raw_file = file_handle.readlines()\n",
    "    \n",
    "    ID_lines = []\n",
    "    record_lines = []\n",
    "    \n",
    "    i=5\n",
    "    day_unit = 8\n",
    "    while i in range(5, len(raw_file)-2):\n",
    "        #print(raw_file[i])\n",
    "        if re.search(r'Annual Leave', raw_file[i]) is not None:\n",
    "            day_unit = re.search(r'\\d+', raw_file[i])[0]\n",
    "        if re.search(r'ID:',raw_file[i]) is not None:\n",
    "            ID_lines += raw_file[i]\n",
    "            name = re.search(r'([\\w\\s-\\'\\.]+,\\s\\w+)', raw_file[i])[0]\n",
    "            ID = re.search(r'\\d+', raw_file[i])[0]\n",
    "            \n",
    "            i += 1\n",
    "            while (re.search(r'ID:', raw_file[i]) is None):\n",
    "                if re.search(r'Annual Leave', raw_file[i]) is not None:\n",
    "                    day_unit = re.search(r'\\d+', raw_file[i])[0]\n",
    "                try:\n",
    "                    date = re.search(r'\\d{1,2}\\/\\d{1,2}\\/\\d{4}', raw_file[i])[0]\n",
    "                except:\n",
    "                    date = None\n",
    "                    leave_action = None\n",
    "                    time_taken = None\n",
    "                    leave_type = None\n",
    "                    \n",
    "                if date is not None:\n",
    "                    try:\n",
    "                        leave_action = re.search(r'(?<='+date+r',+)[A-z\\s]{3,}', raw_file[i])[0]\n",
    "                    except:\n",
    "                        leave_action = None\n",
    "                    \n",
    "                    \n",
    "                    try:\n",
    "                        time_taken = re.search(r'\\-?\\d{1}:\\d{2}:\\d{2}', raw_file[i])[0]\n",
    "                    except:\n",
    "                        time_taken = None\n",
    "                    \n",
    "                    if time_taken is not None:\n",
    "                        type_search = re.search(r'(?<=\\-?\\d{1}:\\d{2}:\\d{2},+)[A-z\\s\\-]{2,}', raw_file[i])\n",
    "                        \n",
    "                        if type_search == None:\n",
    "                            leave_type = None\n",
    "                        else:\n",
    "                            leave_type = type_search[0]\n",
    "                        \n",
    "                \n",
    "                #print(date, leave_action, time_taken, leave_type)\n",
    "                if None in (date, leave_action, time_taken, leave_type):\n",
    "                    i = min(i+1, len(raw_file))\n",
    "\n",
    "                else:\n",
    "                    record_lines.append(tuple([ID, name, date, leave_action, time_taken, leave_type, day_unit]))\n",
    "                    i = min(i+1, len(raw_file))\n",
    "                \n",
    "                if i == len(raw_file):\n",
    "                    break\n",
    "        else:\n",
    "            i += 1\n",
    "    \n",
    "    data = pd.DataFrame(data=record_lines, \n",
    "                        columns=['ID','NAME','DAY','ACTION', 'TIME', 'TYPE', 'DAY_UNIT'])\n",
    "    \n",
    "    data['DAY_UNIT'] = data['DAY_UNIT'].astype(int)\n",
    "    data['DAY'] = data['DAY'].apply(lambda x: pd.to_datetime(x).date())\n",
    "    \n",
    "    def calc_total_hours(row):\n",
    "        days = row['TIME'].split(':')[0]\n",
    "        hours_from_days = abs(int(days))*row['DAY_UNIT']\n",
    "        hours_recorded = int(row['TIME'].split(':')[1])\n",
    "        \n",
    "        return hours_recorded + hours_from_days\n",
    "        \n",
    "    data['LEAVE_HOURS'] = data.apply(lambda row: calc_total_hours(row), axis=1)\n",
    "    \n",
    "    data['VAC_HOURS'] = data['LEAVE_HOURS']*data['TYPE'].apply(lambda x: 1 if 'Vacation' in x else 0) \n",
    "    \n",
    "    return(data)\n",
    "\n"
   ]
  },
  {
   "cell_type": "code",
   "execution_count": 11,
   "id": "290bbcd6",
   "metadata": {},
   "outputs": [
    {
     "name": "stdout",
     "output_type": "stream",
     "text": [
      "WARNING *** file size (684352) not 512 + multiple of sector size (512)\n",
      "WARNING *** OLE2 inconsistency: SSCS size is 0 but SSAT size is non-zero\n",
      "WARNING *** file size (1216152) not 512 + multiple of sector size (512)\n",
      "WARNING *** OLE2 inconsistency: SSCS size is 0 but SSAT size is non-zero\n",
      "WARNING *** file size (847614) not 512 + multiple of sector size (512)\n",
      "WARNING *** OLE2 inconsistency: SSCS size is 0 but SSAT size is non-zero\n"
     ]
    }
   ],
   "source": [
    "#leave_breuk = get_leave_records('DATA/Lateness/07012021_11042021_Accrual_BREUK.csv')\n",
    "#leave_wyckoff = get_leave_records('DATA/Lateness/07012021_11042021_Accrual_WYCKOFF.csv')\n",
    "#leave = leave_breuk.append(leave_wyckoff)\n",
    "leave_files = glob.glob('DATA/Lateness/02092022_Accrual/*.xls')\n",
    "converted_files = []\n",
    "\n",
    "for file in leave_files:\n",
    "    converted_files.append(xls_to_csv(file))\n",
    "    \n",
    "combined_leave_records = pd.DataFrame(columns=['ID','NAME','DAY','ACTION','TIME','TYPE','DAY_UNIT','LEAVE_HOURS','VAC_HOURS'])\n",
    "\n",
    "for file in converted_files:\n",
    "    combined_leave_records = combined_leave_records.append(get_leave_records(file))\n",
    "\n",
    "combined_leave_records = combined_leave_records.reset_index()"
   ]
  },
  {
   "cell_type": "code",
   "execution_count": 12,
   "id": "9e556b58",
   "metadata": {},
   "outputs": [
    {
     "name": "stdout",
     "output_type": "stream",
     "text": [
      "WARNING *** file size (2531548) not 512 + multiple of sector size (512)\n",
      "WARNING *** OLE2 inconsistency: SSCS size is 0 but SSAT size is non-zero\n",
      "WARNING *** file size (2502035) not 512 + multiple of sector size (512)\n",
      "WARNING *** OLE2 inconsistency: SSCS size is 0 but SSAT size is non-zero\n",
      "WARNING *** file size (2592023) not 512 + multiple of sector size (512)\n",
      "WARNING *** OLE2 inconsistency: SSCS size is 0 but SSAT size is non-zero\n",
      "WARNING *** file size (2387281) not 512 + multiple of sector size (512)\n",
      "WARNING *** OLE2 inconsistency: SSCS size is 0 but SSAT size is non-zero\n",
      "WARNING *** file size (2447649) not 512 + multiple of sector size (512)\n",
      "WARNING *** OLE2 inconsistency: SSCS size is 0 but SSAT size is non-zero\n",
      "WARNING *** file size (2558867) not 512 + multiple of sector size (512)\n",
      "WARNING *** OLE2 inconsistency: SSCS size is 0 but SSAT size is non-zero\n",
      "WARNING *** file size (2796290) not 512 + multiple of sector size (512)\n",
      "WARNING *** OLE2 inconsistency: SSCS size is 0 but SSAT size is non-zero\n",
      "WARNING *** file size (2286944) not 512 + multiple of sector size (512)\n",
      "WARNING *** OLE2 inconsistency: SSCS size is 0 but SSAT size is non-zero\n",
      "WARNING *** file size (2460956) not 512 + multiple of sector size (512)\n",
      "WARNING *** OLE2 inconsistency: SSCS size is 0 but SSAT size is non-zero\n",
      "WARNING *** file size (2592023) not 512 + multiple of sector size (512)\n",
      "WARNING *** OLE2 inconsistency: SSCS size is 0 but SSAT size is non-zero\n",
      "WARNING *** file size (2286944) not 512 + multiple of sector size (512)\n",
      "WARNING *** OLE2 inconsistency: SSCS size is 0 but SSAT size is non-zero\n",
      "WARNING *** file size (2666193) not 512 + multiple of sector size (512)\n",
      "WARNING *** OLE2 inconsistency: SSCS size is 0 but SSAT size is non-zero\n"
     ]
    }
   ],
   "source": [
    "comp_files = glob.glob('DATA/Lateness/02092022_Accrual_BK/*.xls')\n",
    "converted_files = []\n",
    "\n",
    "for file in comp_files:\n",
    "    converted_files.append(xls_to_csv(file))\n",
    "    \n",
    "\n",
    "    \n",
    "combined_leave_records_comp = pd.DataFrame(columns=['ID','NAME','DAY','ACTION','TIME','TYPE','DAY_UNIT','LEAVE_HOURS','VAC_HOURS'])\n",
    "\n",
    "for file in converted_files:\n",
    "    combined_leave_records_comp = combined_leave_records_comp.append(get_leave_records(file))\n",
    "    #print(combined_leave_records)\n",
    "    \n"
   ]
  },
  {
   "cell_type": "code",
   "execution_count": 13,
   "id": "43bf9374",
   "metadata": {},
   "outputs": [],
   "source": [
    "for df in [combined_leave_records, combined_leave_records_comp]:\n",
    "    df['PILOT_LOC'] = df['ID'].apply(lambda x: get_dev_from_id(x))\n",
    "    df['ID'] = df['ID'].astype(int).astype(str)\n",
    "    \n",
    "combined_leave_records = days_post_implementation(combined_leave_records, 'DAY', 'PILOT_LOC')\n",
    "combined_leave_records_comp = days_post_implementation(combined_leave_records_comp, 'DAY', 'PILOT_LOC', start_date_dict=None)\n",
    "\n",
    "for df in [combined_leave_records, combined_leave_records_comp]: \n",
    "    df['DAY_GROUP'] = pd.cut(df['DAYS_AFTER_IMPLEMENTATION'], bins=[i for i in range(-105, 182, 7)], include_lowest=True, retbins=True)[0]\n"
   ]
  },
  {
   "cell_type": "code",
   "execution_count": 14,
   "id": "59f0f65b",
   "metadata": {},
   "outputs": [],
   "source": [
    "def get_leave_daily(leave, timecol):\n",
    "    leave_daily = leave[[timecol,'ID','LEAVE_HOURS','VAC_HOURS']].groupby(timecol).agg({'ID':'count','LEAVE_HOURS':sum, 'VAC_HOURS':sum}).reset_index()\n",
    "    leave_daily.columns = [timecol,'LEAVE_COUNT','LEAVE_HOURS', 'VAC_HOURS']\n",
    "    \n",
    "    return leave_daily"
   ]
  },
  {
   "cell_type": "markdown",
   "id": "d97f49dd",
   "metadata": {},
   "source": [
    "### Merge datasets and produce graphs"
   ]
  },
  {
   "cell_type": "code",
   "execution_count": 31,
   "id": "d391a14d",
   "metadata": {},
   "outputs": [],
   "source": [
    "#USE THIS BLOCK TO GET OVERALL TOTALS OR CONSOLIDATION-SPECIFIC TOTALS\n",
    "\n",
    "def make_daily_totals(end_date_str = '2022-01-21', norm=False):\n",
    "    if norm == False:\n",
    "        timecol = 'DAY'\n",
    "    else:\n",
    "        timecol = 'DAYS_AFTER_IMPLEMENTATION'\n",
    "        \n",
    "    daily_data = get_daily_breakdown(lateness_records, timecol)\n",
    "    leave_daily = get_leave_daily(combined_leave_records, timecol)\n",
    "    daily_data = daily_data.merge(leave_daily, on=timecol)\n",
    "\n",
    "    daily_data_comp = get_daily_breakdown(lateness_records_comp, timecol)\n",
    "    leave_daily_comp = get_leave_daily(combined_leave_records_comp, timecol)\n",
    "    daily_data_comp = daily_data_comp.merge(leave_daily_comp, on=timecol)\n",
    "\n",
    "    if norm == False:\n",
    "        day_range = pd.date_range(start=\"2021-07-01\", end=end_date_str, freq='D')\n",
    "        missing_days = day_range.difference(daily_data['DAY'])\n",
    "\n",
    "        def make_value_lists(original_list, num_items):\n",
    "            list_of_lists = []\n",
    "            for item in original_list:\n",
    "                new_list = [item]+[0]*(num_items-1)\n",
    "                list_of_lists.append(new_list)\n",
    "\n",
    "            return list_of_lists\n",
    "\n",
    "        daily_data = daily_data.append(pd.DataFrame(data=make_value_lists([item.date() for item in missing_days.to_list()], len(daily_data.columns)), columns=daily_data.columns)).sort_values('DAY').reset_index()\n",
    "\n",
    "    for df in [daily_data, daily_data_comp]:\n",
    "        df['TOTAL_HOURS'] = df['LEAVE_HOURS']+df['MINUTES']/60\n",
    "        df['NONVAC_HOURS'] = df['TOTAL_HOURS']-df['VAC_HOURS']\n",
    "        \n",
    "        df['TOTAL_HOURS_RO_7DAY'] = df['TOTAL_HOURS'].rolling(7).mean()\n",
    "        df['VAC_HOURS_RO_7DAY'] = df['VAC_HOURS'].rolling(7).mean()\n",
    "        df['NONVAC_HOURS_RO_7DAY'] = df['NONVAC_HOURS'].rolling(7).mean()\n",
    "        df['ABSENCES_RO_7DAY'] = df['LEAVE_COUNT'].rolling(7).mean()\n",
    "        df['LATENESS_RO_7DAY'] = df['LATE_COUNT'].rolling(7).mean()\n",
    "\n",
    "\n",
    "    return (daily_data, daily_data_comp)"
   ]
  },
  {
   "cell_type": "code",
   "execution_count": 32,
   "id": "7b23f960",
   "metadata": {},
   "outputs": [],
   "source": [
    "daily_data, daily_data_comp = make_daily_totals(end_date_str = '2022-01-21', norm=False)\n",
    "daily_data_norm, daily_data_comp_norm = make_daily_totals(end_date_str = '2022-01-21', norm=True)"
   ]
  },
  {
   "cell_type": "code",
   "execution_count": null,
   "id": "c915da3c",
   "metadata": {},
   "outputs": [],
   "source": []
  },
  {
   "cell_type": "code",
   "execution_count": 17,
   "id": "89f6cc61",
   "metadata": {},
   "outputs": [],
   "source": [
    "def make_plot_lateness(daily_data, end_date = dt.date(2021,9,1), day_limit=None, normalize_dates = False, title='Worker-Hours Lost to Lateness, Unplanned Absence'):\n",
    "    \n",
    "    if normalize_dates == True:\n",
    "        date_column = 'DAYS_AFTER_IMPLEMENTATION'\n",
    "        start_date = -90\n",
    "        if day_limit is not None:\n",
    "            end_date = day_limit\n",
    "        else:\n",
    "            end_date_td = end_date - dt.date(2021,10,18)\n",
    "            end_date = end_date_td.days\n",
    "        \n",
    "    elif normalize_dates == False:\n",
    "        date_column = 'DAY'\n",
    "        start_date = dt.date(2021,7,1)\n",
    "        end_date = end_date\n",
    "    \n",
    "    fig = plt.subplot()\n",
    "    sns.scatterplot(x=date_column, y='NONVAC_HOURS', data=daily_data[daily_data[date_column]>=start_date])\n",
    "    sns.lineplot(x=date_column, y='NONVAC_HOURS_RO_7DAY', data=daily_data[daily_data[date_column]>=start_date], color='darkorange')\n",
    "\n",
    "    for label in fig.get_xticklabels():\n",
    "        label.set_rotation(30)\n",
    "        label.set_ha('right')\n",
    "\n",
    "    fig.set_ylabel('Worker-Hours')\n",
    "    fig.set_xlabel('')\n",
    "    fig.set_title(title)\n",
    "    fig.set_xlim(left=start_date, right=end_date)\n",
    "\n",
    "    plt.savefig(f\"Plots/ABSENCES/{end_date}_{title}.pdf\", bbox_inches='tight')\n",
    "    \n",
    "    return None\n",
    "\n",
    "\n",
    "\n",
    "#sns.lineplot(x=daily_data['DAY'],y=daily_data['MINS_PER_WORKER_RO_7DAY'])"
   ]
  },
  {
   "cell_type": "code",
   "execution_count": 43,
   "id": "fb233469",
   "metadata": {},
   "outputs": [
    {
     "data": {
      "text/plain": [
       "0.7173293327980764"
      ]
     },
     "execution_count": 43,
     "metadata": {},
     "output_type": "execute_result"
    }
   ],
   "source": [
    "(daily_data['NONVAC_HOURS_RO_7DAY']-daily_data['NONVAC_HOURS_RO_7DAY'].mean()).corr(daily_data_comp['NONVAC_HOURS_RO_7DAY']-daily_data_comp['NONVAC_HOURS_RO_7DAY'].mean())"
   ]
  },
  {
   "cell_type": "code",
   "execution_count": 18,
   "id": "479a3555",
   "metadata": {},
   "outputs": [],
   "source": [
    "graph_end_date = dt.date(2022, 1, 21)"
   ]
  },
  {
   "cell_type": "code",
   "execution_count": 38,
   "id": "9769ef4d",
   "metadata": {},
   "outputs": [
    {
     "data": {
      "image/png": "[encoded data removed]",
      "text/plain": [
       "<Figure size 432x288 with 1 Axes>"
      ]
     },
     "metadata": {
      "needs_background": "light"
     },
     "output_type": "display_data"
    }
   ],
   "source": [
    "make_plot_lateness(daily_data_norm, end_date = dt.date(2022, 1, 21), normalize_dates=True, title='Worker-Hours Lost to Lateness, Unplanned Absence')"
   ]
  },
  {
   "cell_type": "code",
   "execution_count": 39,
   "id": "850d3d45",
   "metadata": {},
   "outputs": [
    {
     "data": {
      "image/png": "[encoded data removed]",
      "text/plain": [
       "<Figure size 432x288 with 1 Axes>"
      ]
     },
     "metadata": {
      "needs_background": "light"
     },
     "output_type": "display_data"
    }
   ],
   "source": [
    "make_plot_lateness(daily_data_comp_norm, end_date = dt.date(2022, 1, 21), normalize_dates=True, title='Worker-Hours Lost to Lateness, Unplanned Absence (BROOKLYN)')"
   ]
  },
  {
   "cell_type": "code",
   "execution_count": 60,
   "id": "ecc2d30c",
   "metadata": {},
   "outputs": [
    {
     "name": "stdout",
     "output_type": "stream",
     "text": [
      "LATE_COUNT\n",
      "Pilot Change: -0.22619047619047608 | Pre: 4.615384615384615 | Post: 3.5714285714285716\n",
      "Comp Change: 0.09392265193370174 | Pre: 38.785714285714285 | Post: 42.42857142857143\n"
     ]
    }
   ],
   "source": [
    "def get_prepost_change(col='NONVAC_HOURS'):\n",
    "    comp_pre = daily_data_comp_norm[daily_data_comp_norm['DAYS_AFTER_IMPLEMENTATION'].apply(lambda x: x in range(-28, 0))][col].mean()\n",
    "    comp_post = daily_data_comp_norm[daily_data_comp_norm['DAYS_AFTER_IMPLEMENTATION'].apply(lambda x: x in range(63, 91))][col].mean()\n",
    "\n",
    "    pilot_pre = daily_data_norm[daily_data_norm['DAYS_AFTER_IMPLEMENTATION'].apply(lambda x: x in range(-28, 0))][col].mean()\n",
    "    pilot_post = daily_data_norm[daily_data_norm['DAYS_AFTER_IMPLEMENTATION'].apply(lambda x: x in range(63, 91))][col].mean()\n",
    "\n",
    "    print(f'{col}\\nPilot Change: {(pilot_post-pilot_pre)/pilot_pre} | Pre: {pilot_pre} | Post: {pilot_post}\\nComp Change: {(comp_post-comp_pre)/comp_pre} | Pre: {comp_pre} | Post: {comp_post}')\n",
    "    \n",
    "get_prepost_change('LATE_COUNT')"
   ]
  },
  {
   "cell_type": "code",
   "execution_count": 61,
   "id": "bf403cf0",
   "metadata": {},
   "outputs": [],
   "source": [
    "def pilot_comp_corr(column):\n",
    "    corr = daily_data[column].corr(daily_data_comp[column])\n",
    "    print(f'{column}: {corr}')"
   ]
  },
  {
   "cell_type": "code",
   "execution_count": 69,
   "id": "3d72a487",
   "metadata": {},
   "outputs": [
    {
     "name": "stdout",
     "output_type": "stream",
     "text": [
      "LEAVE_COUNT: 0.7391875142195307\n"
     ]
    }
   ],
   "source": [
    "pilot_comp_corr('LEAVE_COUNT')"
   ]
  },
  {
   "cell_type": "code",
   "execution_count": 21,
   "id": "8aa26c71",
   "metadata": {},
   "outputs": [],
   "source": [
    "def make_plot_absent_count(daily_data, end_date = dt.date(2021,9,1), title='Absences per Day'):\n",
    "\n",
    "    #Workers absent daily\n",
    "    fig = plt.subplot()\n",
    "    sns.scatterplot(x='DAY', y='LEAVE_COUNT', data=daily_data[daily_data['DAY']>=dt.date(2021,7,1)])\n",
    "    sns.lineplot(x='DAY', y='ABSENCES_RO_7DAY', data=daily_data[daily_data['DAY']>=dt.date(2021,7,1)], color='darkorange')\n",
    "\n",
    "    for label in fig.get_xticklabels():\n",
    "        label.set_rotation(30)\n",
    "        label.set_ha('right')\n",
    "\n",
    "    fig.set_ylabel('Workers')\n",
    "    fig.set_xlabel('')\n",
    "    fig.set_title(title)\n",
    "    fig.set_xlim(left=dt.date(2021,7,1), right=end_date)\n",
    "\n",
    "    plt.savefig(f\"Plots/ABSENCES/{end_date}_{title}.pdf\", bbox_inches='tight')\n",
    " \n",
    "                 \n",
    "    return None\n",
    "\n",
    "\n",
    "\n",
    "#sns.lineplot(x=daily_data['DAY'],y=daily_data['MINS_PER_WORKER_RO_7DAY'])"
   ]
  },
  {
   "cell_type": "code",
   "execution_count": 36,
   "id": "3473d053",
   "metadata": {},
   "outputs": [
    {
     "data": {
      "image/png": "[encoded data removed]",
      "text/plain": [
       "<Figure size 432x288 with 1 Axes>"
      ]
     },
     "metadata": {
      "needs_background": "light"
     },
     "output_type": "display_data"
    }
   ],
   "source": [
    "make_plot_absent_count(daily_data, end_date = graph_end_date, title='Absences per Day')"
   ]
  },
  {
   "cell_type": "code",
   "execution_count": 37,
   "id": "f14c3ced",
   "metadata": {},
   "outputs": [
    {
     "data": {
      "image/png": "[encoded data removed]",
      "text/plain": [
       "<Figure size 432x288 with 1 Axes>"
      ]
     },
     "metadata": {
      "needs_background": "light"
     },
     "output_type": "display_data"
    }
   ],
   "source": [
    "make_plot_absent_count(daily_data_comp, end_date = graph_end_date, title='Absences per Day (BROOKLYN)')"
   ]
  },
  {
   "cell_type": "code",
   "execution_count": 24,
   "id": "56335bdb",
   "metadata": {},
   "outputs": [],
   "source": [
    "#Workers late daily\n",
    "def make_plot_late_count(daily_data, end_date = dt.date(2021,9,1), title='Late Workers per Day'):\n",
    "    fig = plt.subplot()\n",
    "    sns.scatterplot(x='DAY', y='LATE_COUNT', data=daily_data[daily_data['DAY']>=dt.date(2021,7,1)])\n",
    "    sns.lineplot(x='DAY', y='LATENESS_RO_7DAY', data=daily_data[daily_data['DAY']>=dt.date(2021,7,1)], color='darkorange')\n",
    "\n",
    "    for label in fig.get_xticklabels():\n",
    "        label.set_rotation(30)\n",
    "        label.set_ha('right')\n",
    "\n",
    "    fig.set_ylabel('Workers')\n",
    "    fig.set_xlabel('')\n",
    "    fig.set_title(title)\n",
    "    fig.set_xlim(left=dt.date(2021,7,1), right=end_date)\n",
    "\n",
    "    plt.savefig(f\"Plots/ABSENCES/{end_date}_{title}.pdf\", bbox_inches='tight')\n",
    "\n",
    "\n",
    "\n",
    "\n",
    "#sns.lineplot(x=daily_data['DAY'],y=daily_data['MINS_PER_WORKER_RO_7DAY'])"
   ]
  },
  {
   "cell_type": "code",
   "execution_count": 34,
   "id": "9a5cd6f9",
   "metadata": {},
   "outputs": [
    {
     "data": {
      "image/png": "[encoded data removed]",
      "text/plain": [
       "<Figure size 432x288 with 1 Axes>"
      ]
     },
     "metadata": {
      "needs_background": "light"
     },
     "output_type": "display_data"
    }
   ],
   "source": [
    "make_plot_late_count(daily_data, end_date = graph_end_date, title='Late Workers per Day')"
   ]
  },
  {
   "cell_type": "code",
   "execution_count": 35,
   "id": "394bca19",
   "metadata": {},
   "outputs": [
    {
     "data": {
      "image/png": "[encoded data removed]",
      "text/plain": [
       "<Figure size 432x288 with 1 Axes>"
      ]
     },
     "metadata": {
      "needs_background": "light"
     },
     "output_type": "display_data"
    }
   ],
   "source": [
    "make_plot_late_count(daily_data_comp, end_date = graph_end_date, title='Late Workers per Day (BROOKLYN)')"
   ]
  },
  {
   "cell_type": "code",
   "execution_count": null,
   "id": "17704a25",
   "metadata": {},
   "outputs": [],
   "source": [
    "leave['VAC_HOURS'] = leave['LEAVE_HOURS']*leave['TYPE'].apply(lambda x: 1 if 'Vacation' in x else 0) "
   ]
  },
  {
   "cell_type": "markdown",
   "id": "3b0dcc3f",
   "metadata": {},
   "source": [
    "## REGRESSION"
   ]
  },
  {
   "cell_type": "code",
   "execution_count": 33,
   "id": "bf22e0c3",
   "metadata": {},
   "outputs": [
    {
     "data": {
      "text/html": [
       "<div>\n",
       "<style scoped>\n",
       "    .dataframe tbody tr th:only-of-type {\n",
       "        vertical-align: middle;\n",
       "    }\n",
       "\n",
       "    .dataframe tbody tr th {\n",
       "        vertical-align: top;\n",
       "    }\n",
       "\n",
       "    .dataframe thead th {\n",
       "        text-align: right;\n",
       "    }\n",
       "</style>\n",
       "<table border=\"1\" class=\"dataframe\">\n",
       "  <thead>\n",
       "    <tr style=\"text-align: right;\">\n",
       "      <th></th>\n",
       "      <th>DAY</th>\n",
       "      <th>MINUTES</th>\n",
       "      <th>LATE_COUNT</th>\n",
       "      <th>LEAVE_COUNT</th>\n",
       "      <th>LEAVE_HOURS</th>\n",
       "      <th>VAC_HOURS</th>\n",
       "      <th>TOTAL_HOURS</th>\n",
       "      <th>NONVAC_HOURS</th>\n",
       "      <th>TOTAL_HOURS_RO_7DAY</th>\n",
       "      <th>VAC_HOURS_RO_7DAY</th>\n",
       "      <th>NONVAC_HOURS_RO_7DAY</th>\n",
       "      <th>ABSENCES_RO_7DAY</th>\n",
       "      <th>LATENESS_RO_7DAY</th>\n",
       "    </tr>\n",
       "  </thead>\n",
       "  <tbody>\n",
       "    <tr>\n",
       "      <th>206</th>\n",
       "      <td>2022-01-23</td>\n",
       "      <td>1216</td>\n",
       "      <td>22</td>\n",
       "      <td>26</td>\n",
       "      <td>223</td>\n",
       "      <td>45</td>\n",
       "      <td>243.266667</td>\n",
       "      <td>198.266667</td>\n",
       "      <td>712.295238</td>\n",
       "      <td>154.428571</td>\n",
       "      <td>557.866667</td>\n",
       "      <td>169.428571</td>\n",
       "      <td>36.285714</td>\n",
       "    </tr>\n",
       "    <tr>\n",
       "      <th>207</th>\n",
       "      <td>2022-01-24</td>\n",
       "      <td>2595</td>\n",
       "      <td>62</td>\n",
       "      <td>104</td>\n",
       "      <td>843</td>\n",
       "      <td>296</td>\n",
       "      <td>886.250000</td>\n",
       "      <td>590.250000</td>\n",
       "      <td>607.254762</td>\n",
       "      <td>192.428571</td>\n",
       "      <td>414.826190</td>\n",
       "      <td>73.428571</td>\n",
       "      <td>40.428571</td>\n",
       "    </tr>\n",
       "    <tr>\n",
       "      <th>208</th>\n",
       "      <td>2022-01-25</td>\n",
       "      <td>2030</td>\n",
       "      <td>53</td>\n",
       "      <td>82</td>\n",
       "      <td>556</td>\n",
       "      <td>241</td>\n",
       "      <td>589.833333</td>\n",
       "      <td>348.833333</td>\n",
       "      <td>570.523810</td>\n",
       "      <td>190.285714</td>\n",
       "      <td>380.238095</td>\n",
       "      <td>70.571429</td>\n",
       "      <td>41.000000</td>\n",
       "    </tr>\n",
       "    <tr>\n",
       "      <th>209</th>\n",
       "      <td>2022-01-26</td>\n",
       "      <td>1834</td>\n",
       "      <td>44</td>\n",
       "      <td>76</td>\n",
       "      <td>549</td>\n",
       "      <td>191</td>\n",
       "      <td>579.566667</td>\n",
       "      <td>388.566667</td>\n",
       "      <td>546.995238</td>\n",
       "      <td>191.142857</td>\n",
       "      <td>355.852381</td>\n",
       "      <td>68.571429</td>\n",
       "      <td>42.000000</td>\n",
       "    </tr>\n",
       "    <tr>\n",
       "      <th>210</th>\n",
       "      <td>2022-01-27</td>\n",
       "      <td>1323</td>\n",
       "      <td>48</td>\n",
       "      <td>79</td>\n",
       "      <td>609</td>\n",
       "      <td>289</td>\n",
       "      <td>631.050000</td>\n",
       "      <td>342.050000</td>\n",
       "      <td>548.933333</td>\n",
       "      <td>193.428571</td>\n",
       "      <td>355.504762</td>\n",
       "      <td>68.571429</td>\n",
       "      <td>42.142857</td>\n",
       "    </tr>\n",
       "    <tr>\n",
       "      <th>211</th>\n",
       "      <td>2022-01-28</td>\n",
       "      <td>1188</td>\n",
       "      <td>43</td>\n",
       "      <td>98</td>\n",
       "      <td>735</td>\n",
       "      <td>311</td>\n",
       "      <td>754.800000</td>\n",
       "      <td>443.800000</td>\n",
       "      <td>548.252381</td>\n",
       "      <td>199.000000</td>\n",
       "      <td>349.252381</td>\n",
       "      <td>68.571429</td>\n",
       "      <td>41.571429</td>\n",
       "    </tr>\n",
       "    <tr>\n",
       "      <th>212</th>\n",
       "      <td>2022-01-29</td>\n",
       "      <td>1164</td>\n",
       "      <td>26</td>\n",
       "      <td>50</td>\n",
       "      <td>352</td>\n",
       "      <td>90</td>\n",
       "      <td>371.400000</td>\n",
       "      <td>281.400000</td>\n",
       "      <td>579.452381</td>\n",
       "      <td>209.000000</td>\n",
       "      <td>370.452381</td>\n",
       "      <td>73.571429</td>\n",
       "      <td>42.571429</td>\n",
       "    </tr>\n",
       "    <tr>\n",
       "      <th>213</th>\n",
       "      <td>2022-01-30</td>\n",
       "      <td>1725</td>\n",
       "      <td>41</td>\n",
       "      <td>32</td>\n",
       "      <td>306</td>\n",
       "      <td>78</td>\n",
       "      <td>334.750000</td>\n",
       "      <td>256.750000</td>\n",
       "      <td>592.521429</td>\n",
       "      <td>213.714286</td>\n",
       "      <td>378.807143</td>\n",
       "      <td>74.428571</td>\n",
       "      <td>45.285714</td>\n",
       "    </tr>\n",
       "    <tr>\n",
       "      <th>214</th>\n",
       "      <td>2022-01-31</td>\n",
       "      <td>3384</td>\n",
       "      <td>92</td>\n",
       "      <td>128</td>\n",
       "      <td>1093</td>\n",
       "      <td>300</td>\n",
       "      <td>1149.400000</td>\n",
       "      <td>849.400000</td>\n",
       "      <td>630.114286</td>\n",
       "      <td>214.285714</td>\n",
       "      <td>415.828571</td>\n",
       "      <td>77.857143</td>\n",
       "      <td>49.571429</td>\n",
       "    </tr>\n",
       "    <tr>\n",
       "      <th>215</th>\n",
       "      <td>2022-02-01</td>\n",
       "      <td>2230</td>\n",
       "      <td>46</td>\n",
       "      <td>260</td>\n",
       "      <td>2718</td>\n",
       "      <td>140</td>\n",
       "      <td>2755.166667</td>\n",
       "      <td>2615.166667</td>\n",
       "      <td>939.447619</td>\n",
       "      <td>199.857143</td>\n",
       "      <td>739.590476</td>\n",
       "      <td>103.285714</td>\n",
       "      <td>48.571429</td>\n",
       "    </tr>\n",
       "    <tr>\n",
       "      <th>216</th>\n",
       "      <td>2022-02-02</td>\n",
       "      <td>1935</td>\n",
       "      <td>53</td>\n",
       "      <td>93</td>\n",
       "      <td>686</td>\n",
       "      <td>114</td>\n",
       "      <td>718.250000</td>\n",
       "      <td>604.250000</td>\n",
       "      <td>959.259524</td>\n",
       "      <td>188.857143</td>\n",
       "      <td>770.402381</td>\n",
       "      <td>105.714286</td>\n",
       "      <td>49.857143</td>\n",
       "    </tr>\n",
       "    <tr>\n",
       "      <th>217</th>\n",
       "      <td>2022-02-03</td>\n",
       "      <td>2004</td>\n",
       "      <td>49</td>\n",
       "      <td>127</td>\n",
       "      <td>2005</td>\n",
       "      <td>214</td>\n",
       "      <td>2038.400000</td>\n",
       "      <td>1824.400000</td>\n",
       "      <td>1160.309524</td>\n",
       "      <td>178.142857</td>\n",
       "      <td>982.166667</td>\n",
       "      <td>112.571429</td>\n",
       "      <td>50.000000</td>\n",
       "    </tr>\n",
       "    <tr>\n",
       "      <th>218</th>\n",
       "      <td>2022-02-04</td>\n",
       "      <td>1541</td>\n",
       "      <td>46</td>\n",
       "      <td>104</td>\n",
       "      <td>771</td>\n",
       "      <td>272</td>\n",
       "      <td>796.683333</td>\n",
       "      <td>524.683333</td>\n",
       "      <td>1166.292857</td>\n",
       "      <td>172.571429</td>\n",
       "      <td>993.721429</td>\n",
       "      <td>113.428571</td>\n",
       "      <td>50.428571</td>\n",
       "    </tr>\n",
       "    <tr>\n",
       "      <th>219</th>\n",
       "      <td>2022-02-05</td>\n",
       "      <td>921</td>\n",
       "      <td>20</td>\n",
       "      <td>23</td>\n",
       "      <td>199</td>\n",
       "      <td>70</td>\n",
       "      <td>214.350000</td>\n",
       "      <td>144.350000</td>\n",
       "      <td>1143.857143</td>\n",
       "      <td>169.714286</td>\n",
       "      <td>974.142857</td>\n",
       "      <td>109.571429</td>\n",
       "      <td>49.571429</td>\n",
       "    </tr>\n",
       "    <tr>\n",
       "      <th>220</th>\n",
       "      <td>2022-02-06</td>\n",
       "      <td>754</td>\n",
       "      <td>16</td>\n",
       "      <td>11</td>\n",
       "      <td>110</td>\n",
       "      <td>80</td>\n",
       "      <td>122.566667</td>\n",
       "      <td>42.566667</td>\n",
       "      <td>1113.545238</td>\n",
       "      <td>170.000000</td>\n",
       "      <td>943.545238</td>\n",
       "      <td>106.571429</td>\n",
       "      <td>46.000000</td>\n",
       "    </tr>\n",
       "    <tr>\n",
       "      <th>221</th>\n",
       "      <td>2022-02-07</td>\n",
       "      <td>3470</td>\n",
       "      <td>68</td>\n",
       "      <td>77</td>\n",
       "      <td>656</td>\n",
       "      <td>284</td>\n",
       "      <td>713.833333</td>\n",
       "      <td>429.833333</td>\n",
       "      <td>1051.321429</td>\n",
       "      <td>167.714286</td>\n",
       "      <td>883.607143</td>\n",
       "      <td>99.285714</td>\n",
       "      <td>42.571429</td>\n",
       "    </tr>\n",
       "    <tr>\n",
       "      <th>222</th>\n",
       "      <td>2022-02-08</td>\n",
       "      <td>1920</td>\n",
       "      <td>41</td>\n",
       "      <td>56</td>\n",
       "      <td>431</td>\n",
       "      <td>164</td>\n",
       "      <td>463.000000</td>\n",
       "      <td>299.000000</td>\n",
       "      <td>723.869048</td>\n",
       "      <td>171.142857</td>\n",
       "      <td>552.726190</td>\n",
       "      <td>70.142857</td>\n",
       "      <td>41.857143</td>\n",
       "    </tr>\n",
       "    <tr>\n",
       "      <th>223</th>\n",
       "      <td>2022-02-09</td>\n",
       "      <td>1805</td>\n",
       "      <td>35</td>\n",
       "      <td>61</td>\n",
       "      <td>475</td>\n",
       "      <td>246</td>\n",
       "      <td>505.083333</td>\n",
       "      <td>259.083333</td>\n",
       "      <td>693.416667</td>\n",
       "      <td>190.000000</td>\n",
       "      <td>503.416667</td>\n",
       "      <td>65.571429</td>\n",
       "      <td>39.285714</td>\n",
       "    </tr>\n",
       "    <tr>\n",
       "      <th>224</th>\n",
       "      <td>2022-02-10</td>\n",
       "      <td>1465</td>\n",
       "      <td>38</td>\n",
       "      <td>59</td>\n",
       "      <td>485</td>\n",
       "      <td>300</td>\n",
       "      <td>509.416667</td>\n",
       "      <td>209.416667</td>\n",
       "      <td>474.990476</td>\n",
       "      <td>202.285714</td>\n",
       "      <td>272.704762</td>\n",
       "      <td>55.857143</td>\n",
       "      <td>37.714286</td>\n",
       "    </tr>\n",
       "    <tr>\n",
       "      <th>225</th>\n",
       "      <td>2022-02-11</td>\n",
       "      <td>1056</td>\n",
       "      <td>35</td>\n",
       "      <td>60</td>\n",
       "      <td>504</td>\n",
       "      <td>327</td>\n",
       "      <td>521.600000</td>\n",
       "      <td>194.600000</td>\n",
       "      <td>435.692857</td>\n",
       "      <td>210.142857</td>\n",
       "      <td>225.550000</td>\n",
       "      <td>49.571429</td>\n",
       "      <td>36.142857</td>\n",
       "    </tr>\n",
       "  </tbody>\n",
       "</table>\n",
       "</div>"
      ],
      "text/plain": [
       "            DAY  MINUTES  LATE_COUNT  LEAVE_COUNT  LEAVE_HOURS  VAC_HOURS  \\\n",
       "206  2022-01-23     1216          22           26          223         45   \n",
       "207  2022-01-24     2595          62          104          843        296   \n",
       "208  2022-01-25     2030          53           82          556        241   \n",
       "209  2022-01-26     1834          44           76          549        191   \n",
       "210  2022-01-27     1323          48           79          609        289   \n",
       "211  2022-01-28     1188          43           98          735        311   \n",
       "212  2022-01-29     1164          26           50          352         90   \n",
       "213  2022-01-30     1725          41           32          306         78   \n",
       "214  2022-01-31     3384          92          128         1093        300   \n",
       "215  2022-02-01     2230          46          260         2718        140   \n",
       "216  2022-02-02     1935          53           93          686        114   \n",
       "217  2022-02-03     2004          49          127         2005        214   \n",
       "218  2022-02-04     1541          46          104          771        272   \n",
       "219  2022-02-05      921          20           23          199         70   \n",
       "220  2022-02-06      754          16           11          110         80   \n",
       "221  2022-02-07     3470          68           77          656        284   \n",
       "222  2022-02-08     1920          41           56          431        164   \n",
       "223  2022-02-09     1805          35           61          475        246   \n",
       "224  2022-02-10     1465          38           59          485        300   \n",
       "225  2022-02-11     1056          35           60          504        327   \n",
       "\n",
       "     TOTAL_HOURS  NONVAC_HOURS  TOTAL_HOURS_RO_7DAY  VAC_HOURS_RO_7DAY  \\\n",
       "206   243.266667    198.266667           712.295238         154.428571   \n",
       "207   886.250000    590.250000           607.254762         192.428571   \n",
       "208   589.833333    348.833333           570.523810         190.285714   \n",
       "209   579.566667    388.566667           546.995238         191.142857   \n",
       "210   631.050000    342.050000           548.933333         193.428571   \n",
       "211   754.800000    443.800000           548.252381         199.000000   \n",
       "212   371.400000    281.400000           579.452381         209.000000   \n",
       "213   334.750000    256.750000           592.521429         213.714286   \n",
       "214  1149.400000    849.400000           630.114286         214.285714   \n",
       "215  2755.166667   2615.166667           939.447619         199.857143   \n",
       "216   718.250000    604.250000           959.259524         188.857143   \n",
       "217  2038.400000   1824.400000          1160.309524         178.142857   \n",
       "218   796.683333    524.683333          1166.292857         172.571429   \n",
       "219   214.350000    144.350000          1143.857143         169.714286   \n",
       "220   122.566667     42.566667          1113.545238         170.000000   \n",
       "221   713.833333    429.833333          1051.321429         167.714286   \n",
       "222   463.000000    299.000000           723.869048         171.142857   \n",
       "223   505.083333    259.083333           693.416667         190.000000   \n",
       "224   509.416667    209.416667           474.990476         202.285714   \n",
       "225   521.600000    194.600000           435.692857         210.142857   \n",
       "\n",
       "     NONVAC_HOURS_RO_7DAY  ABSENCES_RO_7DAY  LATENESS_RO_7DAY  \n",
       "206            557.866667        169.428571         36.285714  \n",
       "207            414.826190         73.428571         40.428571  \n",
       "208            380.238095         70.571429         41.000000  \n",
       "209            355.852381         68.571429         42.000000  \n",
       "210            355.504762         68.571429         42.142857  \n",
       "211            349.252381         68.571429         41.571429  \n",
       "212            370.452381         73.571429         42.571429  \n",
       "213            378.807143         74.428571         45.285714  \n",
       "214            415.828571         77.857143         49.571429  \n",
       "215            739.590476        103.285714         48.571429  \n",
       "216            770.402381        105.714286         49.857143  \n",
       "217            982.166667        112.571429         50.000000  \n",
       "218            993.721429        113.428571         50.428571  \n",
       "219            974.142857        109.571429         49.571429  \n",
       "220            943.545238        106.571429         46.000000  \n",
       "221            883.607143         99.285714         42.571429  \n",
       "222            552.726190         70.142857         41.857143  \n",
       "223            503.416667         65.571429         39.285714  \n",
       "224            272.704762         55.857143         37.714286  \n",
       "225            225.550000         49.571429         36.142857  "
      ]
     },
     "execution_count": 33,
     "metadata": {},
     "output_type": "execute_result"
    }
   ],
   "source": [
    "daily_data_comp.tail(20)"
   ]
  },
  {
   "cell_type": "code",
   "execution_count": null,
   "id": "3ce527fa",
   "metadata": {},
   "outputs": [],
   "source": [
    "def get_pilot_indicator(row, pilot_dates_dict = {'Breukelen':dt.date(2021, 8, 15), 'Wyckoff Gardens':dt.date(2021,9,13), 'Sumner':dt.date(2021,10,18)}):\n",
    "    pilot_cons = pilot_dates_dict.keys()\n",
    "    if row['CONS_NAME'] not in pilot_cons:\n",
    "        return 0\n",
    "    elif row['ZZCREATEDATE'] < pilot_dates_dict[row['CONS_NAME']]:\n",
    "        return 0\n",
    "    else:\n",
    "        return 1\n",
    "    \n",
    "wo_counts_enriched['PILOT_IND'] = wo_counts_enriched.apply(lambda row: get_pilot_indicator(row), axis=1)"
   ]
  }
 ],
 "metadata": {
  "kernelspec": {
   "display_name": "Python 3 (ipykernel)",
   "language": "python",
   "name": "python3"
  },
  "language_info": {
   "codemirror_mode": {
    "name": "ipython",
    "version": 3
   },
   "file_extension": ".py",
   "mimetype": "text/x-python",
   "name": "python",
   "nbconvert_exporter": "python",
   "pygments_lexer": "ipython3",
   "version": "3.9.13"
  }
 },
 "nbformat": 4,
 "nbformat_minor": 5
}
