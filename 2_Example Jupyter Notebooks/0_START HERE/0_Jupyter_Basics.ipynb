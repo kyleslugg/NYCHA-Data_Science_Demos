{
 "cells": [
  {
   "cell_type": "markdown",
   "id": "7863c630-359a-42f3-9130-3ec8c7c09122",
   "metadata": {},
   "source": [
    "# Jupyter Notebook Basics\n",
    "#### Edited Feb. 17, 2023 by Kyle Slugg\n",
    "\n",
    "This Notebook introduces the basic functionality of Jupyter, which is available through the Jupyter Lab, Jupyter Notebook, and many other interfaces. Note that this is NOT intended as an introduction to data analysis specifically: for that, see the Notebook titled \"Example_WO_Trends.ipynb\""
   ]
  },
  {
   "cell_type": "markdown",
   "id": "15bb2e14-0e42-4328-890a-3008e9e9ac6e",
   "metadata": {},
   "source": [
    "### Python Code"
   ]
  },
  {
   "cell_type": "code",
   "execution_count": 6,
   "id": "b0a5d979-3423-4df0-b70c-fc351da2900a",
   "metadata": {},
   "outputs": [
    {
     "name": "stdout",
     "output_type": "stream",
     "text": [
      "If you want to print a string below, use the 'print()' function as it's used here\n"
     ]
    }
   ],
   "source": [
    "#By default, cells in a Jupyter Notebook contain Python code\n",
    "#Lines beginning with the '#' symbol are comments -- they are not executed as code\n",
    "\n",
    "'''Python does not feature multi-line comments by default, but you can achieve much the same thing\n",
    "using multi-line _strings_, which are the basic data type used to present text. These multi-line strings\n",
    "are enclosed in triple quotes (using either the single or double-quote symbol).'''\n",
    "\n",
    "#When used in programs, strings can be stored as variables, like so:\n",
    "\n",
    "string1 = 'This string uses single quotes on a single line'\n",
    "string2 = \"This string uses double quotes, but functions the same way\"\n",
    "multiline_string = '''This string uses\n",
    "triple quotes, and\n",
    "so\n",
    "can span multiple\n",
    "lines without any other special\n",
    "\n",
    "\n",
    "formatting'''\n",
    "\n",
    "multiline_string2 = \"\"\"This is\n",
    "to demonstrate that triple 'double-quotes' work as well, but we won't\n",
    "beat you over the head with it.\"\"\"\n",
    "\n",
    "print_string = \"If you want to print a string below, use the 'print()' function as it's used here\"\n",
    "\n",
    "print(print_string)\n",
    "\n",
    "#Go ahead -- execute this cell by pressing shift-enter, and see what happens"
   ]
  },
  {
   "cell_type": "code",
   "execution_count": 15,
   "id": "5fcf0648-a0cb-4a13-a537-2a549faddca7",
   "metadata": {},
   "outputs": [
    {
     "name": "stdout",
     "output_type": "stream",
     "text": [
      "Multiplication:  16\n",
      "Exponentiation:  32\n",
      "Division:  2.5\n",
      "Modulus/remainder:  1\n"
     ]
    }
   ],
   "source": [
    "#You can also take advantage of code blocks to perform any simple functions that Python performs natively\n",
    "\n",
    "print(\"Multiplication: \", 2 * 8)\n",
    "print(\"Exponentiation: \", 2**5)\n",
    "print(\"Division: \", 5/2)\n",
    "print(\"Modulo/remainder: \", 5%2)"
   ]
  },
  {
   "cell_type": "code",
   "execution_count": 12,
   "id": "401a2d9c-7214-4823-8c98-5f15656fdd29",
   "metadata": {},
   "outputs": [
    {
     "data": {
      "text/plain": [
       "5"
      ]
     },
     "execution_count": 12,
     "metadata": {},
     "output_type": "execute_result"
    }
   ],
   "source": [
    "max(1, 2, 3, 4, 5, -10) #Some basic math functions, like max, can take in unlimited numbers as arguments"
   ]
  },
  {
   "cell_type": "code",
   "execution_count": 14,
   "id": "7098fb47-78d8-4b20-b670-46451c4e9239",
   "metadata": {},
   "outputs": [
    {
     "data": {
      "text/plain": [
       "15"
      ]
     },
     "execution_count": 14,
     "metadata": {},
     "output_type": "execute_result"
    }
   ],
   "source": [
    "#But be careful -- for many math functions, you will need to provide your numbers as a LIST, enclosed by\n",
    "#square brackets\n",
    "\n",
    "sum([1, 2, 3, 4, 5])"
   ]
  },
  {
   "cell_type": "markdown",
   "id": "9fa4628d-ca49-414c-b474-355bb8ba0429",
   "metadata": {},
   "source": [
    "### Adding text (and other annotations)\n",
    "\n"
   ]
  }
 ],
 "metadata": {
  "kernelspec": {
   "display_name": "Python 3 (ipykernel)",
   "language": "python",
   "name": "python3"
  },
  "language_info": {
   "codemirror_mode": {
    "name": "ipython",
    "version": 3
   },
   "file_extension": ".py",
   "mimetype": "text/x-python",
   "name": "python",
   "nbconvert_exporter": "python",
   "pygments_lexer": "ipython3",
   "version": "3.9.13"
  }
 },
 "nbformat": 4,
 "nbformat_minor": 5
}
