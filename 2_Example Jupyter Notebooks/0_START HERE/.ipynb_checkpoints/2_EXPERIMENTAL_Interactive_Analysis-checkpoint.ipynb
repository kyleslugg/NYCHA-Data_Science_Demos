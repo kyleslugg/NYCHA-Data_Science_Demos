{
 "cells": [
  {
   "cell_type": "markdown",
   "id": "48997788-f7a3-4627-b6c5-2dabb1298528",
   "metadata": {},
   "source": [
    "# EXPERIMENTAL: Viewing and analyzing work order trends in PyGWalker"
   ]
  },
  {
   "cell_type": "markdown",
   "id": "6c94c426-31c4-4950-8587-8d16ffbe463d",
   "metadata": {},
   "source": [
    "#### This notebook imports and processes the same dataset used in notebook 1, and then loads those data into a new, more interactive interface with PyGWalker\n",
    "\n",
    "Note that I have not worked with this tool extensively. I am providing it only for your exploration, should you find it interesting and/or useful."
   ]
  },
  {
   "cell_type": "code",
   "execution_count": null,
   "id": "2b0a7dce-bbdf-4452-82cd-44feff5fa68b",
   "metadata": {},
   "outputs": [],
   "source": [
    "#Necessary imports: Numpy, Pandas, and datetime for data manipulation; matplotlib.pyplot and Seaborn for visualization\n",
    "#(These \"packages\" or \"libraries\" are outside of Python's so-called \"standard library\" of built-in functionality, so we need to \n",
    "    #import them separately as we do here. For convenience, we give them short aliases such as \"np\",\"pd\", and \"sns\".)\n",
    "import numpy as np\n",
    "import pandas as pd\n",
    "import datetime as dt\n",
    "import pygwalker\n",
    "import unicodedata #For removing characters that cause trouble with PyGWalker\n",
    "\n",
    "#We want to display all columns in the previews below, so we set the display.max_columns option of Pandas to None\n",
    "pd.set_option('display.max_columns', None)"
   ]
  },
  {
   "cell_type": "code",
   "execution_count": null,
   "id": "27e5a757-b7fe-4827-8090-5d5eeac4eb20",
   "metadata": {},
   "outputs": [],
   "source": [
    "#Using the read_csv() method of Pandas, read in work order data as a Pandas DataFrame\n",
    "t = pd.read_csv('Data/St_Nick_Vendor_WOs.csv', encoding='utf-8')"
   ]
  },
  {
   "cell_type": "code",
   "execution_count": null,
   "id": "700337aa-1918-4791-beb9-0761e7842988",
   "metadata": {},
   "outputs": [],
   "source": [
    "#Convert our date columns to Pandas' datetime format, for later manipulation\n",
    "for field in ['ZZCREATEDATE', 'STATUSDATE', 'PARENTSTATUSDATE']:\n",
    "    t[field] = pd.to_datetime(t[field])\n",
    "    \n",
    "#Using Python's built-in datetime method for converting dates/times to strings, create new fields\n",
    "#representing the month that work orders (and their parent work orders) were updated and/or created.\n",
    "t['CREATEMONTH'] = t['ZZCREATEDATE'].apply(lambda x: x.strftime('%Y%m'))\n",
    "t['STATUSMONTH'] = t['STATUSDATE'].apply(lambda x: x.strftime('%Y%m'))\n",
    "t['PARENTSTATUSMONTH'] = t['PARENTSTATUSDATE'].apply(lambda x: x.strftime('%Y%m'))"
   ]
  },
  {
   "cell_type": "markdown",
   "id": "1c4c45d0-91dc-4753-9444-f972b38be371",
   "metadata": {},
   "source": [
    "### Introducing: PyGWalker\n",
    "\n",
    "I have yet to explore this tool fully, but I recently discovered a promising new library for interactive, Tableau-style data analysis with Jupyter known as [PyGWalker](https://github.com/Kanaries/pygwalker). I've loaded up our work orders dataframe here for testing -- give it a try!\n",
    "\n",
    "Note: the first two cells below remove so-called \"control characters\" (such as line breaks) from all text fields in the DataFrame. These characters cause trouble when loading data into PyGWalker."
   ]
  },
  {
   "cell_type": "code",
   "execution_count": null,
   "id": "50b73739-f25c-4b27-9e25-744f1ffb65bb",
   "metadata": {},
   "outputs": [],
   "source": [
    "def remove_control_characters(s):\n",
    "    return \"\".join(ch for ch in s if unicodedata.category(ch)[0]!=\"C\")"
   ]
  },
  {
   "cell_type": "code",
   "execution_count": null,
   "id": "7fca211c-4dce-4d09-8b17-dd2fe357ca47",
   "metadata": {},
   "outputs": [],
   "source": [
    "types = pd.DataFrame(t.dtypes).reset_index()\n",
    "types.columns = ['col','type']\n",
    "obj_cols = types[types['type'] == 'object']['col'].to_list()\n",
    "\n",
    "for col in obj_cols:\n",
    "    t[col] = t[col].apply(lambda x: remove_control_characters(str(x)))"
   ]
  },
  {
   "cell_type": "code",
   "execution_count": null,
   "id": "61272686-dd9c-419d-bee3-df24ffbf8e32",
   "metadata": {},
   "outputs": [],
   "source": [
    "gwalker = pygwalker.walk(t)"
   ]
  },
  {
   "cell_type": "code",
   "execution_count": null,
   "id": "9c156136-2546-4f05-8ad4-150206cd720c",
   "metadata": {},
   "outputs": [],
   "source": []
  }
 ],
 "metadata": {
  "kernelspec": {
   "display_name": "Python 3 (ipykernel)",
   "language": "python",
   "name": "python3"
  },
  "language_info": {
   "codemirror_mode": {
    "name": "ipython",
    "version": 3
   },
   "file_extension": ".py",
   "mimetype": "text/x-python",
   "name": "python",
   "nbconvert_exporter": "python",
   "pygments_lexer": "ipython3",
   "version": "3.9.13"
  }
 },
 "nbformat": 4,
 "nbformat_minor": 5
}
