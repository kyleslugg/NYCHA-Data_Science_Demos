{
 "cells": [
  {
   "cell_type": "markdown",
   "id": "48997788-f7a3-4627-b6c5-2dabb1298528",
   "metadata": {},
   "source": [
    "# Intro to Data Analysis in Python: Analyzing Work Order Trends"
   ]
  },
  {
   "cell_type": "markdown",
   "id": "6c94c426-31c4-4950-8587-8d16ffbe463d",
   "metadata": {},
   "source": [
    "#### This notebook explores basic data manipulation, visualization, and analysis methods in Jupyter Notebook using a small set of work orders.\n",
    "\n",
    "This dataset contains work orders with the following characteristics:\n",
    "- Are vendor work orders (ZZCRAFT equals VENDOR)\n",
    "- Are located at St. Nicholas Houses (first three characters of LOCATION equal 038)\n",
    "- Were created on or after Jan. 1, 2022 (ZZCREATEDATE > 2021-12-31, due to peculiarities of Oracle SQL date filtering)\n",
    "\n",
    "The SQL query used to obtain these data is located in the \"Data/\" directory.\n",
    "\n",
    "The following code imports Python packages used for data analysis and visualization; imports our work order data as a Pandas **DataFrame** object; ensures that key date columns are in the correct format; and creates three new columns. See comments below for details.\n",
    "\n",
    "Throughout, abbreviations will be used to stand for generic objects, typically those within Pandas. They are:\n",
    "- **df:** a generic DataFrame object\n",
    "- **srs:** a generic Series (i.e., a column in a DataFrame) object\n",
    "- **fig:** a generic figure in either Seaborn or PyPlot"
   ]
  },
  {
   "cell_type": "code",
   "execution_count": null,
   "id": "2b0a7dce-bbdf-4452-82cd-44feff5fa68b",
   "metadata": {},
   "outputs": [],
   "source": [
    "#Necessary imports: Numpy, Pandas, and datetime for data manipulation; matplotlib.pyplot and Seaborn for visualization\n",
    "#(These \"packages\" or \"libraries\" are outside of Python's so-called \"standard library\" of built-in functionality, so we need to \n",
    "    #import them separately as we do here. For convenience, we give them short aliases such as \"np\",\"pd\", and \"sns\".)\n",
    "import numpy as np\n",
    "import pandas as pd\n",
    "import datetime as dt\n",
    "import matplotlib.pyplot as plt\n",
    "import seaborn as sns\n",
    "\n",
    "#We want to display all columns in the previews below, so we set the display.max_columns option of Pandas to None\n",
    "pd.set_option('display.max_columns', None)"
   ]
  },
  {
   "cell_type": "code",
   "execution_count": null,
   "id": "27e5a757-b7fe-4827-8090-5d5eeac4eb20",
   "metadata": {},
   "outputs": [],
   "source": [
    "#Using the read_csv() method of Pandas, read in work order data as a Pandas DataFrame\n",
    "t = pd.read_csv('Data/St_Nick_Vendor_WOs.csv')"
   ]
  },
  {
   "cell_type": "code",
   "execution_count": null,
   "id": "9aa899c7-62ff-4085-9337-7198a86ae664",
   "metadata": {},
   "outputs": [],
   "source": [
    "#Let's look at the first few rows of our data:\n",
    "t.head(5)"
   ]
  },
  {
   "cell_type": "code",
   "execution_count": null,
   "id": "7f57a3b1-1469-4d63-885d-75bfea44d45c",
   "metadata": {},
   "outputs": [],
   "source": [
    "#We can also see what data types Pandas has associated with each row:\n",
    "t.dtypes"
   ]
  },
  {
   "cell_type": "markdown",
   "id": "dc428829-cbda-4957-8438-f67a8c02e9f7",
   "metadata": {},
   "source": [
    "We see from the above that Pandas has imported most of our columns -- even our date columns -- as \"objects,\" which, in this case, usually means text. Since we want to work with dates AS dates -- comparing them, ordering them, etc. -- we should convert the relevant columns to a more useful type."
   ]
  },
  {
   "cell_type": "code",
   "execution_count": null,
   "id": "700337aa-1918-4791-beb9-0761e7842988",
   "metadata": {},
   "outputs": [],
   "source": [
    "#Convert our date columns to Pandas' datetime format, for later manipulation\n",
    "for field in ['ZZCREATEDATE', 'STATUSDATE', 'PARENTSTATUSDATE']:\n",
    "    t[field] = pd.to_datetime(t[field])\n",
    "    \n",
    "#Using Python's built-in datetime method for converting dates/times to strings, create new fields\n",
    "#representing the month that work orders (and their parent work orders) were updated and/or created.\n",
    "t['CREATEMONTH'] = t['ZZCREATEDATE'].apply(lambda x: x.strftime('%Y%m'))\n",
    "t['STATUSMONTH'] = t['STATUSDATE'].apply(lambda x: x.strftime('%Y%m'))\n",
    "t['PARENTSTATUSMONTH'] = t['PARENTSTATUSDATE'].apply(lambda x: x.strftime('%Y%m'))"
   ]
  },
  {
   "cell_type": "code",
   "execution_count": null,
   "id": "19ea14db-7509-4408-b5a3-526d26c0f366",
   "metadata": {},
   "outputs": [],
   "source": [
    "#List values of ZZSUBWORKTYPE associated with lead work for later use\n",
    "lbp_swts = ['LBPXRF05','LBPDEFNOCU6','LBPASMAPT','LBPDEFCU6','LBPXRF','LBPASMCOM']\n",
    "\n",
    "#Create a new DataFrame of work orders where ZZSUBWORKTYPE is not in our list of lead-related values\n",
    "t_nolead = t[t['ZZSUBWORKTYPE'].apply(lambda x: x not in lbp_swts)]"
   ]
  },
  {
   "cell_type": "markdown",
   "id": "38a0bd9f-b7ae-4f48-864b-32c10de32a35",
   "metadata": {},
   "source": [
    "### Viewing and manipulating data in a DataFrame"
   ]
  },
  {
   "cell_type": "markdown",
   "id": "67afa809-de2e-4f3b-8c60-b7089d6057ad",
   "metadata": {},
   "source": [
    "First, take a look at the first 10 entries in our \"no lead\" DataFrame using Pandas' `df.head(number)` function.\n",
    "\n",
    "The last X rows of a DataFrame can be accessed similarly, using `df.tail(X)`."
   ]
  },
  {
   "cell_type": "code",
   "execution_count": null,
   "id": "a8caed89-8a56-4faf-96f9-d605bb1ba7db",
   "metadata": {},
   "outputs": [],
   "source": [
    "#Take a look at the first 10 entries in our \"no lead\" DataFrame\n",
    "t_nolead.head(10)"
   ]
  },
  {
   "cell_type": "markdown",
   "id": "af52858b-2e22-47ae-935e-9496a0525891",
   "metadata": {},
   "source": [
    "Next, let's take a look at how our work orders are distributed by FAILURECODE, using Pandas' `<series>.value_counts()` function. We access the **Series** object associated with a particular column name using the notation `df[\"Column Name\"]`.\n",
    "\n",
    "If you would like to see how many rows contain no value in a field, make sure to pass in `dropna = False`."
   ]
  },
  {
   "cell_type": "code",
   "execution_count": null,
   "id": "e2a698de-d42a-4879-9611-b2763067bc82",
   "metadata": {
    "tags": []
   },
   "outputs": [],
   "source": [
    "t['FAILURECODE'].value_counts(dropna=False)"
   ]
  },
  {
   "cell_type": "code",
   "execution_count": null,
   "id": "6bc26b4a-a626-43a0-8c29-6020f9774b7f",
   "metadata": {
    "tags": []
   },
   "outputs": [],
   "source": [
    "t_nolead['FAILURECODE'].value_counts(dropna=False)"
   ]
  },
  {
   "cell_type": "markdown",
   "id": "fcb1be73-f299-4f3c-a9e2-080f88d96317",
   "metadata": {},
   "source": [
    "Let's now take a look at when these work orders were first created. We will do this using Pandas *DataFrame*.groupby() function.\n",
    "\n",
    "A couple of notes on groupby and its arguments:\n",
    "- Specify what fields the table should be grouped on using the \"by\" argument (the first argument by default, if no label is specified). A DataFrame can be grouped on a single column with an expression such as `df.groupby('FAILURECODE')` OR `df.groupby(by = ['FAILURECODE'])`. One can also group on multiple columns by adding another column name to the columns list, e.g., `df.groupby(by = ['FAILURECODE','CREATEMONTH])`. See the code below for examples.\n",
    "- In most common uses, the **GroupBy** object that is created by *DataFrame*.groupby() should be *aggregated* using an *aggregator function*. A useful explainer can be found [here](https://sparkbyexamples.com/pandas/pandas-aggregate-functions-with-examples/)."
   ]
  },
  {
   "cell_type": "code",
   "execution_count": null,
   "id": "a263996f-961e-423a-9395-2041b0b76d63",
   "metadata": {
    "tags": []
   },
   "outputs": [],
   "source": [
    "#First, let's COUNT the number of work orders created in each month, and store it in a new DataFrame month_counts\n",
    "month_counts = t.groupby('CREATEMONTH').count()\n",
    "\n",
    "#Preview by simply calling the name of the object\n",
    "month_counts"
   ]
  },
  {
   "cell_type": "markdown",
   "id": "025c2990-16ba-40f4-9094-daa158dbd61b",
   "metadata": {},
   "source": [
    "As we see, when we call an *aggregator function* such as `count()` on a groupby object, it is applied to ALL columns by default. We can address this in two ways: by grouping only a subset of our DataFrame, or by using the more flexible -- but slightly more complex -- `agg()` function, which lets us specify what aggregations will be performed on what columns.\n",
    "\n",
    "Let's try the first approach first:"
   ]
  },
  {
   "cell_type": "code",
   "execution_count": null,
   "id": "08535100-f770-4e9a-8bcc-db9ec04e1bd6",
   "metadata": {
    "tags": []
   },
   "outputs": [],
   "source": [
    "#Create a new DataFrame from the subset of another DataFrame using bracket notation, with a list of fields at its core\n",
    "t_prime = t[['CREATEMONTH','WONUM']]\n",
    "\n",
    "#Now group and aggregate\n",
    "month_counts = t_prime.groupby('CREATEMONTH').count()\n",
    "\n",
    "month_counts"
   ]
  },
  {
   "cell_type": "markdown",
   "id": "af5c0816-ff0b-4b8d-b367-63d0e32d5829",
   "metadata": {},
   "source": [
    "Better! Now, let's break this down further, by month *and* failure code:"
   ]
  },
  {
   "cell_type": "code",
   "execution_count": null,
   "id": "6e3c7e39-ce48-4add-aea4-77488312f1b8",
   "metadata": {
    "tags": []
   },
   "outputs": [],
   "source": [
    "month_fc_counts = t[['CREATEMONTH', 'FAILURECODE', 'WONUM']].groupby(by = ['CREATEMONTH','FAILURECODE']).count()\n",
    "month_fc_counts"
   ]
  },
  {
   "cell_type": "markdown",
   "id": "cdf3e672-bcfd-4a09-832a-0bcb46c2811d",
   "metadata": {},
   "source": [
    "### Data preparation and visualization"
   ]
  },
  {
   "cell_type": "markdown",
   "id": "ee8c3b91-4ba1-45ba-968f-dd9f607c28cd",
   "metadata": {},
   "source": [
    "That's a few too many failure codes to represent cleanly. Let's reduce the number of categories we're working with by preserving the most common failure codes and grouping the rest as \"OTHER\". We can put the new category that each work order falls under in a new column, FC_CATEGORY.\n",
    "\n",
    "First, let's see what our most common failure codes are:"
   ]
  },
  {
   "cell_type": "code",
   "execution_count": null,
   "id": "5bbdfb30-855a-4310-8420-8d01b5a57cc0",
   "metadata": {
    "tags": []
   },
   "outputs": [],
   "source": [
    "t['FAILURECODE'].value_counts(dropna=False)"
   ]
  },
  {
   "cell_type": "markdown",
   "id": "65483289-86b9-4cf5-bb22-220087673c6f",
   "metadata": {},
   "source": [
    "It looks like PAINT, LEAD, and FLOOR work orders are most common. Let's write a function that will keep those categories and put all other work orders in the category of OTHER. We will apply this function directly to the series `t['FAILURECODE']`."
   ]
  },
  {
   "cell_type": "code",
   "execution_count": null,
   "id": "df51c37a-ea6e-4234-badf-a0379aed5940",
   "metadata": {},
   "outputs": [],
   "source": [
    "def recategorize_failurecodes(fc):\n",
    "    #First, we test to see if the failure code fc is in our list of codes to keep:\n",
    "    if fc in ['PAINT', 'LEAD', 'FLOOR']:\n",
    "        #If it is, we return that value\n",
    "        return fc\n",
    "    \n",
    "    #Otherwise, we know we can safely return OTHER\n",
    "    return 'OTHER'"
   ]
  },
  {
   "cell_type": "markdown",
   "id": "86e11cfa-f556-45ce-88c9-09037953c37e",
   "metadata": {},
   "source": [
    "We now create a new column in t representing these categories. We do this using Pandas' `srs.apply(some_function)` method, on which helpful (if unofficial) documentation can be found [here](https://www.w3resource.com/pandas/dataframe/dataframe-apply.php)."
   ]
  },
  {
   "cell_type": "code",
   "execution_count": null,
   "id": "7d43f7a3-e378-4142-895e-1d8a3aea6395",
   "metadata": {},
   "outputs": [],
   "source": [
    "t['FC_CATEGORY'] = t['FAILURECODE'].apply(lambda fc: recategorize_failurecodes(fc))"
   ]
  },
  {
   "cell_type": "markdown",
   "id": "2d52abfa-30c7-4afe-9201-6b7384c80939",
   "metadata": {},
   "source": [
    "Now, we can re-group our DataFrame by CREATEMONTH and FC_CATEGORY:"
   ]
  },
  {
   "cell_type": "code",
   "execution_count": null,
   "id": "332dae48-a4bc-43d3-b8aa-8c19b81e2d98",
   "metadata": {
    "tags": []
   },
   "outputs": [],
   "source": [
    "month_fc_category_counts = t[['CREATEMONTH', 'FC_CATEGORY', 'WONUM']].groupby(by = ['CREATEMONTH','FC_CATEGORY']).count()\n",
    "month_fc_category_counts"
   ]
  },
  {
   "cell_type": "markdown",
   "id": "812d4d37-baaa-40f9-8a7e-911d8323b833",
   "metadata": {},
   "source": [
    "Next, we will:\n",
    "1. Reset the index on our DataFrame to put CREATEMONTH and FC_CATEGORY back into ordinary columns/series\n",
    "2. Using our complete list of months and category codes, add all necessary empty rows to our DataFrame to ensure clean visualization\n",
    "3. Sort our DataFrame on these two columns"
   ]
  },
  {
   "cell_type": "code",
   "execution_count": null,
   "id": "be5cb0be-6c54-4107-b3b8-b4f7a351fe30",
   "metadata": {},
   "outputs": [],
   "source": [
    "month_fc_category_counts = month_fc_category_counts.reset_index()\n",
    "\n",
    "#Safeguard against accidently creating multiple 'index' columns:\n",
    "if 'index' in month_fc_category_counts.columns:\n",
    "    month_fc_category_counts.drop(columns = ['index'], inplace = True)\n",
    "    \n",
    "#Add blank rows / 0-count rows where necessary\n",
    "month_list = t['CREATEMONTH'].unique()\n",
    "status_list = t['FC_CATEGORY'].unique()\n",
    "\n",
    "for month in month_list:\n",
    "    for status in status_list:\n",
    "        #Check to see if this status-month combo is missing from the dataset\n",
    "        num_items_found = month_fc_category_counts.query(f\"(CREATEMONTH == '{month}') & (FC_CATEGORY == '{status}')\").shape[0]\n",
    "        \n",
    "        #If not in dataset, create a new DataFrame containing the blank row and append to month_fc_category_counts\n",
    "        if num_items_found == 0:\n",
    "            new_row = pd.DataFrame(data = {'CREATEMONTH': [month],\n",
    "                                           'FC_CATEGORY': [status],\n",
    "                                            'WONUM':[0]})\n",
    "            month_fc_category_counts = pd.concat([month_fc_category_counts, new_row])\n",
    "            \n",
    "#Sort, reset index, and drop 'index' column\n",
    "month_fc_category_counts.sort_values(['CREATEMONTH','FC_CATEGORY'], inplace = True)\n",
    "month_fc_category_counts.reset_index(inplace = True)\n",
    "month_fc_category_counts.drop(columns = ['index'], inplace = True)\n",
    "            "
   ]
  },
  {
   "cell_type": "code",
   "execution_count": null,
   "id": "d1e0a52d-bc82-4a08-b0cb-c69f031e1479",
   "metadata": {},
   "outputs": [],
   "source": [
    "month_fc_category_counts"
   ]
  },
  {
   "cell_type": "markdown",
   "id": "55d88606-4d3d-4edd-ae66-f88e98260474",
   "metadata": {},
   "source": [
    "#### Visualization"
   ]
  },
  {
   "cell_type": "markdown",
   "id": "9354a959-2124-494f-bd5b-f5270082ee2d",
   "metadata": {},
   "source": [
    "Now, with our data reshaped and sorted, we're ready to visualize. Let's start by making a bar graph showing how many open work orders in our dataset were created in each month. We'll use **Seaborn** for the core work of graphing our data, and dip into **Matplotlib's PyPlot module**, which was used to build Seaborn, only to tweak styling."
   ]
  },
  {
   "cell_type": "code",
   "execution_count": null,
   "id": "9aa22c1c-412d-4b72-be6a-04e38eae8230",
   "metadata": {},
   "outputs": [],
   "source": [
    "#Reset the index on month_counts, which we created above:\n",
    "month_counts.reset_index(inplace = True)\n",
    "\n",
    "#Create our bar chart using Seaborn's barplot method\n",
    "month_bar_chart = sns.barplot(data = month_counts, x = 'CREATEMONTH', y = 'WONUM')"
   ]
  },
  {
   "cell_type": "markdown",
   "id": "577c59a4-8acd-497b-b11c-1cc6434f4706",
   "metadata": {},
   "source": [
    "Our data display correctly, but our figure is unreadable, and the labels that do exist are unhelpful. Let's use matplotlib.pyplot (alias plt) functions to change this."
   ]
  },
  {
   "cell_type": "code",
   "execution_count": null,
   "id": "54b6ec00-8b2c-4407-97e8-2ed855ff76c3",
   "metadata": {},
   "outputs": [],
   "source": [
    "#Set our plot size\n",
    "plt.figure(figsize = (12, 5))\n",
    "\n",
    "month_bar_chart = sns.barplot(data = month_counts, x = 'CREATEMONTH', y = 'WONUM')\n",
    "\n",
    "#Rotate the tick labels on our x axis by 90 degrees and format\n",
    "def label_formatter(label):\n",
    "    month = label[-2:]\n",
    "    year = label[0:4]\n",
    "    return f'{month}/{year}'\n",
    "\n",
    "plt.xticks(rotation = 90, ticks = month_bar_chart.get_xticks(), \n",
    "           labels = [label_formatter(label.get_text()) for label in month_bar_chart.get_xticklabels()])\n",
    "\n",
    "#Add axis labels and title\n",
    "plt.xlabel('Month Created')\n",
    "plt.ylabel('Total Work Orders')\n",
    "plt.title('Open Work Orders by Month of Creation')\n",
    "\n",
    "#Save to file\n",
    "plt.savefig('_test.png')"
   ]
  },
  {
   "cell_type": "markdown",
   "id": "976e6069-8fdc-45f5-9377-b53cd6213e97",
   "metadata": {},
   "source": [
    "Numerous other display options are available through both Seaborn and the underlying PyPlot interfaces. For details, please see:\n",
    "- PyPlot's page of [examples](https://matplotlib.org/stable/gallery/index.html) and related documentation\n",
    "- Seaborn's [example gallery](https://seaborn.pydata.org/examples/index.html) and related documentation"
   ]
  },
  {
   "cell_type": "markdown",
   "id": "4e395b4e-55e2-490c-8922-e869cf350d34",
   "metadata": {},
   "source": [
    "#### Drawing Subplots with FacetGrid\n",
    "\n",
    "Seaborn's `FacetGrid()` class makes it simple to draw multiple, similar plots for subsets of data -- for example, visualizing the aging of work orders in various categories of failure code. \n",
    "\n",
    "`FacetGrid()` organizes subplots into rows and columns, each of which can represent values of a different variable. (In our example here, we are using only rows, but an instance that uses both row and column functionality can be found in **INSERT REFERENCE TO NOTEBOOK HERE**.) Each of the constituent plots can be accessed by calling `<grid_object>.axes.flat`, which provides a list of `axes` objects (i.e., subplots). These `axes` objects can be styled in the same manner as above."
   ]
  },
  {
   "cell_type": "code",
   "execution_count": null,
   "id": "2839d530-798b-4edb-88f3-62562ff751a2",
   "metadata": {},
   "outputs": [],
   "source": [
    "#Create a FacetGrid() object, which provides the row/column skeleton and divides up the dataset based on the variables used\n",
    "g = sns.FacetGrid(data=month_fc_category_counts, row='FC_CATEGORY', row_order = ['PAINT','LEAD','FLOOR','OTHER'], height=1.75, aspect=6)\n",
    "\n",
    "#Call map() on the FacetGrid() to draw plots. Must provide a graphing function to map() -- here, we use sns.barplot\n",
    "g.map(sns.barplot, 'CREATEMONTH', 'WONUM') #We don't need to specify the order of our x variable, because we've already sorted our data\n",
    "\n",
    "#Obtain the \"x-tick labels\" from all subplots for formatting\n",
    "ticklabels = []\n",
    "\n",
    "for ax in g.axes.flat:\n",
    "    for label in ax.get_xticklabels():\n",
    "        ticklabels.append(label)\n",
    "\n",
    "#Format tick labels for readability\n",
    "plt.xticks(rotation = 90, ticks = g.axes.flat[2].get_xticks(), \n",
    "   labels = [label_formatter(label.get_text()) for label in ticklabels])\n",
    "\n",
    "#Set x- and y-axis labels and main title\n",
    "g.set_ylabels(label='# WOs')\n",
    "g.set_xlabels(label = 'Month Created')\n",
    "\n",
    "g.fig.subplots_adjust(top=.9)\n",
    "g.fig.suptitle(\"Open Work Orders by Date Created and Category\")\n",
    "\n",
    "#Set subplot titles by providing template\n",
    "g.set_titles(template = '{row_name}')\n",
    "\n",
    "#Show the plot\n",
    "plt.show()\n",
    "\n",
    "#Save to file -- note that we're using the FacetGrid's savefig() function, not plt's as above\n",
    "g.savefig('_FacetGrid_test.png')"
   ]
  },
  {
   "cell_type": "code",
   "execution_count": null,
   "id": "ca7ec7ef-b89e-45f4-981d-34d7963e9032",
   "metadata": {},
   "outputs": [],
   "source": []
  }
 ],
 "metadata": {
  "kernelspec": {
   "display_name": "Python 3 (ipykernel)",
   "language": "python",
   "name": "python3"
  },
  "language_info": {
   "codemirror_mode": {
    "name": "ipython",
    "version": 3
   },
   "file_extension": ".py",
   "mimetype": "text/x-python",
   "name": "python",
   "nbconvert_exporter": "python",
   "pygments_lexer": "ipython3",
   "version": "3.9.13"
  }
 },
 "nbformat": 4,
 "nbformat_minor": 5
}
