{
 "cells": [
  {
   "cell_type": "markdown",
   "id": "dbc7dc43-5670-4263-bde1-bbbc835f56a5",
   "metadata": {},
   "source": [
    "# Use Case: Visualizing Scheduling of Skilled Trades Work Orders\n",
    "\n",
    "### Original Context: Ongoing evaluation of Work Order Reform\n",
    "\n",
    "This notebook contains an example of applied analysis using a subset of work order data. These data represent \"cases\" associated with the Work Order Reform program -- that is, units of work (typically one work order, but perhaps more) assigned to a particular trade, in a particular location, scheduled to start on a particular day. The query yielding these cases can be found in the \"Data/\" directory horizontal to this notebook.\n",
    "\n",
    "This analysis makes use of the same libraries and functions used in Example Notebook 0. This document therefore contains fewer annotations throughout, and those that exist pertain mainly to functionality not covered in ealier notebooks or to the logic of modifications made to this dataset in particular.\n"
   ]
  },
  {
   "cell_type": "code",
   "execution_count": null,
   "id": "30bf36bc",
   "metadata": {},
   "outputs": [],
   "source": [
    "import numpy as np\n",
    "import pandas as pd\n",
    "import matplotlib.pyplot as plt\n",
    "import seaborn as sns\n",
    "import datetime\n",
    "\n",
    "pd.set_option('display.max_columns',None)"
   ]
  },
  {
   "cell_type": "markdown",
   "id": "eb092bca-1e79-4541-acc9-34b68f3a314c",
   "metadata": {},
   "source": [
    "Note two pieces of `datetime` functionality used below:\n",
    "- Once data in a column are converted to `datetime` objects (as in lines 1 and 3 of the below, the date portion of that datetime can be accessed using the syntax `<datetime object>.date()`\n",
    "- Additional portions of a date and/or time can be accessed or modified using the various functionality in the `datetime` library. In line four, for example, the function `dt.to_period()` is called with the argument `'M'`, for month, yielding the month associated with a particular date."
   ]
  },
  {
   "cell_type": "code",
   "execution_count": null,
   "id": "02c98f03",
   "metadata": {},
   "outputs": [],
   "source": [
    "wos = pd.read_csv('Data/WOR_cases_20220824.csv')\n",
    "\n",
    "wos['REPORTDATE'] = pd.to_datetime(wos['CREATEDATE'])\n",
    "wos['REPORTDATE'] = wos['REPORTDATE'].apply(lambda x: x.date())\n",
    "wos['SCHEDSTART'] = pd.to_datetime(wos['STARTDATE'])\n",
    "wos['SCHEDMONTH'] = wos['SCHEDSTART'].dt.to_period('M')\n",
    "wos['SCHEDSTART'] = wos['SCHEDSTART'].apply(lambda x: x.date())\n"
   ]
  },
  {
   "cell_type": "markdown",
   "id": "ed163a51-06bb-4134-8770-e7a618c27eab",
   "metadata": {},
   "source": [
    "The following line restricts our `DataFrame` wos to only those cases that are scheduled for work on or after Aug. 24, 2022 (which is created as a `datetime.date` object). "
   ]
  },
  {
   "cell_type": "code",
   "execution_count": null,
   "id": "7277df75",
   "metadata": {},
   "outputs": [],
   "source": [
    "wos = wos[wos['SCHEDSTART'] >= datetime.date(2022,8,24)]"
   ]
  },
  {
   "cell_type": "markdown",
   "id": "c29cf6aa-59c0-46f5-89c3-60efc8b10e5b",
   "metadata": {},
   "source": [
    "The following function marks each case as 'PRE' or 'POST', representing whether the date in the column passed into the function occurred before or after implementation of Work Order Reform in the borough where the case is located. Note that this analysis was created prior to implementation in Manhattan."
   ]
  },
  {
   "cell_type": "code",
   "execution_count": null,
   "id": "fa42bacd",
   "metadata": {},
   "outputs": [],
   "source": [
    "def pre_post_wor(row, datecol):\n",
    "    if row['SITEID'] == 'QS':\n",
    "        if row[datecol] < datetime.date(2021,11,9):\n",
    "            return 'PRE'\n",
    "        elif row[datecol] >= datetime.date(2021,11,9):\n",
    "            return 'POST'\n",
    "        else:\n",
    "            return None\n",
    "    \n",
    "    if row['SITEID'] == 'BX':\n",
    "        if row[datecol] < datetime.date(2022,3,14):\n",
    "            return 'PRE'\n",
    "        elif row[datecol] >= datetime.date(2022,3,14):\n",
    "            return 'POST'\n",
    "        else:\n",
    "            return None\n",
    "    \n",
    "    if row['SITEID'] == 'BK':\n",
    "        if row[datecol] < datetime.date(2022,8,1):\n",
    "            return 'PRE'\n",
    "        elif row[datecol] >= datetime.date(2022,8,1):\n",
    "            return 'POST'\n",
    "        else:\n",
    "            return None\n",
    "        \n",
    "    else:\n",
    "        return 'PRE'\n",
    "            \n",
    "    pass"
   ]
  },
  {
   "cell_type": "markdown",
   "id": "6df2a621-1be7-45b3-88c4-52b843c81341",
   "metadata": {},
   "source": [
    "Using the `apply()` functionality of our `DataFrame`, we run our `pre_post_wor()` function on each row, passing in as arguments the content of that row and the name of our date column (in this case, `'REPORTDATE'`). Note that the `axis = 1` argument passed into `apply()` signfies that we are operating on each **row**, as opposed to each **column** (in which case we would use `axis = 0`)."
   ]
  },
  {
   "cell_type": "code",
   "execution_count": null,
   "id": "7a45ecb2",
   "metadata": {},
   "outputs": [],
   "source": [
    "wos['PREPOST'] = wos.apply(lambda row: pre_post_wor(row, 'REPORTDATE'), axis=1)"
   ]
  },
  {
   "cell_type": "markdown",
   "id": "1eca6516-0842-4fd8-9f07-bf073c00f7ed",
   "metadata": {},
   "source": [
    "Pandas' `pivot_table()` function is yet another way to reshape data into the form of our choosing, in a manner that should be familiar to anyone who has used Excel's PivotTable functionality. The syntax is somewhat complicated -- please reference the following guide and documentation for a full explanation:\n",
    "- [Pandas Pivot Table: A Guide](https://builtin.com/data-science/pandas-pivot-tables)\n",
    "- [Official documentation for pandas.pivot_table()](https://pandas.pydata.org/docs/reference/api/pandas.pivot_table.html)"
   ]
  },
  {
   "cell_type": "code",
   "execution_count": null,
   "id": "f49923fc",
   "metadata": {
    "tags": []
   },
   "outputs": [],
   "source": [
    "#Note that, although we provide 'STARTDATE' as our values column in this case, we could just as easily use any other\n",
    "#column, since our aggregation function -- which is what actually fills in our \"cells\" -- is 'count'\n",
    "current_by_month = wos.pivot_table(index=['SITEID','ZZCRAFT'], columns='SCHEDMONTH', values='STARTDATE', aggfunc='count')\n",
    "\n",
    "#Here, we produce a normalized version of the above by dividing the contents of each cell by the sum of its row\n",
    "norm_by_month = current_by_month.div(current_by_month.sum(axis=1), axis=0)\n",
    "\n",
    "#Here, we add a new column containing the total of each row\n",
    "current_by_month['TOTAL'] = current_by_month.sum(axis=1)"
   ]
  },
  {
   "cell_type": "code",
   "execution_count": null,
   "id": "afe04aa8-6758-4aa9-be32-365dfd8db8f6",
   "metadata": {},
   "outputs": [],
   "source": [
    "wos"
   ]
  },
  {
   "cell_type": "code",
   "execution_count": null,
   "id": "db2cbdff",
   "metadata": {},
   "outputs": [],
   "source": [
    "current_by_prepost = wos.pivot_table(index=['SITEID','ZZCRAFT','SCHEDMONTH','PREPOST'],  \n",
    "                          values='REPORTDATE', aggfunc='count').fillna(0)\n",
    "\n",
    "#We can rename our single column to better reflect that it is, in fact, a count of cases\n",
    "current_by_prepost.columns = ['CASE_COUNT']\n",
    "\n",
    "pct_new = wos.pivot_table(index=['SITEID','ZZCRAFT','SCHEDMONTH'], \n",
    "                          columns='PREPOST', \n",
    "                          values='REPORTDATE', aggfunc='count').fillna(0)\n",
    "\n",
    "pct_new['PCT_POST'] = pct_new['POST']/(pct_new['POST']+pct_new['PRE'])\n",
    "pct_new = pct_new.reset_index().pivot_table(index=['SITEID','ZZCRAFT'], columns=['SCHEDMONTH'], values='PCT_POST')\n"
   ]
  },
  {
   "cell_type": "code",
   "execution_count": null,
   "id": "346ad55b",
   "metadata": {},
   "outputs": [],
   "source": [
    "###Write multiple sheets to Excel using ExcelWriter\n",
    "writer = pd.ExcelWriter('Scheduled_WOs_by_Craft_and_Month_07052022.xlsx')\n",
    "\n",
    "current_by_month.fillna('-').to_excel(writer, sheet_name='Total by Craft, Month')\n",
    "norm_by_month.fillna('-').to_excel(writer, sheet_name = 'Percent by Craft, Month')\n",
    "current_by_prepost.fillna('-').to_excel(writer, sheet_name = 'Totals by Craft, Month, PrePost')\n",
    "pct_new.fillna('-').to_excel(writer, sheet_name = 'Pct Post-WOR by Craft, Month')\n",
    "\n",
    "writer.save()"
   ]
  },
  {
   "cell_type": "markdown",
   "id": "f32840d5-1021-42df-a95c-75861b94c1be",
   "metadata": {},
   "source": [
    "### Visualizing Scheduling by Trade and Borough\n",
    "\n",
    "In addition to the `FacetGrid()` functionality explored in Example 0, Seaborn allows us to visualize subsets of data in a single step using the `catplot()` function (for \"category plot\"), which can produce several kinds of chart based on the `kind` value it is provided.\n",
    "\n",
    "Here, we provide the following specifications:\n",
    "- Our `data` come from `current_by_prepost`, with its index reset\n",
    "- The x axis in each of our plots comes from the `'SCHEDMONTH'` column\n",
    "- Our y values come from the `'CASE_COUNT'` column\n",
    "- Each `row` represents a different value of `'ZZCRAFT'` -- i.e., a diffent skilled trade\n",
    "- Each column represents a different value of `'SITEID'`, which contains borough information\n",
    "- Tallies of pre- and post-WOR cases are represented by different colors, as indicated by the argument `hue = 'PREPOST'` and shown in the figure's legend\n",
    "- We set our `kind` to `'bar'`, for  a bar graph. See the documentation for `sns.catplot()` for other possible values."
   ]
  },
  {
   "cell_type": "code",
   "execution_count": null,
   "id": "e3800d13-b307-45e9-8d4f-adc9755d77c1",
   "metadata": {},
   "outputs": [],
   "source": [
    "plot = sns.catplot(data=current_by_prepost.reset_index(), x='SCHEDMONTH', y='CASE_COUNT', row='ZZCRAFT', col='SITEID', hue='PREPOST', kind='bar')\n",
    "plt.savefig(f\"Plots/full_grid.pdf\", bbox_inches='tight')"
   ]
  },
  {
   "cell_type": "markdown",
   "id": "6d870ff0-6bd2-42b1-947e-1f8c3c6eb76e",
   "metadata": {},
   "source": [
    "### Creating plots en masse\n",
    "\n",
    "With just a bit of knowledge on basic Python concepts -- here, for-loops and try/except blocks -- it is possible to flexibly create plots to identical specifications using arbitrary subsets of data. (A clear overview of these and other basic Python concepts can be found [here](https://www.geeksforgeeks.org/python-if-else/).)\n",
    "\n",
    "Here, we use two nested for-loops to produce a plot for each combination of borough and skilled trade, as well as for the sum of all skilled trades in each borough."
   ]
  },
  {
   "cell_type": "code",
   "execution_count": null,
   "id": "f1f6ee2d",
   "metadata": {},
   "outputs": [],
   "source": [
    "plot_data = current_by_prepost.reset_index()\n",
    "plot_data.columns = ['Borough', 'Craft', 'Month Scheduled', 'Pre_Post', 'Case Count']\n",
    "\n",
    "for boro in ['BK','BX','MN','QS']:\n",
    "    for trade in list(plot_data['Craft'].unique()):\n",
    "        dataset = plot_data[(plot_data['Borough']==boro)&(plot_data['Craft']==trade)]\n",
    "        \n",
    "        try:\n",
    "            plt.close('all')\n",
    "        except:\n",
    "            pass\n",
    "\n",
    "        fig = plt.subplot()\n",
    "        sns.barplot(data=dataset, x='Month Scheduled', y='Case Count', hue='Pre_Post', errorbar=None)\n",
    "        fig.set_title(f\"Case Count by Month: {boro}, {trade}\")\n",
    "        plt.savefig(f\"Plots/{boro}_{trade}.pdf\", bbox_inches='tight')\n",
    "    \n",
    "    \n",
    "    try:\n",
    "        plt.close('all')\n",
    "    except:\n",
    "        pass\n",
    "\n",
    "    fig = plt.subplot()\n",
    "    sns.barplot(data=plot_data[plot_data['Borough']==boro], x='Month Scheduled', y='Case Count', hue='Pre_Post', errorbar=None)\n",
    "    fig.set_title(f\"Case Count by Month: {boro}, all trades\")\n",
    "    plt.savefig(f\"Plots/{boro}_ALL.pdf\", bbox_inches='tight')\n",
    "            "
   ]
  },
  {
   "cell_type": "markdown",
   "id": "8b2c8ce6-8768-4bd5-9b1d-2ee743293aff",
   "metadata": {},
   "source": [
    "Finally, the following block produces a formatted table containing the percentage of cases in each borough that were created before and after the introduction of Work Order Reform."
   ]
  },
  {
   "cell_type": "code",
   "execution_count": null,
   "id": "208d9e29",
   "metadata": {},
   "outputs": [],
   "source": [
    "temp = current_by_prepost.reset_index()[['SITEID', 'PREPOST', 'CASE_COUNT']].pivot_table(index='SITEID', columns='PREPOST', values='CASE_COUNT', aggfunc=sum).fillna(0)\n",
    "temp['Percent Pre'] = temp.apply(lambda row: str('%.1f'%(row['PRE']*100/(row['POST']+row['PRE'])))+'%', axis=1)\n",
    "temp['Percent Post'] = temp.apply(lambda row: str('%.1f'%(row['POST']*100/(row['POST']+row['PRE'])))+'%', axis=1)\n"
   ]
  }
 ],
 "metadata": {
  "kernelspec": {
   "display_name": "Python 3 (ipykernel)",
   "language": "python",
   "name": "python3"
  },
  "language_info": {
   "codemirror_mode": {
    "name": "ipython",
    "version": 3
   },
   "file_extension": ".py",
   "mimetype": "text/x-python",
   "name": "python",
   "nbconvert_exporter": "python",
   "pygments_lexer": "ipython3",
   "version": "3.9.13"
  }
 },
 "nbformat": 4,
 "nbformat_minor": 5
}
