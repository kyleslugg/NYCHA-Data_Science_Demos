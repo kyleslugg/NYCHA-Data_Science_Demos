{
 "cells": [
  {
   "cell_type": "markdown",
   "id": "5c8356b7-75f9-4b9b-911d-e069efc3a1c8",
   "metadata": {},
   "source": [
    "# Vendor Work Orders: Analyzing Process Flow in Maximo"
   ]
  },
  {
   "cell_type": "code",
   "execution_count": null,
   "id": "acd2dce1-0ab4-4be7-9acd-1c2fc18a22af",
   "metadata": {},
   "outputs": [],
   "source": [
    "import numpy as np\n",
    "import pandas as pd\n",
    "import tqdm\n",
    "import matplotlib.pyplot as plt\n",
    "import seaborn as sns\n",
    "import glob\n",
    "import regex as re\n",
    "import multiprocessing as mp\n",
    "import gc\n",
    "from floweaver import *\n",
    "import datetime as dt\n",
    "import os\n",
    "\n",
    "pd.set_option('display.max_columns', None)"
   ]
  },
  {
   "cell_type": "markdown",
   "id": "8452502a-7bc7-4cee-9143-ff890a540ca0",
   "metadata": {},
   "source": [
    "### Load Work Order Status Changes"
   ]
  },
  {
   "cell_type": "code",
   "execution_count": null,
   "id": "b84201d8-a697-44a9-9059-032e86071e5e",
   "metadata": {},
   "outputs": [],
   "source": [
    "status_df = pd.read_csv('Data/Vendor_WO_Statuses_12222022.csv')\n",
    "status_df['CHANGEDATE'] = pd.to_datetime(status_df['CHANGEDATE'])"
   ]
  },
  {
   "cell_type": "code",
   "execution_count": null,
   "id": "8e9e658c-c0ba-4b99-a0e8-3094e2489a31",
   "metadata": {
    "tags": []
   },
   "outputs": [],
   "source": [
    "wos = list(status_df['WONUM'].unique()) #List distinct WO numbers\n",
    "grouped = status_df.groupby('WONUM') #Group status changes by work order number"
   ]
  },
  {
   "cell_type": "markdown",
   "id": "ed29469d-816e-487a-961e-387e0afab600",
   "metadata": {},
   "source": [
    "#### Define routines to group statuses by previous status and step number since work order was created"
   ]
  },
  {
   "cell_type": "code",
   "execution_count": null,
   "id": "c0272eff-742c-4b64-827c-baad4a7d1c5f",
   "metadata": {},
   "outputs": [],
   "source": [
    "def status_by_prev(grouper, status, outdir=None):\n",
    "    def get_status_followups(groupby_group, status_of_interest):\n",
    "        wonum = groupby_group[0]\n",
    "        df = groupby_group[1]\n",
    "\n",
    "        group = df.sort_values('WOSTATUSID').reset_index()\n",
    "        status_indices = list(group.query(f\"STATUS == '{status_of_interest}'\").index)\n",
    "        followup_rows = pd.DataFrame()\n",
    "        try:\n",
    "            if len(status_indices) > 0:\n",
    "                if group.iloc[-1]['STATUS'] != status_of_interest:\n",
    "                    followup_rows = group.iloc[[i+1 for i in status_indices]]\n",
    "                elif len(status_indices) >1:\n",
    "                    followup_rows = group.iloc[[i+1 for i in status_indices[:-1]]]\n",
    "            else:\n",
    "                return None\n",
    "        except:\n",
    "            print(f\"Error on Work Order #{wonum}\")\n",
    "            return None\n",
    "\n",
    "        return followup_rows\n",
    "    \n",
    "    follows_df = pd.DataFrame()\n",
    "    \n",
    "    print(\"Running status %s\" % status)\n",
    "    \n",
    "    for group in tqdm.tqdm(grouper):\n",
    "        followups = get_status_followups(group, status)\n",
    "        if followups is not None:\n",
    "            follows_df = pd.concat([follows_df, followups], axis=0)\n",
    "            \n",
    "    follows_df.reset_index().drop(columns = ['index']).to_csv(outdir+f'{status}.csv')\n",
    "    \n",
    "    return \"Completed status %s\" % status"
   ]
  },
  {
   "cell_type": "code",
   "execution_count": null,
   "id": "d0368e1d-a9e1-46ee-9b29-52bd51927d53",
   "metadata": {},
   "outputs": [],
   "source": [
    "def status_by_step(grouper, step_number, outdir=None):\n",
    "    \n",
    "    print(f\"Step number {step_number}\")\n",
    "    \n",
    "    def get_status_by_step(groupby_group, step_number):\n",
    "        wonum = groupby_group[0]\n",
    "        df = groupby_group[1]\n",
    "        \n",
    "        group = df.sort_values('WOSTATUSID')\n",
    "        #print(group)\n",
    "        try:\n",
    "            relevant_row = pd.DataFrame(group.iloc[step_number - 1]).transpose()\n",
    "            #print(relevant_row)\n",
    "            return relevant_row\n",
    "        except:\n",
    "            return None\n",
    "        \n",
    "        \n",
    "    outdf = pd.DataFrame()\n",
    "    \n",
    "    for group in tqdm.tqdm(grouper):\n",
    "        step_df = get_status_by_step(group, step_number)\n",
    "        if step_df is not None:\n",
    "            outdf = pd.concat([outdf, step_df], axis = 0)\n",
    "  \n",
    "    outdf.reset_index().drop(columns=['index']).to_excel(outdir + f'_step_{step_number}_no_statuscount_restriction.xlsx')\n",
    "    \n",
    "    return f\"Completed step {step_number}\"\n",
    "        "
   ]
  },
  {
   "cell_type": "markdown",
   "id": "775b481d-b01f-4cb4-8d01-ad76049f8182",
   "metadata": {},
   "source": [
    "#### Create output directories"
   ]
  },
  {
   "cell_type": "code",
   "execution_count": null,
   "id": "4fc7c179-fef5-41c0-9639-38123153fa23",
   "metadata": {},
   "outputs": [],
   "source": [
    "for path in ['Outputs', 'Outputs/_STATUS_BY_PREV_STATUS', 'Outputs/_STATUS_BY_STEP', 'Outputs/_STATUS_BY_NEXT_STATUS']:\n",
    "    if not os.path.exists(path):\n",
    "        os.makedirs(path)"
   ]
  },
  {
   "cell_type": "markdown",
   "id": "1e4b834b-1e50-479c-837a-265525d8ee3d",
   "metadata": {},
   "source": [
    "#### Determine which steps, statuses have not yet been processed"
   ]
  },
  {
   "cell_type": "code",
   "execution_count": null,
   "id": "f60fb3c4-7d36-45a3-b5ec-737a51510210",
   "metadata": {},
   "outputs": [],
   "source": [
    "def searchif(pattern, item):\n",
    "    search = re.search(pattern, item)\n",
    "    if search is not None:\n",
    "        return search[0]\n",
    "    else:\n",
    "        return None\n",
    "    \n",
    "prev_status_files = glob.glob('_STATUS_BY_PREV_STATUS/*')\n",
    "prev_statuses = [searchif('''(?<=\\/)\\w+(?=\\.)''', item) for item in prev_status_files]\n",
    "unrun_status_list = [item for item in list(status_df['STATUS'].unique()) if item not in prev_statuses]\n",
    "\n",
    "\n",
    "step_files = glob.glob('_STATUS_BY_STEP/*')\n",
    "steps = [searchif('''(?<=\\/)\\d+(?=\\.)''', item) for item in step_files]\n"
   ]
  },
  {
   "cell_type": "markdown",
   "id": "fc5d059f-668e-4d03-90e4-654c2d4620d4",
   "metadata": {},
   "source": [
    "##### Create tasks for multithreading, and process statuses by previou status, step"
   ]
  },
  {
   "cell_type": "code",
   "execution_count": null,
   "id": "1fbd69d4-6d44-401d-952f-87a4296162de",
   "metadata": {},
   "outputs": [],
   "source": [
    "TASKS = [(grouped, status, 'Output/_STATUS_BY_PREV_STATUS/') for status in unrun_status_list]"
   ]
  },
  {
   "cell_type": "markdown",
   "id": "b68750fc-26a2-4eda-95fc-94d5454fe37b",
   "metadata": {},
   "source": [
    "**WARNING TO USERS: These processing steps will take a WHILE (upwards of an hour), even with multithreading. Consider opening in a separate notebook so that other analytical tasks can proceed.**"
   ]
  },
  {
   "cell_type": "code",
   "execution_count": null,
   "id": "b32bbb3f-9b01-4837-86c0-012cb9bffe48",
   "metadata": {
    "tags": []
   },
   "outputs": [],
   "source": [
    "#Get DFs by preceding status\n",
    "\n",
    "with mp.Pool(10) as pool:\n",
    "    #Trying with map this time -- actually, starmap, to permit multiple args\n",
    "    results = pool.starmap(status_by_prev, TASKS)\n",
    "    \n",
    "    pool.close()\n",
    "    "
   ]
  },
  {
   "cell_type": "code",
   "execution_count": null,
   "id": "60f007f5-d029-4a03-bd75-77af189c7562",
   "metadata": {
    "tags": []
   },
   "outputs": [],
   "source": [
    "#Get DFs by Step\n",
    "\n",
    "unrun_step_list = [item for item in [step for step in range(1, 10, 1) if step not in steps]]\n",
    "\n",
    "with mp.Pool(10) as pool:\n",
    "    TASKS = [(grouped, i, 'Outputs/_STATUS_BY_STEP/') for i in unrun_step_list]\n",
    "\n",
    "    \n",
    "    #With apply_async, opens n new processes, each of which handles a single task\n",
    "    #results = [pool.apply_async(status_by_step, t) for t in TASKS]\n",
    "    results = pool.starmap(status_by_step, TASKS)\n",
    "    \n"
   ]
  },
  {
   "cell_type": "markdown",
   "id": "f68556c7-8786-4bfc-9c53-881931270d35",
   "metadata": {},
   "source": [
    "### Examining Results with Sankey Plot\n",
    "\n",
    "Also known as a Flow Diagram, a Sankey Plot visualizes state transitions among discrete objects or groups. In this case, we are visualizing the flow of work orders between statuses -- where they began, where they went next, etc.\n",
    "\n",
    "Although we are capable of diagramming up to nine steps with our outputs from above, the vast majority of work orders are closed or canceled after four steps at most. As such, we have restricted our visualization for clarity.\n"
   ]
  },
  {
   "cell_type": "code",
   "execution_count": null,
   "id": "654e2364-3f13-43ec-8ce1-9d24cbf33235",
   "metadata": {},
   "outputs": [],
   "source": [
    "ziplist = [item for item in zip(sorted(glob.glob('Outputs/_STATUS_BY_STEP/*')), range(1,10))]"
   ]
  },
  {
   "cell_type": "code",
   "execution_count": null,
   "id": "e74853e4-460c-47f9-8810-81186dda1dc1",
   "metadata": {},
   "outputs": [],
   "source": [
    "steps_df = pd.read_excel(ziplist[0][0])[['WONUM','FAILURECODE','PROBLEMCODE','LOCATION','LATEST_STATUS','STATUS']]\n",
    "steps_df.columns = ['WONUM','FAILURECODE','PROBLEMCODE','LOCATION','LATEST_STATUS','STATUS_1']\n",
    "\n",
    "for path, index in tqdm.tqdm(ziplist[1:]):\n",
    "    this_df = pd.read_excel(path)[['WONUM','STATUS']]\n",
    "    this_df.columns = ['WONUM',f'STATUS_{index}']\n",
    "    steps_df = steps_df.merge(this_df, on='WONUM', how='left')\n",
    "    "
   ]
  },
  {
   "cell_type": "markdown",
   "id": "745146e4-c833-48a3-941a-634afc027435",
   "metadata": {},
   "source": [
    "#### Group statuses by category"
   ]
  },
  {
   "cell_type": "code",
   "execution_count": null,
   "id": "e84b5789-f58b-4b4f-84a8-8886ecae86a0",
   "metadata": {},
   "outputs": [],
   "source": [
    "max_status = {'APPR',\n",
    " 'CAN',\n",
    " 'CAPWORK',\n",
    " 'CLOSE',\n",
    " 'COMP',\n",
    " 'DISP',\n",
    " 'FAILREVIEW',\n",
    " 'FAILSCH',\n",
    " 'HISTEDIT',\n",
    " 'INPRG',\n",
    " 'INSREV',\n",
    " 'PENDREVIEW',\n",
    " 'PLANDOC',\n",
    " 'RESUB',\n",
    " 'REVIEW',\n",
    " 'SBMTAGAPPR',\n",
    " 'SBMTMGAPPR',\n",
    " 'SCHED',\n",
    " 'VIFAILRV',\n",
    " 'WAPPR',\n",
    " 'WMATL',\n",
    " 'WTSCH',\n",
    " 'nan'}\n",
    "\n",
    "cat_status = {'Closed or Canceled':['CLOSE','nan', 'CAN'],\n",
    " 'Awaiting Scheduling':['WTSCH'],\n",
    " 'Approved': ['APPR'],\n",
    " 'Scheduled':['SCHED'],\n",
    " 'In Progress':['INPRG'],\n",
    " 'Inspection Pending':['INSREV','PENDREVIEW','REVIEW', 'VIFAILRV','FAILREVIEW'],\n",
    " 'Other' : ['CAPWORK','COMP','DISP','HISTEDIT','PLANDOC','RESUB','SBMTAGAPPR','SBMTMGAPPR','WAPPR','WMATL', 'FAILSCH']}\n",
    "\n",
    "\n",
    "def reverse_dict(this_dict):\n",
    "    new_dict= {}\n",
    "    for key, value in this_dict.items():\n",
    "        if isinstance(value, list):\n",
    "            for item in value:\n",
    "                new_dict[item] = key\n",
    "        else:\n",
    "            new_dict[value] = key\n",
    "    \n",
    "    return new_dict\n",
    "\n",
    "status_cats = reverse_dict(cat_status)"
   ]
  },
  {
   "cell_type": "code",
   "execution_count": null,
   "id": "09313089-f161-4c9e-a36c-2fb3284b4049",
   "metadata": {},
   "outputs": [],
   "source": [
    "t = steps_df[steps_df.columns[4:]].fillna('CLOSE')\n",
    "\n",
    "for col in t.columns[1:]:\n",
    "    t[col] = t[col].map(status_cats)\n",
    "    \n",
    "t = t.groupby(list(t.columns[1:])).count().reset_index()"
   ]
  },
  {
   "cell_type": "code",
   "execution_count": null,
   "id": "54fd028e-2471-421b-a204-a5f947682834",
   "metadata": {},
   "outputs": [],
   "source": [
    "#To visualize transitions between steps: use Sankey diagram (the one with flows)\n",
    "#Join step tables by wonum, and track status across steps\n",
    "\n",
    "import plotly.graph_objs as go\n",
    "%matplotlib inline\n",
    "\n",
    "from plotly.offline import download_plotlyjs, init_notebook_mode, plot, iplot"
   ]
  },
  {
   "cell_type": "code",
   "execution_count": null,
   "id": "9b026fb2-c7e9-4c52-b703-428cf502d2b7",
   "metadata": {},
   "outputs": [],
   "source": [
    "node_labels = []\n",
    "for col in t.columns[0:-1]:\n",
    "    status_labels = list(t[col].unique())\n",
    "    step_number = col.split('_')[1]\n",
    "    numbered_status_labels = [f'{step_number}_{item}' for item in status_labels]\n",
    "    node_labels += numbered_status_labels\n",
    "    \n",
    "node_dict = {y:x for x, y in enumerate(node_labels)}"
   ]
  },
  {
   "cell_type": "code",
   "execution_count": null,
   "id": "2f484cf7-0a2f-4f65-b50b-ce4c68df0a64",
   "metadata": {},
   "outputs": [],
   "source": [
    "steps_for_diagram = t.copy()\n",
    "\n",
    "for col in steps_for_diagram.columns[0:-1]:\n",
    "    step_number = col.split('_')[1]\n",
    "    steps_for_diagram[col] = steps_for_diagram[col].apply(lambda x: f'{step_number}_{x}')\n",
    "    steps_for_diagram[col] = steps_for_diagram[col].map(node_dict)"
   ]
  },
  {
   "cell_type": "code",
   "execution_count": null,
   "id": "ba818bf9-093a-41fb-b375-5a3ffa1de5ee",
   "metadata": {},
   "outputs": [],
   "source": [
    "source_nodes = []\n",
    "target_nodes = []\n",
    "\n",
    "for col in steps_for_diagram.columns[0:-6]:\n",
    "    source_nodes += steps_for_diagram[col].to_list()\n",
    "    \n",
    "for col in steps_for_diagram.columns[1:-5]:\n",
    "    target_nodes += steps_for_diagram[col].to_list()\n",
    "    \n",
    "values = steps_for_diagram['LATEST_STATUS']\n"
   ]
  },
  {
   "cell_type": "code",
   "execution_count": null,
   "id": "c23e2171-e21e-40ef-b2c9-a6916f4ef12b",
   "metadata": {},
   "outputs": [],
   "source": [
    "link1 = steps_for_diagram[['STATUS_1','STATUS_2','LATEST_STATUS']].groupby(['STATUS_1','STATUS_2']).sum().reset_index()\n",
    "link1.columns = ['source','target','value']"
   ]
  },
  {
   "cell_type": "code",
   "execution_count": null,
   "id": "0987d040-db34-4fbe-a0b1-d7a140b13398",
   "metadata": {},
   "outputs": [],
   "source": [
    "link2 = steps_for_diagram[['STATUS_2','STATUS_3','LATEST_STATUS']].groupby(['STATUS_2','STATUS_3']).sum().reset_index()\n",
    "link2.columns = ['source','target','value']"
   ]
  },
  {
   "cell_type": "code",
   "execution_count": null,
   "id": "d89c637e-3432-4f0a-b324-f6e0c4fce880",
   "metadata": {},
   "outputs": [],
   "source": [
    "link3 = steps_for_diagram[['STATUS_3','STATUS_4','LATEST_STATUS']].groupby(['STATUS_3','STATUS_4']).sum().reset_index()\n",
    "link3.columns = ['source','target','value']"
   ]
  },
  {
   "cell_type": "code",
   "execution_count": null,
   "id": "97bcdac5-8d3f-4cae-8b4f-2b6081408325",
   "metadata": {},
   "outputs": [],
   "source": [
    "link4 = steps_for_diagram[['STATUS_4','STATUS_5','LATEST_STATUS']].groupby(['STATUS_4','STATUS_5']).sum().reset_index()\n",
    "link4.columns = ['source','target','value']"
   ]
  },
  {
   "cell_type": "code",
   "execution_count": null,
   "id": "72d5963f-7562-4393-ba5f-9a7bece2f44e",
   "metadata": {},
   "outputs": [],
   "source": [
    "link5 = steps_for_diagram[['STATUS_5','STATUS_6','LATEST_STATUS']].groupby(['STATUS_5','STATUS_6']).sum().reset_index()\n",
    "link5.columns = ['source','target','value']"
   ]
  },
  {
   "cell_type": "code",
   "execution_count": null,
   "id": "9adf7cd8-0581-447d-bf1b-9bd4ffb9b430",
   "metadata": {},
   "outputs": [],
   "source": [
    "link6 = steps_for_diagram[['STATUS_6','STATUS_7','LATEST_STATUS']].groupby(['STATUS_6','STATUS_7']).sum().reset_index()\n",
    "link6.columns = ['source','target','value']"
   ]
  },
  {
   "cell_type": "code",
   "execution_count": null,
   "id": "a8c6f661-ef31-4f3c-907b-032bfee54b2b",
   "metadata": {},
   "outputs": [],
   "source": [
    "links = pd.concat([link1, link2, link3])"
   ]
  },
  {
   "cell_type": "code",
   "execution_count": null,
   "id": "e13690e3-b4c5-4ee2-8fcf-11291e1c8851",
   "metadata": {
    "tags": []
   },
   "outputs": [],
   "source": [
    "cat_color = {'Closed or Canceled':'#280955',\n",
    " 'Awaiting Scheduling':'#57A4B1',\n",
    " 'Approved': '#FADE89',\n",
    " 'Scheduled':'#B0D894',\n",
    " 'In Progress':'#548531',\n",
    " 'Inspection Pending':'#b16457',\n",
    " 'Other' : '#808080'}\n",
    "\n",
    "chart_labels = [label.split('_')[1] for label in node_labels]\n",
    "node_colors = [cat_color[item] for item in [label.split('_')[1] for label in node_labels]]\n",
    "\n",
    "\n",
    "node_label_color = {x:y for x, y in zip(node_labels, node_colors)}\n",
    "link_color = [node_label_color[x] for x in links.source.to_list()]\n",
    "\n",
    "link_color = ['rgba({},{},{}, 0.4)'.format(\n",
    "    hex_to_rgb(x)[0],\n",
    "    hex_to_rgb(x)[1],\n",
    "    hex_to_rgb(x)[2]) for x in link_color] \n",
    "link_color\n"
   ]
  },
  {
   "cell_type": "code",
   "execution_count": null,
   "id": "82d18fbc-a664-4cb6-b116-cff230844141",
   "metadata": {
    "tags": []
   },
   "outputs": [],
   "source": [
    "'''fig = go.Figure(\n",
    "    data=[go.Sankey(\n",
    "        node = dict(label=node_labels),\n",
    "        arrangement=\"perpendicular\",\n",
    "        link = dict(\n",
    "            source = source_nodes,\n",
    "            target = target_nodes,\n",
    "            value = values\n",
    "        ))])'''\n",
    "\n",
    "fig = go.Figure(\n",
    "    data=[go.Sankey(\n",
    "        node = dict(label = chart_labels,\n",
    "                   color = node_colors),\n",
    "        arrangement=\"perpendicular\",\n",
    "        link = dict(source = links.source.to_list(),\n",
    "                   target = links.target.to_list(),\n",
    "                   value = links.value.to_list()))])\n",
    "\n",
    "#fig.write_image(\"my_fig.png\")\n",
    "\n",
    "plot(fig,\n",
    "     filename = \"Outputs/three_link_diagram.html\",\n",
    "     image_filename='sankey_plot_1', \n",
    "     image='png', \n",
    "     image_width=1000, \n",
    "     image_height=600, \n",
    "     auto_open = False\n",
    ")\n",
    "#fig.show()"
   ]
  },
  {
   "cell_type": "markdown",
   "id": "1f9393bb-a12e-4711-a23d-68f66615b121",
   "metadata": {
    "tags": []
   },
   "source": [
    "### Analysis of Time between Steps"
   ]
  },
  {
   "cell_type": "code",
   "execution_count": null,
   "id": "5e8211e9-3fb0-4ed5-bce4-d27cbf36043e",
   "metadata": {},
   "outputs": [],
   "source": [
    "ziplist = [item for item in zip(sorted(glob.glob('Outputs/_STATUS_BY_STEP/*')), range(1,10))]"
   ]
  },
  {
   "cell_type": "code",
   "execution_count": null,
   "id": "056b4b92-5764-4b4a-8669-d35a4fb7e97f",
   "metadata": {},
   "outputs": [],
   "source": [
    "steps_df = pd.read_excel(ziplist[0][0])[['WONUM','FAILURECODE','PROBLEMCODE','LOCATION','LATEST_STATUS','STATUS','CHANGEDATE']]\n",
    "steps_df.columns = ['WONUM','FAILURECODE','PROBLEMCODE','LOCATION','LATEST_STATUS','STATUS_1', 'STATUS_DATE_1']\n",
    "\n",
    "for path, index in tqdm.tqdm(ziplist[1:]):\n",
    "    this_df = pd.read_excel(path)[['WONUM','STATUS', 'CHANGEDATE']]\n",
    "    this_df.columns = ['WONUM',f'STATUS_{index}', f'STATUS_DATE_{index}']\n",
    "    steps_df = steps_df.merge(this_df, on='WONUM', how='left')\n",
    "    "
   ]
  },
  {
   "cell_type": "code",
   "execution_count": null,
   "id": "6e32d237-ac81-4631-a6bf-cda4aa703f11",
   "metadata": {},
   "outputs": [],
   "source": [
    "for col in steps_df.columns:\n",
    "    if 'DATE' in col:\n",
    "        steps_df[col] = pd.to_datetime(steps_df[col])"
   ]
  },
  {
   "cell_type": "code",
   "execution_count": null,
   "id": "ba5e3d54-5dbe-4a8c-8bae-b4bcdf6fdf5b",
   "metadata": {},
   "outputs": [],
   "source": [
    "for i in range(1, 9):\n",
    "    steps_df[f'LAG_{i}'] = steps_df[f'STATUS_DATE_{i+1}'] - steps_df[f'STATUS_DATE_{i}']"
   ]
  },
  {
   "cell_type": "code",
   "execution_count": null,
   "id": "521fa5da-c9fa-47b2-b628-351b2a4b6433",
   "metadata": {},
   "outputs": [],
   "source": [
    "steps_df.groupby(['FAILURECODE','STATUS_1']).agg({'LAG_1':'median', 'WONUM':'count'}).sort_values('WONUM', ascending=False)\n",
    "#.to_csv('_DEL_TEST_202212071256.csv')"
   ]
  },
  {
   "cell_type": "markdown",
   "id": "657aa658-776b-463e-b7d4-8f269a521d2d",
   "metadata": {},
   "source": [
    "### Drilling down on statuses"
   ]
  },
  {
   "cell_type": "code",
   "execution_count": null,
   "id": "4eca329b-0e07-4340-b53f-d306b08b3967",
   "metadata": {},
   "outputs": [],
   "source": [
    "wtsch = pd.read_csv('Outputs/_STATUS_BY_PREV_STATUS/WTSCH.csv')\n",
    "wappr = pd.read_csv('Outputs/_STATUS_BY_PREV_STATUS/WAPPR.csv')\n",
    "appr = pd.read_csv('Outputs/_STATUS_BY_PREV_STATUS/APPR.csv')\n",
    "sched = pd.read_csv('Outputs/_STATUS_BY_PREV_STATUS/SCHED.csv')\n",
    "inprg = pd.read_csv('Outputs/_STATUS_BY_PREV_STATUS/INPRG.csv')\n",
    "failsh = pd.read_csv('Outputs/_STATUS_BY_PREV_STATUS/FAILSCH.csv')\n",
    "pendrev = pd.read_csv('Outputs/_STATUS_BY_PREV_STATUS/PENDREVIEW.csv')\n",
    "review = pd.read_csv('Outputs/_STATUS_BY_PREV_STATUS/REVIEW.csv')\n",
    "failrev = pd.read_csv('Outputs/_STATUS_BY_PREV_STATUS/FAILREVIEW.csv')\n",
    "\n",
    "\n",
    "statuses = ['WTSCH','WAPPR','APPR','SCHED','INPRG','FAILSCH','PENDREV','REVIEW','FAILREVIEW']\n",
    "dfs = [wtsch, wappr, appr, sched, inprg, failsh, pendrev, review, failrev]"
   ]
  },
  {
   "cell_type": "code",
   "execution_count": null,
   "id": "623a5e8e-95c7-443e-961b-9cabf5bfec4b",
   "metadata": {},
   "outputs": [],
   "source": [
    "base_df = pd.DataFrame(wtsch['STATUS'].value_counts(normalize=False))\n",
    "base_df.columns = ['WTSCH']\n",
    "\n",
    "for item in [item for item in zip(statuses, dfs)][1:]:\n",
    "    thisdf = pd.DataFrame(item[1]['STATUS'].value_counts(normalize=False))\n",
    "    thisdf.columns = [item[0]]\n",
    "    base_df = base_df.merge(thisdf, how='outer', left_index=True, right_index=True)"
   ]
  },
  {
   "cell_type": "code",
   "execution_count": null,
   "id": "73afc99d-7eb2-4353-99da-179b7bad3640",
   "metadata": {},
   "outputs": [],
   "source": [
    "for col in base_df.columns:\n",
    "    base_df[col] = base_df[col].apply(lambda x: '{:,.1%}'.format(x))"
   ]
  },
  {
   "cell_type": "code",
   "execution_count": null,
   "id": "f9172df3-fb3e-4e33-8cba-696cf36477c5",
   "metadata": {},
   "outputs": [],
   "source": [
    "base_df.sort_values([item for item in base_df.columns], ascending=False).to_excel('Outputs/_tables/next_status_breakdown_absolute.xlsx')\n"
   ]
  },
  {
   "cell_type": "code",
   "execution_count": null,
   "id": "941a64a4-4289-42a7-a26f-70da362e9dc3",
   "metadata": {},
   "outputs": [],
   "source": [
    "ziplist = [item for item in zip(sorted(glob.glob('_STATUS_BY_STEP/*')), range(1,10))]"
   ]
  },
  {
   "cell_type": "code",
   "execution_count": null,
   "id": "9fc345eb-64d4-4af8-8e91-90f890706b30",
   "metadata": {},
   "outputs": [],
   "source": [
    "steps_df = pd.read_excel(ziplist[0][0])[['WONUM','FAILURECODE','PROBLEMCODE','LOCATION','LATEST_STATUS','STATUS']]\n",
    "steps_df.columns = ['WONUM','FAILURECODE','PROBLEMCODE','LOCATION','LATEST_STATUS','STATUS_1']\n",
    "\n",
    "for path, index in tqdm.tqdm(ziplist[1:]):\n",
    "    this_df = pd.read_excel(path)[['WONUM','STATUS']]\n",
    "    this_df.columns = ['WONUM',f'STATUS_{index}']\n",
    "    steps_df = steps_df.merge(this_df, on='WONUM', how='left')"
   ]
  },
  {
   "cell_type": "code",
   "execution_count": null,
   "id": "294fb27f-0976-4f09-904f-f1af8ba6d9b7",
   "metadata": {},
   "outputs": [],
   "source": [
    "#To visualize transitions between steps: use Sankey diagram (the one with flows)\n",
    "#Join step tables by wonum, and track status across steps\n",
    "\n",
    "import plotly.graph_objs as go\n",
    "%matplotlib inline\n",
    "\n",
    "from plotly.offline import download_plotlyjs, init_notebook_mode, plot, iplot"
   ]
  },
  {
   "cell_type": "code",
   "execution_count": null,
   "id": "70278e71-c00d-4f2b-b910-02d066350d60",
   "metadata": {},
   "outputs": [],
   "source": [
    "node_labels = []\n",
    "for col in steps_df.columns[5:]:\n",
    "    status_labels = list(steps_df[col].unique())\n",
    "    step_number = col.split('_')[1]\n",
    "    numbered_status_labels = [f'{step_number}_{item}' for item in status_labels]\n",
    "    node_labels += numbered_status_labels\n",
    "    \n",
    "node_dict = {y:x for x, y in enumerate(node_labels)}"
   ]
  },
  {
   "cell_type": "code",
   "execution_count": null,
   "id": "b514fdeb-8ecf-4720-92fb-6317ea8ad409",
   "metadata": {},
   "outputs": [],
   "source": [
    "steps_for_diagram = steps_df.copy()[['WONUM']+list(steps_df.columns[5:])]\n",
    "\n",
    "for col in steps_for_diagram.columns[1:]:\n",
    "    step_number = col.split('_')[1]\n",
    "    steps_for_diagram[col] = steps_for_diagram[col].apply(lambda x: f'{step_number}_{x}')\n",
    "    steps_for_diagram[col] = steps_for_diagram[col].map(node_dict)"
   ]
  },
  {
   "cell_type": "code",
   "execution_count": null,
   "id": "cd709782-c2aa-497e-96f1-f26344038ee5",
   "metadata": {},
   "outputs": [],
   "source": [
    "source_nodes = []\n",
    "target_nodes = []\n",
    "\n",
    "for col in steps_for_diagram.columns[1:6]:\n",
    "    source_nodes += steps_for_diagram[col].to_list()\n",
    "    \n",
    "for col in steps_for_diagram.columns[2:7]:\n",
    "    target_nodes += steps_for_diagram[col].to_list()\n",
    "    \n",
    "values = [1]*len(source_nodes)"
   ]
  },
  {
   "cell_type": "code",
   "execution_count": null,
   "id": "dec18c23-acfc-4d99-8e9d-e4570850b0db",
   "metadata": {},
   "outputs": [],
   "source": [
    "fig = go.Figure(\n",
    "    data=[go.Sankey(\n",
    "        link = dict(\n",
    "            source = source_nodes,\n",
    "            target = target_nodes,\n",
    "            value = values\n",
    "        ))])\n",
    "\n",
    "fig.write_image(\"Outputs/my_fig.png\")\n",
    "\n",
    "'''plot(fig,\n",
    "     image_filename='sankey_plot_1', \n",
    "     image='png', \n",
    "     image_width=1000, \n",
    "     image_height=600, \n",
    "     auto_open = False\n",
    ")\n",
    "fig.show()'''"
   ]
  },
  {
   "cell_type": "code",
   "execution_count": null,
   "id": "88e2e597-e9cb-44ff-b29d-b0d308a50094",
   "metadata": {},
   "outputs": [],
   "source": [
    "t = pd.read_csv('Outputs/_STATUS_BY_PREV_STATUS/WTSCH.csv')"
   ]
  },
  {
   "cell_type": "code",
   "execution_count": null,
   "id": "e9ced2cc-ee27-47ab-b49b-9c2668367727",
   "metadata": {},
   "outputs": [],
   "source": [
    "t['STATUS'].value_counts(normalize = True)"
   ]
  },
  {
   "cell_type": "code",
   "execution_count": null,
   "id": "ea509e60-2118-48ef-ab69-3afee094d909",
   "metadata": {},
   "outputs": [],
   "source": []
  }
 ],
 "metadata": {
  "kernelspec": {
   "display_name": "Python 3 (ipykernel)",
   "language": "python",
   "name": "python3"
  },
  "language_info": {
   "codemirror_mode": {
    "name": "ipython",
    "version": 3
   },
   "file_extension": ".py",
   "mimetype": "text/x-python",
   "name": "python",
   "nbconvert_exporter": "python",
   "pygments_lexer": "ipython3",
   "version": "3.9.13"
  }
 },
 "nbformat": 4,
 "nbformat_minor": 5
}
